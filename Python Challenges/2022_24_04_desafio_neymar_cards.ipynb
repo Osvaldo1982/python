{
 "cells": [
  {
   "cell_type": "markdown",
   "metadata": {},
   "source": [
    "# Requerimentos"
   ]
  },
  {
   "cell_type": "code",
   "execution_count": null,
   "metadata": {
    "ExecuteTime": {
     "end_time": "2022-04-24T02:32:12.662304Z",
     "start_time": "2022-04-24T02:32:11.604200Z"
    }
   },
   "outputs": [],
   "source": [
    "import pandas as pd \n",
    "import numpy as np\n",
    "import scipy as sp\n",
    "import random \n",
    "import collections\n",
    "\n",
    "import seaborn as sns\n",
    "from matplotlib import pyplot as plt\n"
   ]
  },
  {
   "cell_type": "markdown",
   "metadata": {},
   "source": [
    "# Introdução\n",
    "\n",
    "## Enunciado"
   ]
  },
  {
   "cell_type": "code",
   "execution_count": null,
   "metadata": {
    "ExecuteTime": {
     "end_time": "2022-04-24T02:29:52.895511Z",
     "start_time": "2022-04-24T02:29:52.877562Z"
    }
   },
   "outputs": [],
   "source": [
    "def cria_lista_cards(n_jogador):\n",
    "    \n",
    "    #\n",
    "    lista1 = [f'jogador{i+1}' for i in range(n_jogador)]\n",
    "\n",
    "    #\n",
    "    lista2 = [i+1 for i in range(n_jogador)]\n",
    "    \n",
    "    #\n",
    "    lista3 = []\n",
    "    \n",
    "    #\n",
    "    aux = []\n",
    "    \n",
    "    #\n",
    "    for a in range(len(lista1)):\n",
    "        aux = [lista1[a]] * lista2[a]\n",
    "        n = len(aux)\n",
    "        for b in range(n):\n",
    "            lista3.append(aux[b])\n",
    "            \n",
    "    return lista3\n",
    "\n",
    "\n",
    "def realiza_sorteio(n,lista3,jogador_favorito):\n",
    "    \n",
    "    k = []\n",
    "    cards = []\n",
    "    \n",
    "    for i in range(n):\n",
    "        globals()[f'sorteio{i+1}'] = []\n",
    "        globals()[f'resultado{i+1}'] = []\n",
    "        globals()[f'sorteio{i+1}'] = random.sample(lista3, len(lista3))\n",
    "        globals()[f'sorteio{i+1}'] = globals()[f'sorteio{i+1}'][:globals()[f'sorteio{i+1}'].index(jogador_favorito)]\n",
    "        globals()[f'resultado{i+1}'] = collections.Counter(globals()[f'sorteio{i+1}'])\n",
    "        if globals()[f'resultado{i+1}'] == {}:\n",
    "            k.append(0)\n",
    "            cards.append('')\n",
    "        else:    \n",
    "            k.append(max(globals()[f'resultado{i+1}'].values()))\n",
    "            cards.append(max(globals()[f'resultado{i+1}'], key = globals()[f'resultado{i+1}'].get))\n",
    "            \n",
    "    return k, cards"
   ]
  },
  {
   "cell_type": "code",
   "execution_count": null,
   "metadata": {
    "ExecuteTime": {
     "end_time": "2022-04-24T02:42:54.450644Z",
     "start_time": "2022-04-24T02:42:54.437678Z"
    }
   },
   "outputs": [],
   "source": [
    "len(lista3)"
   ]
  },
  {
   "cell_type": "code",
   "execution_count": null,
   "metadata": {
    "ExecuteTime": {
     "end_time": "2022-04-24T02:42:45.564502Z",
     "start_time": "2022-04-24T02:42:45.543606Z"
    }
   },
   "outputs": [],
   "source": [
    "#\n",
    "lista3 = cria_lista_cards(n_jogador = 20)\n",
    "\n",
    "#\n",
    "collections.Counter(lista3)"
   ]
  },
  {
   "cell_type": "code",
   "execution_count": null,
   "metadata": {
    "ExecuteTime": {
     "end_time": "2022-04-24T02:37:43.571871Z",
     "start_time": "2022-04-24T02:37:43.308582Z"
    }
   },
   "outputs": [],
   "source": [
    "#\n",
    "k,cards = realiza_sorteio(n = 5000, lista3 = lista3, jogador_favorito = 'jogador1')\n",
    "\n",
    "#\n",
    "np.mean(k)"
   ]
  },
  {
   "cell_type": "code",
   "execution_count": null,
   "metadata": {
    "ExecuteTime": {
     "end_time": "2022-04-24T02:37:52.898010Z",
     "start_time": "2022-04-24T02:37:52.624306Z"
    }
   },
   "outputs": [],
   "source": [
    "sns.displot(k)"
   ]
  },
  {
   "cell_type": "code",
   "execution_count": null,
   "metadata": {},
   "outputs": [],
   "source": []
  }
 ],
 "metadata": {
  "hide_input": false,
  "kernelspec": {
   "display_name": "Python 3",
   "language": "python",
   "name": "python3"
  },
  "language_info": {
   "codemirror_mode": {
    "name": "ipython",
    "version": 3
   },
   "file_extension": ".py",
   "mimetype": "text/x-python",
   "name": "python",
   "nbconvert_exporter": "python",
   "pygments_lexer": "ipython3",
   "version": "3.8.3"
  },
  "latex_envs": {
   "LaTeX_envs_menu_present": true,
   "autoclose": false,
   "autocomplete": true,
   "bibliofile": "biblio.bib",
   "cite_by": "apalike",
   "current_citInitial": 1,
   "eqLabelWithNumbers": true,
   "eqNumInitial": 1,
   "hotkeys": {
    "equation": "Ctrl-E",
    "itemize": "Ctrl-I"
   },
   "labels_anchors": false,
   "latex_user_defs": false,
   "report_style_numbering": false,
   "user_envs_cfg": false
  },
  "toc": {
   "base_numbering": 1,
   "nav_menu": {},
   "number_sections": true,
   "sideBar": true,
   "skip_h1_title": false,
   "title_cell": "Table of Contents",
   "title_sidebar": "Contents",
   "toc_cell": false,
   "toc_position": {},
   "toc_section_display": true,
   "toc_window_display": false
  },
  "varInspector": {
   "cols": {
    "lenName": 16,
    "lenType": 16,
    "lenVar": 40
   },
   "kernels_config": {
    "python": {
     "delete_cmd_postfix": "",
     "delete_cmd_prefix": "del ",
     "library": "var_list.py",
     "varRefreshCmd": "print(var_dic_list())"
    },
    "r": {
     "delete_cmd_postfix": ") ",
     "delete_cmd_prefix": "rm(",
     "library": "var_list.r",
     "varRefreshCmd": "cat(var_dic_list()) "
    }
   },
   "types_to_exclude": [
    "module",
    "function",
    "builtin_function_or_method",
    "instance",
    "_Feature"
   ],
   "window_display": false
  }
 },
 "nbformat": 4,
 "nbformat_minor": 4
}
