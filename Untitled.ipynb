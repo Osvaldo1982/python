{
 "cells": [
  {
   "cell_type": "raw",
   "metadata": {
    "ExecuteTime": {
     "end_time": "2021-12-06T22:13:00.695528Z",
     "start_time": "2021-12-06T22:13:00.183766Z"
    }
   },
   "source": [
    "import pandas as pd\n",
    "from raceplotly.plots import barplot\n",
    "\n",
    "data = pd.read_csv('https://raw.githubusercontent.com/lc5415/raceplotly/main/example/FAOSTAT_data.csv')\n",
    "\n",
    "# To add specific color to the categories, a new dictionary with rgb values for each category has to be created.\n",
    "# Assigning colors to the categories.\n",
    "colors = {'Sugar cane': 'rgba(0, 76, 109, 1)',\n",
    "          'Potatoes': 'rgb(208, 210, 211)',\n",
    "          'Wheat': 'rgb(208, 210, 211)',\n",
    "          'Rice, paddy':'rgba(66, 114, 146, 1)',\n",
    "          'Maize':'rgba(40, 95, 127, 1)',\n",
    "          'Sugar beet':'rgb(208, 210, 211)',\n",
    "          'Rice, paddy (rice milled equivalent)':'rgb(208, 210, 211)',\n",
    "          'Sweet potatoes':'rgb(208, 210, 211)',\n",
    "          'Vegetables, fresh nes':'rgb(208, 210, 211)'}\n",
    "# Default color for category will be assigned randomly if not specified explicitly\n",
    "\n",
    "my_raceplot = barplot(data,  item_column='Item', value_column='Value', time_column='Year', item_color=colors)\n",
    "\n",
    "# In this case color for 'Rice, paddy (rice milled equivalent)', 'Sugar beet' and 'Sweet potatoes' will be randomly assingned\n",
    "# Default color for cateogry is black when color is not specifed explicitly\n",
    "\n",
    "# Mapping the items with the color for the whole dataset.\n",
    "data['color'] = data['Item'].map(colors)\n",
    "\n",
    "my_raceplot = barplot(data,\n",
    "item_column='Item',\n",
    "value_column='Value',\n",
    "time_column='Year',\n",
    "item_color='color')\n",
    "\n",
    "my_raceplot.plot(item_label = 'Top 10 crops',\n",
    "value_label = 'Production quantity (tonnes)',\n",
    "time_label = 'Year: ',\n",
    "## overwrites default `Date: `\n",
    "frame_duration = 800)"
   ]
  },
  {
   "cell_type": "code",
   "execution_count": 3,
   "metadata": {
    "ExecuteTime": {
     "end_time": "2021-12-06T22:14:26.151902Z",
     "start_time": "2021-12-06T22:14:26.125966Z"
    }
   },
   "outputs": [],
   "source": [
    "import pandas as pd\n",
    "from raceplotly.plots import barplot\n",
    "\n",
    "data = pd.read_csv('https://raw.githubusercontent.com/lc5415/raceplotly/main/example/FAOSTAT_data.csv')\n",
    "\n",
    "my_raceplot = barplot(data,  item_column='Item', value_column='Value', time_column='Year')\n",
    "\n",
    "my_raceplot.plot(item_label = 'Top 10 crops', value_label = 'Production quantity (tonnes)', frame_duration = 800)"
   ]
  },
  {
   "cell_type": "code",
   "execution_count": 17,
   "metadata": {
    "ExecuteTime": {
     "end_time": "2021-12-07T00:14:48.477847Z",
     "start_time": "2021-12-07T00:14:48.450918Z"
    }
   },
   "outputs": [
    {
     "data": {
      "text/plain": [
       "Lentils                   58\n",
       "Pyrethrum, dried          58\n",
       "Groundnuts, with shell    58\n",
       "Garlic                    58\n",
       "Hemp tow waste            58\n",
       "                          ..\n",
       "Lupins                    58\n",
       "Wheat                     58\n",
       "Hops                      58\n",
       "Gums, natural             30\n",
       "Fruit, pome nes           27\n",
       "Name: Item, Length: 163, dtype: int64"
      ]
     },
     "execution_count": 17,
     "metadata": {},
     "output_type": "execute_result"
    }
   ],
   "source": [
    "data.Item.value_counts()"
   ]
  },
  {
   "cell_type": "code",
   "execution_count": 15,
   "metadata": {
    "ExecuteTime": {
     "end_time": "2021-12-07T00:13:51.658896Z",
     "start_time": "2021-12-07T00:13:51.562172Z"
    }
   },
   "outputs": [
    {
     "data": {
      "text/html": [
       "<div>\n",
       "<style scoped>\n",
       "    .dataframe tbody tr th:only-of-type {\n",
       "        vertical-align: middle;\n",
       "    }\n",
       "\n",
       "    .dataframe tbody tr th {\n",
       "        vertical-align: top;\n",
       "    }\n",
       "\n",
       "    .dataframe thead th {\n",
       "        text-align: right;\n",
       "    }\n",
       "</style>\n",
       "<table border=\"1\" class=\"dataframe\">\n",
       "  <thead>\n",
       "    <tr style=\"text-align: right;\">\n",
       "      <th></th>\n",
       "      <th>Domain Code</th>\n",
       "      <th>Domain</th>\n",
       "      <th>Area Code</th>\n",
       "      <th>Area</th>\n",
       "      <th>Element Code</th>\n",
       "      <th>Element</th>\n",
       "      <th>Item Code</th>\n",
       "      <th>Item</th>\n",
       "      <th>Year Code</th>\n",
       "      <th>Year</th>\n",
       "      <th>Unit</th>\n",
       "      <th>Value</th>\n",
       "      <th>Flag</th>\n",
       "      <th>Flag Description</th>\n",
       "      <th>color</th>\n",
       "    </tr>\n",
       "  </thead>\n",
       "  <tbody>\n",
       "    <tr>\n",
       "      <th>0</th>\n",
       "      <td>QC</td>\n",
       "      <td>Crops</td>\n",
       "      <td>5000</td>\n",
       "      <td>World</td>\n",
       "      <td>5510</td>\n",
       "      <td>Production</td>\n",
       "      <td>800</td>\n",
       "      <td>Agave fibres nes</td>\n",
       "      <td>1961</td>\n",
       "      <td>1961</td>\n",
       "      <td>tonnes</td>\n",
       "      <td>34600.0</td>\n",
       "      <td>A</td>\n",
       "      <td>Aggregate, may include official, semi-official...</td>\n",
       "      <td>rgb(139, 128, 188)</td>\n",
       "    </tr>\n",
       "    <tr>\n",
       "      <th>1</th>\n",
       "      <td>QC</td>\n",
       "      <td>Crops</td>\n",
       "      <td>5000</td>\n",
       "      <td>World</td>\n",
       "      <td>5510</td>\n",
       "      <td>Production</td>\n",
       "      <td>800</td>\n",
       "      <td>Agave fibres nes</td>\n",
       "      <td>1962</td>\n",
       "      <td>1962</td>\n",
       "      <td>tonnes</td>\n",
       "      <td>32950.0</td>\n",
       "      <td>A</td>\n",
       "      <td>Aggregate, may include official, semi-official...</td>\n",
       "      <td>rgb(139, 128, 188)</td>\n",
       "    </tr>\n",
       "    <tr>\n",
       "      <th>2</th>\n",
       "      <td>QC</td>\n",
       "      <td>Crops</td>\n",
       "      <td>5000</td>\n",
       "      <td>World</td>\n",
       "      <td>5510</td>\n",
       "      <td>Production</td>\n",
       "      <td>800</td>\n",
       "      <td>Agave fibres nes</td>\n",
       "      <td>1963</td>\n",
       "      <td>1963</td>\n",
       "      <td>tonnes</td>\n",
       "      <td>35000.0</td>\n",
       "      <td>A</td>\n",
       "      <td>Aggregate, may include official, semi-official...</td>\n",
       "      <td>rgb(139, 128, 188)</td>\n",
       "    </tr>\n",
       "    <tr>\n",
       "      <th>3</th>\n",
       "      <td>QC</td>\n",
       "      <td>Crops</td>\n",
       "      <td>5000</td>\n",
       "      <td>World</td>\n",
       "      <td>5510</td>\n",
       "      <td>Production</td>\n",
       "      <td>800</td>\n",
       "      <td>Agave fibres nes</td>\n",
       "      <td>1964</td>\n",
       "      <td>1964</td>\n",
       "      <td>tonnes</td>\n",
       "      <td>35124.0</td>\n",
       "      <td>A</td>\n",
       "      <td>Aggregate, may include official, semi-official...</td>\n",
       "      <td>rgb(139, 128, 188)</td>\n",
       "    </tr>\n",
       "    <tr>\n",
       "      <th>4</th>\n",
       "      <td>QC</td>\n",
       "      <td>Crops</td>\n",
       "      <td>5000</td>\n",
       "      <td>World</td>\n",
       "      <td>5510</td>\n",
       "      <td>Production</td>\n",
       "      <td>800</td>\n",
       "      <td>Agave fibres nes</td>\n",
       "      <td>1965</td>\n",
       "      <td>1965</td>\n",
       "      <td>tonnes</td>\n",
       "      <td>35721.0</td>\n",
       "      <td>A</td>\n",
       "      <td>Aggregate, may include official, semi-official...</td>\n",
       "      <td>rgb(139, 128, 188)</td>\n",
       "    </tr>\n",
       "    <tr>\n",
       "      <th>...</th>\n",
       "      <td>...</td>\n",
       "      <td>...</td>\n",
       "      <td>...</td>\n",
       "      <td>...</td>\n",
       "      <td>...</td>\n",
       "      <td>...</td>\n",
       "      <td>...</td>\n",
       "      <td>...</td>\n",
       "      <td>...</td>\n",
       "      <td>...</td>\n",
       "      <td>...</td>\n",
       "      <td>...</td>\n",
       "      <td>...</td>\n",
       "      <td>...</td>\n",
       "      <td>...</td>\n",
       "    </tr>\n",
       "    <tr>\n",
       "      <th>9390</th>\n",
       "      <td>QC</td>\n",
       "      <td>Crops</td>\n",
       "      <td>5000</td>\n",
       "      <td>World</td>\n",
       "      <td>5510</td>\n",
       "      <td>Production</td>\n",
       "      <td>135</td>\n",
       "      <td>Yautia (cocoyam)</td>\n",
       "      <td>2014</td>\n",
       "      <td>2014</td>\n",
       "      <td>tonnes</td>\n",
       "      <td>548968.0</td>\n",
       "      <td>A</td>\n",
       "      <td>Aggregate, may include official, semi-official...</td>\n",
       "      <td>rgb(70, 217, 157)</td>\n",
       "    </tr>\n",
       "    <tr>\n",
       "      <th>9391</th>\n",
       "      <td>QC</td>\n",
       "      <td>Crops</td>\n",
       "      <td>5000</td>\n",
       "      <td>World</td>\n",
       "      <td>5510</td>\n",
       "      <td>Production</td>\n",
       "      <td>135</td>\n",
       "      <td>Yautia (cocoyam)</td>\n",
       "      <td>2015</td>\n",
       "      <td>2015</td>\n",
       "      <td>tonnes</td>\n",
       "      <td>515236.0</td>\n",
       "      <td>A</td>\n",
       "      <td>Aggregate, may include official, semi-official...</td>\n",
       "      <td>rgb(70, 217, 157)</td>\n",
       "    </tr>\n",
       "    <tr>\n",
       "      <th>9392</th>\n",
       "      <td>QC</td>\n",
       "      <td>Crops</td>\n",
       "      <td>5000</td>\n",
       "      <td>World</td>\n",
       "      <td>5510</td>\n",
       "      <td>Production</td>\n",
       "      <td>135</td>\n",
       "      <td>Yautia (cocoyam)</td>\n",
       "      <td>2016</td>\n",
       "      <td>2016</td>\n",
       "      <td>tonnes</td>\n",
       "      <td>485076.0</td>\n",
       "      <td>A</td>\n",
       "      <td>Aggregate, may include official, semi-official...</td>\n",
       "      <td>rgb(70, 217, 157)</td>\n",
       "    </tr>\n",
       "    <tr>\n",
       "      <th>9393</th>\n",
       "      <td>QC</td>\n",
       "      <td>Crops</td>\n",
       "      <td>5000</td>\n",
       "      <td>World</td>\n",
       "      <td>5510</td>\n",
       "      <td>Production</td>\n",
       "      <td>135</td>\n",
       "      <td>Yautia (cocoyam)</td>\n",
       "      <td>2017</td>\n",
       "      <td>2017</td>\n",
       "      <td>tonnes</td>\n",
       "      <td>442831.0</td>\n",
       "      <td>A</td>\n",
       "      <td>Aggregate, may include official, semi-official...</td>\n",
       "      <td>rgb(70, 217, 157)</td>\n",
       "    </tr>\n",
       "    <tr>\n",
       "      <th>9394</th>\n",
       "      <td>QC</td>\n",
       "      <td>Crops</td>\n",
       "      <td>5000</td>\n",
       "      <td>World</td>\n",
       "      <td>5510</td>\n",
       "      <td>Production</td>\n",
       "      <td>135</td>\n",
       "      <td>Yautia (cocoyam)</td>\n",
       "      <td>2018</td>\n",
       "      <td>2018</td>\n",
       "      <td>tonnes</td>\n",
       "      <td>457416.0</td>\n",
       "      <td>A</td>\n",
       "      <td>Aggregate, may include official, semi-official...</td>\n",
       "      <td>rgb(70, 217, 157)</td>\n",
       "    </tr>\n",
       "  </tbody>\n",
       "</table>\n",
       "<p>9395 rows × 15 columns</p>\n",
       "</div>"
      ],
      "text/plain": [
       "     Domain Code Domain  Area Code   Area  Element Code     Element  \\\n",
       "0             QC  Crops       5000  World          5510  Production   \n",
       "1             QC  Crops       5000  World          5510  Production   \n",
       "2             QC  Crops       5000  World          5510  Production   \n",
       "3             QC  Crops       5000  World          5510  Production   \n",
       "4             QC  Crops       5000  World          5510  Production   \n",
       "...          ...    ...        ...    ...           ...         ...   \n",
       "9390          QC  Crops       5000  World          5510  Production   \n",
       "9391          QC  Crops       5000  World          5510  Production   \n",
       "9392          QC  Crops       5000  World          5510  Production   \n",
       "9393          QC  Crops       5000  World          5510  Production   \n",
       "9394          QC  Crops       5000  World          5510  Production   \n",
       "\n",
       "      Item Code              Item  Year Code  Year    Unit     Value Flag  \\\n",
       "0           800  Agave fibres nes       1961  1961  tonnes   34600.0    A   \n",
       "1           800  Agave fibres nes       1962  1962  tonnes   32950.0    A   \n",
       "2           800  Agave fibres nes       1963  1963  tonnes   35000.0    A   \n",
       "3           800  Agave fibres nes       1964  1964  tonnes   35124.0    A   \n",
       "4           800  Agave fibres nes       1965  1965  tonnes   35721.0    A   \n",
       "...         ...               ...        ...   ...     ...       ...  ...   \n",
       "9390        135  Yautia (cocoyam)       2014  2014  tonnes  548968.0    A   \n",
       "9391        135  Yautia (cocoyam)       2015  2015  tonnes  515236.0    A   \n",
       "9392        135  Yautia (cocoyam)       2016  2016  tonnes  485076.0    A   \n",
       "9393        135  Yautia (cocoyam)       2017  2017  tonnes  442831.0    A   \n",
       "9394        135  Yautia (cocoyam)       2018  2018  tonnes  457416.0    A   \n",
       "\n",
       "                                       Flag Description               color  \n",
       "0     Aggregate, may include official, semi-official...  rgb(139, 128, 188)  \n",
       "1     Aggregate, may include official, semi-official...  rgb(139, 128, 188)  \n",
       "2     Aggregate, may include official, semi-official...  rgb(139, 128, 188)  \n",
       "3     Aggregate, may include official, semi-official...  rgb(139, 128, 188)  \n",
       "4     Aggregate, may include official, semi-official...  rgb(139, 128, 188)  \n",
       "...                                                 ...                 ...  \n",
       "9390  Aggregate, may include official, semi-official...   rgb(70, 217, 157)  \n",
       "9391  Aggregate, may include official, semi-official...   rgb(70, 217, 157)  \n",
       "9392  Aggregate, may include official, semi-official...   rgb(70, 217, 157)  \n",
       "9393  Aggregate, may include official, semi-official...   rgb(70, 217, 157)  \n",
       "9394  Aggregate, may include official, semi-official...   rgb(70, 217, 157)  \n",
       "\n",
       "[9395 rows x 15 columns]"
      ]
     },
     "execution_count": 15,
     "metadata": {},
     "output_type": "execute_result"
    }
   ],
   "source": [
    "data"
   ]
  },
  {
   "cell_type": "code",
   "execution_count": 8,
   "metadata": {
    "ExecuteTime": {
     "end_time": "2021-12-06T22:24:00.861360Z",
     "start_time": "2021-12-06T22:24:00.848357Z"
    }
   },
   "outputs": [],
   "source": [
    "from matplotlib.animation import FuncAnimation, PillowWriter"
   ]
  },
  {
   "cell_type": "code",
   "execution_count": 18,
   "metadata": {
    "ExecuteTime": {
     "end_time": "2021-12-07T00:15:42.863343Z",
     "start_time": "2021-12-07T00:15:41.587938Z"
    }
   },
   "outputs": [],
   "source": [
    "data = pd.read_csv('https://raw.githubusercontent.com/lc5415/raceplotly/main/example/FAOSTAT_data.csv')\n",
    "\n",
    "my_raceplot = barplot(data,  item_column='Item', value_column='Value', time_column='Year')\n",
    "\n",
    "plot = my_raceplot.plot(item_label = 'Top 10 crops', value_label = 'Production quantity (tonnes)', frame_duration = 1800)"
   ]
  },
  {
   "cell_type": "code",
   "execution_count": 19,
   "metadata": {
    "ExecuteTime": {
     "end_time": "2021-12-07T00:15:46.242433Z",
     "start_time": "2021-12-07T00:15:46.176575Z"
    }
   },
   "outputs": [
    {
     "data": {
      "application/vnd.plotly.v1+json": {
       "config": {
        "plotlyServerURL": "https://plot.ly"
       },
       "data": [
        {
         "cliponaxis": false,
         "hoverinfo": "all",
         "marker": {
          "color": [
           "rgb(47, 1, 85)",
           "rgb(36, 5, 133)",
           "rgb(146, 175, 50)",
           "rgb(27, 6, 239)",
           "rgb(28, 2, 204)",
           "rgb(116, 5, 156)",
           "rgb(179, 68, 56)",
           "rgb(130, 181, 111)",
           "rgb(255, 217, 83)",
           "rgb(104, 239, 194)"
          ]
         },
         "orientation": "h",
         "textangle": 0,
         "textposition": "outside",
         "texttemplate": "%{y}<br>%{x:.4s}",
         "type": "bar",
         "x": [
          71259839,
          72411104,
          98192635,
          143836304,
          160501987,
          205027583,
          215646633,
          222357231,
          270552196,
          447977522
         ],
         "y": [
          "Cassava",
          "Barley",
          "Sweet potatoes",
          "Rice, paddy (rice milled equivalent)",
          "Sugar beet",
          "Maize",
          "Rice, paddy",
          "Wheat",
          "Potatoes",
          "Sugar cane"
         ]
        }
       ],
       "frames": [
        {
         "data": [
          {
           "cliponaxis": false,
           "hoverinfo": "all",
           "hovertemplate": "<extra></extra>",
           "marker": {
            "color": [
             "rgb(47, 1, 85)",
             "rgb(36, 5, 133)",
             "rgb(146, 175, 50)",
             "rgb(27, 6, 239)",
             "rgb(28, 2, 204)",
             "rgb(116, 5, 156)",
             "rgb(179, 68, 56)",
             "rgb(130, 181, 111)",
             "rgb(255, 217, 83)",
             "rgb(104, 239, 194)"
            ]
           },
           "orientation": "h",
           "textangle": 0,
           "textposition": "outside",
           "texttemplate": "%{y}<br>%{x:.4s}",
           "type": "bar",
           "x": [
            71259839,
            72411104,
            98192635,
            143836304,
            160501987,
            205027583,
            215646633,
            222357231,
            270552196,
            447977522
           ],
           "y": [
            "Cassava",
            "Barley",
            "Sweet potatoes",
            "Rice, paddy (rice milled equivalent)",
            "Sugar beet",
            "Maize",
            "Rice, paddy",
            "Wheat",
            "Potatoes",
            "Sugar cane"
           ]
          }
         ],
         "layout": {
          "bargap": 0.15,
          "font": {
           "size": 14
          },
          "plot_bgcolor": "#FFFFFF",
          "xaxis": {
           "range": [
            0,
            1907024730
           ],
           "showline": true,
           "visible": true
          },
          "yaxis": {
           "showline": false,
           "visible": true
          }
         },
         "name": "1961"
        },
        {
         "data": [
          {
           "cliponaxis": false,
           "hoverinfo": "all",
           "hovertemplate": "<extra></extra>",
           "marker": {
            "color": [
             "rgb(47, 1, 85)",
             "rgb(36, 5, 133)",
             "rgb(146, 175, 50)",
             "rgb(28, 2, 204)",
             "rgb(27, 6, 239)",
             "rgb(116, 5, 156)",
             "rgb(179, 68, 56)",
             "rgb(130, 181, 111)",
             "rgb(255, 217, 83)",
             "rgb(104, 239, 194)"
            ]
           },
           "orientation": "h",
           "textangle": 0,
           "textposition": "outside",
           "texttemplate": "%{y}<br>%{x:.4s}",
           "type": "bar",
           "x": [
            74636680,
            88396959,
            105291106,
            149172711,
            151046350,
            204876937,
            226456297,
            250319146,
            252987460,
            436872640
           ],
           "y": [
            "Cassava",
            "Barley",
            "Sweet potatoes",
            "Sugar beet",
            "Rice, paddy (rice milled equivalent)",
            "Maize",
            "Rice, paddy",
            "Wheat",
            "Potatoes",
            "Sugar cane"
           ]
          }
         ],
         "layout": {
          "bargap": 0.15,
          "font": {
           "size": 14
          },
          "plot_bgcolor": "#FFFFFF",
          "xaxis": {
           "range": [
            0,
            1907024730
           ],
           "showline": true,
           "visible": true
          },
          "yaxis": {
           "showline": false,
           "visible": true
          }
         },
         "name": "1962"
        },
        {
         "data": [
          {
           "cliponaxis": false,
           "hoverinfo": "all",
           "hovertemplate": "<extra></extra>",
           "marker": {
            "color": [
             "rgb(47, 1, 85)",
             "rgb(36, 5, 133)",
             "rgb(146, 175, 50)",
             "rgb(27, 6, 239)",
             "rgb(28, 2, 204)",
             "rgb(116, 5, 156)",
             "rgb(130, 181, 111)",
             "rgb(179, 68, 56)",
             "rgb(255, 217, 83)",
             "rgb(104, 239, 194)"
            ]
           },
           "orientation": "h",
           "textangle": 0,
           "textposition": "outside",
           "texttemplate": "%{y}<br>%{x:.4s}",
           "type": "bar",
           "x": [
            77975688,
            90385850,
            98009159,
            164828514,
            164975629,
            220228333,
            233339473,
            247119211,
            269982498,
            439927902
           ],
           "y": [
            "Cassava",
            "Barley",
            "Sweet potatoes",
            "Rice, paddy (rice milled equivalent)",
            "Sugar beet",
            "Maize",
            "Wheat",
            "Rice, paddy",
            "Potatoes",
            "Sugar cane"
           ]
          }
         ],
         "layout": {
          "bargap": 0.15,
          "font": {
           "size": 14
          },
          "plot_bgcolor": "#FFFFFF",
          "xaxis": {
           "range": [
            0,
            1907024730
           ],
           "showline": true,
           "visible": true
          },
          "yaxis": {
           "showline": false,
           "visible": true
          }
         },
         "name": "1963"
        },
        {
         "data": [
          {
           "cliponaxis": false,
           "hoverinfo": "all",
           "hovertemplate": "<extra></extra>",
           "marker": {
            "color": [
             "rgb(47, 1, 85)",
             "rgb(146, 175, 50)",
             "rgb(36, 5, 133)",
             "rgb(27, 6, 239)",
             "rgb(116, 5, 156)",
             "rgb(28, 2, 204)",
             "rgb(179, 68, 56)",
             "rgb(130, 181, 111)",
             "rgb(255, 217, 83)",
             "rgb(104, 239, 194)"
            ]
           },
           "orientation": "h",
           "textangle": 0,
           "textposition": "outside",
           "texttemplate": "%{y}<br>%{x:.4s}",
           "type": "bar",
           "x": [
            82429399,
            93377412,
            95524923,
            175373614,
            215172627,
            216206931,
            262928956,
            268791657,
            284678614,
            480849768
           ],
           "y": [
            "Cassava",
            "Sweet potatoes",
            "Barley",
            "Rice, paddy (rice milled equivalent)",
            "Maize",
            "Sugar beet",
            "Rice, paddy",
            "Wheat",
            "Potatoes",
            "Sugar cane"
           ]
          }
         ],
         "layout": {
          "bargap": 0.15,
          "font": {
           "size": 14
          },
          "plot_bgcolor": "#FFFFFF",
          "xaxis": {
           "range": [
            0,
            1907024730
           ],
           "showline": true,
           "visible": true
          },
          "yaxis": {
           "showline": false,
           "visible": true
          }
         },
         "name": "1964"
        },
        {
         "data": [
          {
           "cliponaxis": false,
           "hoverinfo": "all",
           "hovertemplate": "<extra></extra>",
           "marker": {
            "color": [
             "rgb(47, 1, 85)",
             "rgb(36, 5, 133)",
             "rgb(146, 175, 50)",
             "rgb(27, 6, 239)",
             "rgb(28, 2, 204)",
             "rgb(116, 5, 156)",
             "rgb(179, 68, 56)",
             "rgb(130, 181, 111)",
             "rgb(255, 217, 83)",
             "rgb(104, 239, 194)"
            ]
           },
           "orientation": "h",
           "textangle": 0,
           "textposition": "outside",
           "texttemplate": "%{y}<br>%{x:.4s}",
           "type": "bar",
           "x": [
            85582843,
            92617012,
            108377879,
            169457796,
            197376224,
            226544256,
            254059664,
            263645963,
            270913502,
            531297486
           ],
           "y": [
            "Cassava",
            "Barley",
            "Sweet potatoes",
            "Rice, paddy (rice milled equivalent)",
            "Sugar beet",
            "Maize",
            "Rice, paddy",
            "Wheat",
            "Potatoes",
            "Sugar cane"
           ]
          }
         ],
         "layout": {
          "bargap": 0.15,
          "font": {
           "size": 14
          },
          "plot_bgcolor": "#FFFFFF",
          "xaxis": {
           "range": [
            0,
            1907024730
           ],
           "showline": true,
           "visible": true
          },
          "yaxis": {
           "showline": false,
           "visible": true
          }
         },
         "name": "1965"
        },
        {
         "data": [
          {
           "cliponaxis": false,
           "hoverinfo": "all",
           "hovertemplate": "<extra></extra>",
           "marker": {
            "color": [
             "rgb(47, 1, 85)",
             "rgb(36, 5, 133)",
             "rgb(146, 175, 50)",
             "rgb(27, 6, 239)",
             "rgb(28, 2, 204)",
             "rgb(116, 5, 156)",
             "rgb(179, 68, 56)",
             "rgb(255, 217, 83)",
             "rgb(130, 181, 111)",
             "rgb(104, 239, 194)"
            ]
           },
           "orientation": "h",
           "textangle": 0,
           "textposition": "outside",
           "texttemplate": "%{y}<br>%{x:.4s}",
           "type": "bar",
           "x": [
            84718809,
            100425696,
            119686566,
            174207899,
            212270253,
            245599160,
            261181258,
            281964109,
            303785460,
            531492823
           ],
           "y": [
            "Cassava",
            "Barley",
            "Sweet potatoes",
            "Rice, paddy (rice milled equivalent)",
            "Sugar beet",
            "Maize",
            "Rice, paddy",
            "Potatoes",
            "Wheat",
            "Sugar cane"
           ]
          }
         ],
         "layout": {
          "bargap": 0.15,
          "font": {
           "size": 14
          },
          "plot_bgcolor": "#FFFFFF",
          "xaxis": {
           "range": [
            0,
            1907024730
           ],
           "showline": true,
           "visible": true
          },
          "yaxis": {
           "showline": false,
           "visible": true
          }
         },
         "name": "1966"
        },
        {
         "data": [
          {
           "cliponaxis": false,
           "hoverinfo": "all",
           "hovertemplate": "<extra></extra>",
           "marker": {
            "color": [
             "rgb(47, 1, 85)",
             "rgb(36, 5, 133)",
             "rgb(146, 175, 50)",
             "rgb(27, 6, 239)",
             "rgb(28, 2, 204)",
             "rgb(116, 5, 156)",
             "rgb(179, 68, 56)",
             "rgb(130, 181, 111)",
             "rgb(255, 217, 83)",
             "rgb(104, 239, 194)"
            ]
           },
           "orientation": "h",
           "textangle": 0,
           "textposition": "outside",
           "texttemplate": "%{y}<br>%{x:.4s}",
           "type": "bar",
           "x": [
            88630176,
            103177495,
            118614438,
            185016704,
            233455177,
            272548473,
            277386363,
            294295876,
            296220305,
            518890895
           ],
           "y": [
            "Cassava",
            "Barley",
            "Sweet potatoes",
            "Rice, paddy (rice milled equivalent)",
            "Sugar beet",
            "Maize",
            "Rice, paddy",
            "Wheat",
            "Potatoes",
            "Sugar cane"
           ]
          }
         ],
         "layout": {
          "bargap": 0.15,
          "font": {
           "size": 14
          },
          "plot_bgcolor": "#FFFFFF",
          "xaxis": {
           "range": [
            0,
            1907024730
           ],
           "showline": true,
           "visible": true
          },
          "yaxis": {
           "showline": false,
           "visible": true
          }
         },
         "name": "1967"
        },
        {
         "data": [
          {
           "cliponaxis": false,
           "hoverinfo": "all",
           "hovertemplate": "<extra></extra>",
           "marker": {
            "color": [
             "rgb(47, 1, 85)",
             "rgb(36, 5, 133)",
             "rgb(146, 175, 50)",
             "rgb(27, 6, 239)",
             "rgb(28, 2, 204)",
             "rgb(116, 5, 156)",
             "rgb(179, 68, 56)",
             "rgb(255, 217, 83)",
             "rgb(130, 181, 111)",
             "rgb(104, 239, 194)"
            ]
           },
           "orientation": "h",
           "textangle": 0,
           "textposition": "outside",
           "texttemplate": "%{y}<br>%{x:.4s}",
           "type": "bar",
           "x": [
            93090059,
            113504505,
            118097469,
            192512413,
            248856658,
            255670551,
            288624308,
            303709120,
            326843941,
            506091880
           ],
           "y": [
            "Cassava",
            "Barley",
            "Sweet potatoes",
            "Rice, paddy (rice milled equivalent)",
            "Sugar beet",
            "Maize",
            "Rice, paddy",
            "Potatoes",
            "Wheat",
            "Sugar cane"
           ]
          }
         ],
         "layout": {
          "bargap": 0.15,
          "font": {
           "size": 14
          },
          "plot_bgcolor": "#FFFFFF",
          "xaxis": {
           "range": [
            0,
            1907024730
           ],
           "showline": true,
           "visible": true
          },
          "yaxis": {
           "showline": false,
           "visible": true
          }
         },
         "name": "1968"
        },
        {
         "data": [
          {
           "cliponaxis": false,
           "hoverinfo": "all",
           "hovertemplate": "<extra></extra>",
           "marker": {
            "color": [
             "rgb(47, 1, 85)",
             "rgb(36, 5, 133)",
             "rgb(146, 175, 50)",
             "rgb(27, 6, 239)",
             "rgb(28, 2, 204)",
             "rgb(116, 5, 156)",
             "rgb(255, 217, 83)",
             "rgb(179, 68, 56)",
             "rgb(130, 181, 111)",
             "rgb(104, 239, 194)"
            ]
           },
           "orientation": "h",
           "textangle": 0,
           "textposition": "outside",
           "texttemplate": "%{y}<br>%{x:.4s}",
           "type": "bar",
           "x": [
            95325330,
            118006371,
            126160704,
            197154789,
            216920772,
            269506068,
            278475710,
            295584391,
            308640283,
            538255737
           ],
           "y": [
            "Cassava",
            "Barley",
            "Sweet potatoes",
            "Rice, paddy (rice milled equivalent)",
            "Sugar beet",
            "Maize",
            "Potatoes",
            "Rice, paddy",
            "Wheat",
            "Sugar cane"
           ]
          }
         ],
         "layout": {
          "bargap": 0.15,
          "font": {
           "size": 14
          },
          "plot_bgcolor": "#FFFFFF",
          "xaxis": {
           "range": [
            0,
            1907024730
           ],
           "showline": true,
           "visible": true
          },
          "yaxis": {
           "showline": false,
           "visible": true
          }
         },
         "name": "1969"
        },
        {
         "data": [
          {
           "cliponaxis": false,
           "hoverinfo": "all",
           "hovertemplate": "<extra></extra>",
           "marker": {
            "color": [
             "rgb(47, 1, 85)",
             "rgb(36, 5, 133)",
             "rgb(146, 175, 50)",
             "rgb(27, 6, 239)",
             "rgb(28, 2, 204)",
             "rgb(116, 5, 156)",
             "rgb(255, 217, 83)",
             "rgb(130, 181, 111)",
             "rgb(179, 68, 56)",
             "rgb(104, 239, 194)"
            ]
           },
           "orientation": "h",
           "textangle": 0,
           "textposition": "outside",
           "texttemplate": "%{y}<br>%{x:.4s}",
           "type": "bar",
           "x": [
            98589699,
            119378695,
            136507488,
            211002584,
            224251952,
            265831145,
            298048017,
            310740954,
            316345703,
            608616105
           ],
           "y": [
            "Cassava",
            "Barley",
            "Sweet potatoes",
            "Rice, paddy (rice milled equivalent)",
            "Sugar beet",
            "Maize",
            "Potatoes",
            "Wheat",
            "Rice, paddy",
            "Sugar cane"
           ]
          }
         ],
         "layout": {
          "bargap": 0.15,
          "font": {
           "size": 14
          },
          "plot_bgcolor": "#FFFFFF",
          "xaxis": {
           "range": [
            0,
            1907024730
           ],
           "showline": true,
           "visible": true
          },
          "yaxis": {
           "showline": false,
           "visible": true
          }
         },
         "name": "1970"
        },
        {
         "data": [
          {
           "cliponaxis": false,
           "hoverinfo": "all",
           "hovertemplate": "<extra></extra>",
           "marker": {
            "color": [
             "rgb(47, 1, 85)",
             "rgb(146, 175, 50)",
             "rgb(36, 5, 133)",
             "rgb(27, 6, 239)",
             "rgb(28, 2, 204)",
             "rgb(255, 217, 83)",
             "rgb(116, 5, 156)",
             "rgb(179, 68, 56)",
             "rgb(130, 181, 111)",
             "rgb(104, 239, 194)"
            ]
           },
           "orientation": "h",
           "textangle": 0,
           "textposition": "outside",
           "texttemplate": "%{y}<br>%{x:.4s}",
           "type": "bar",
           "x": [
            98756434,
            127252781,
            131237044,
            211914188,
            227540795,
            279490572,
            313622622,
            317712426,
            347525581,
            582105426
           ],
           "y": [
            "Cassava",
            "Sweet potatoes",
            "Barley",
            "Rice, paddy (rice milled equivalent)",
            "Sugar beet",
            "Potatoes",
            "Maize",
            "Rice, paddy",
            "Wheat",
            "Sugar cane"
           ]
          }
         ],
         "layout": {
          "bargap": 0.15,
          "font": {
           "size": 14
          },
          "plot_bgcolor": "#FFFFFF",
          "xaxis": {
           "range": [
            0,
            1907024730
           ],
           "showline": true,
           "visible": true
          },
          "yaxis": {
           "showline": false,
           "visible": true
          }
         },
         "name": "1971"
        },
        {
         "data": [
          {
           "cliponaxis": false,
           "hoverinfo": "all",
           "hovertemplate": "<extra></extra>",
           "marker": {
            "color": [
             "rgb(47, 1, 85)",
             "rgb(146, 175, 50)",
             "rgb(36, 5, 133)",
             "rgb(27, 6, 239)",
             "rgb(28, 2, 204)",
             "rgb(255, 217, 83)",
             "rgb(179, 68, 56)",
             "rgb(116, 5, 156)",
             "rgb(130, 181, 111)",
             "rgb(104, 239, 194)"
            ]
           },
           "orientation": "h",
           "textangle": 0,
           "textposition": "outside",
           "texttemplate": "%{y}<br>%{x:.4s}",
           "type": "bar",
           "x": [
            101261515,
            121467494,
            132963909,
            204962388,
            240336963,
            272144812,
            307289937,
            308826290,
            343001429,
            569105570
           ],
           "y": [
            "Cassava",
            "Sweet potatoes",
            "Barley",
            "Rice, paddy (rice milled equivalent)",
            "Sugar beet",
            "Potatoes",
            "Rice, paddy",
            "Maize",
            "Wheat",
            "Sugar cane"
           ]
          }
         ],
         "layout": {
          "bargap": 0.15,
          "font": {
           "size": 14
          },
          "plot_bgcolor": "#FFFFFF",
          "xaxis": {
           "range": [
            0,
            1907024730
           ],
           "showline": true,
           "visible": true
          },
          "yaxis": {
           "showline": false,
           "visible": true
          }
         },
         "name": "1972"
        },
        {
         "data": [
          {
           "cliponaxis": false,
           "hoverinfo": "all",
           "hovertemplate": "<extra></extra>",
           "marker": {
            "color": [
             "rgb(47, 1, 85)",
             "rgb(36, 5, 133)",
             "rgb(146, 175, 50)",
             "rgb(27, 6, 239)",
             "rgb(28, 2, 204)",
             "rgb(255, 217, 83)",
             "rgb(116, 5, 156)",
             "rgb(179, 68, 56)",
             "rgb(130, 181, 111)",
             "rgb(104, 239, 194)"
            ]
           },
           "orientation": "h",
           "textangle": 0,
           "textposition": "outside",
           "texttemplate": "%{y}<br>%{x:.4s}",
           "type": "bar",
           "x": [
            101734795,
            146966081,
            152865329,
            223397535,
            250104320,
            307160130,
            318290469,
            334928838,
            369334126,
            600227145
           ],
           "y": [
            "Cassava",
            "Barley",
            "Sweet potatoes",
            "Rice, paddy (rice milled equivalent)",
            "Sugar beet",
            "Potatoes",
            "Maize",
            "Rice, paddy",
            "Wheat",
            "Sugar cane"
           ]
          }
         ],
         "layout": {
          "bargap": 0.15,
          "font": {
           "size": 14
          },
          "plot_bgcolor": "#FFFFFF",
          "xaxis": {
           "range": [
            0,
            1907024730
           ],
           "showline": true,
           "visible": true
          },
          "yaxis": {
           "showline": false,
           "visible": true
          }
         },
         "name": "1973"
        },
        {
         "data": [
          {
           "cliponaxis": false,
           "hoverinfo": "all",
           "hovertemplate": "<extra></extra>",
           "marker": {
            "color": [
             "rgb(47, 1, 85)",
             "rgb(146, 175, 50)",
             "rgb(36, 5, 133)",
             "rgb(27, 6, 239)",
             "rgb(28, 2, 204)",
             "rgb(255, 217, 83)",
             "rgb(116, 5, 156)",
             "rgb(179, 68, 56)",
             "rgb(130, 181, 111)",
             "rgb(104, 239, 194)"
            ]
           },
           "orientation": "h",
           "textangle": 0,
           "textposition": "outside",
           "texttemplate": "%{y}<br>%{x:.4s}",
           "type": "bar",
           "x": [
            104370567,
            137264243,
            148818870,
            221424400,
            234922029,
            284781339,
            306427347,
            331970614,
            358825442,
            648516497
           ],
           "y": [
            "Cassava",
            "Sweet potatoes",
            "Barley",
            "Rice, paddy (rice milled equivalent)",
            "Sugar beet",
            "Potatoes",
            "Maize",
            "Rice, paddy",
            "Wheat",
            "Sugar cane"
           ]
          }
         ],
         "layout": {
          "bargap": 0.15,
          "font": {
           "size": 14
          },
          "plot_bgcolor": "#FFFFFF",
          "xaxis": {
           "range": [
            0,
            1907024730
           ],
           "showline": true,
           "visible": true
          },
          "yaxis": {
           "showline": false,
           "visible": true
          }
         },
         "name": "1974"
        },
        {
         "data": [
          {
           "cliponaxis": false,
           "hoverinfo": "all",
           "hovertemplate": "<extra></extra>",
           "marker": {
            "color": [
             "rgb(47, 1, 85)",
             "rgb(36, 5, 133)",
             "rgb(146, 175, 50)",
             "rgb(27, 6, 239)",
             "rgb(28, 2, 204)",
             "rgb(255, 217, 83)",
             "rgb(116, 5, 156)",
             "rgb(130, 181, 111)",
             "rgb(179, 68, 56)",
             "rgb(104, 239, 194)"
            ]
           },
           "orientation": "h",
           "textangle": 0,
           "textposition": "outside",
           "texttemplate": "%{y}<br>%{x:.4s}",
           "type": "bar",
           "x": [
            110398445,
            135491720,
            141314403,
            238094381,
            251310276,
            270384075,
            341751971,
            355806146,
            356963090,
            655815792
           ],
           "y": [
            "Cassava",
            "Barley",
            "Sweet potatoes",
            "Rice, paddy (rice milled equivalent)",
            "Sugar beet",
            "Potatoes",
            "Maize",
            "Wheat",
            "Rice, paddy",
            "Sugar cane"
           ]
          }
         ],
         "layout": {
          "bargap": 0.15,
          "font": {
           "size": 14
          },
          "plot_bgcolor": "#FFFFFF",
          "xaxis": {
           "range": [
            0,
            1907024730
           ],
           "showline": true,
           "visible": true
          },
          "yaxis": {
           "showline": false,
           "visible": true
          }
         },
         "name": "1975"
        },
        {
         "data": [
          {
           "cliponaxis": false,
           "hoverinfo": "all",
           "hovertemplate": "<extra></extra>",
           "marker": {
            "color": [
             "rgb(47, 1, 85)",
             "rgb(146, 175, 50)",
             "rgb(36, 5, 133)",
             "rgb(27, 6, 239)",
             "rgb(255, 217, 83)",
             "rgb(28, 2, 204)",
             "rgb(179, 68, 56)",
             "rgb(116, 5, 156)",
             "rgb(130, 181, 111)",
             "rgb(104, 239, 194)"
            ]
           },
           "orientation": "h",
           "textangle": 0,
           "textposition": "outside",
           "texttemplate": "%{y}<br>%{x:.4s}",
           "type": "bar",
           "x": [
            113892497,
            133322031,
            166595806,
            231906870,
            272745276,
            296408369,
            347686462,
            352395866,
            419868031,
            687207538
           ],
           "y": [
            "Cassava",
            "Sweet potatoes",
            "Barley",
            "Rice, paddy (rice milled equivalent)",
            "Potatoes",
            "Sugar beet",
            "Rice, paddy",
            "Maize",
            "Wheat",
            "Sugar cane"
           ]
          }
         ],
         "layout": {
          "bargap": 0.15,
          "font": {
           "size": 14
          },
          "plot_bgcolor": "#FFFFFF",
          "xaxis": {
           "range": [
            0,
            1907024730
           ],
           "showline": true,
           "visible": true
          },
          "yaxis": {
           "showline": false,
           "visible": true
          }
         },
         "name": "1976"
        },
        {
         "data": [
          {
           "cliponaxis": false,
           "hoverinfo": "all",
           "hovertemplate": "<extra></extra>",
           "marker": {
            "color": [
             "rgb(47, 1, 85)",
             "rgb(146, 175, 50)",
             "rgb(36, 5, 133)",
             "rgb(27, 6, 239)",
             "rgb(255, 217, 83)",
             "rgb(28, 2, 204)",
             "rgb(179, 68, 56)",
             "rgb(116, 5, 156)",
             "rgb(130, 181, 111)",
             "rgb(104, 239, 194)"
            ]
           },
           "orientation": "h",
           "textangle": 0,
           "textposition": "outside",
           "texttemplate": "%{y}<br>%{x:.4s}",
           "type": "bar",
           "x": [
            118605256,
            143107584,
            156386493,
            246443929,
            279667694,
            288582476,
            369481153,
            371593355,
            382276677,
            734858286
           ],
           "y": [
            "Cassava",
            "Sweet potatoes",
            "Barley",
            "Rice, paddy (rice milled equivalent)",
            "Potatoes",
            "Sugar beet",
            "Rice, paddy",
            "Maize",
            "Wheat",
            "Sugar cane"
           ]
          }
         ],
         "layout": {
          "bargap": 0.15,
          "font": {
           "size": 14
          },
          "plot_bgcolor": "#FFFFFF",
          "xaxis": {
           "range": [
            0,
            1907024730
           ],
           "showline": true,
           "visible": true
          },
          "yaxis": {
           "showline": false,
           "visible": true
          }
         },
         "name": "1977"
        },
        {
         "data": [
          {
           "cliponaxis": false,
           "hoverinfo": "all",
           "hovertemplate": "<extra></extra>",
           "marker": {
            "color": [
             "rgb(47, 1, 85)",
             "rgb(146, 175, 50)",
             "rgb(36, 5, 133)",
             "rgb(27, 6, 239)",
             "rgb(28, 2, 204)",
             "rgb(255, 217, 83)",
             "rgb(179, 68, 56)",
             "rgb(116, 5, 156)",
             "rgb(130, 181, 111)",
             "rgb(104, 239, 194)"
            ]
           },
           "orientation": "h",
           "textangle": 0,
           "textposition": "outside",
           "texttemplate": "%{y}<br>%{x:.4s}",
           "type": "bar",
           "x": [
            123308473,
            151857764,
            174929309,
            256934233,
            282834069,
            291161652,
            385208745,
            393600091,
            443844880,
            774416858
           ],
           "y": [
            "Cassava",
            "Sweet potatoes",
            "Barley",
            "Rice, paddy (rice milled equivalent)",
            "Sugar beet",
            "Potatoes",
            "Rice, paddy",
            "Maize",
            "Wheat",
            "Sugar cane"
           ]
          }
         ],
         "layout": {
          "bargap": 0.15,
          "font": {
           "size": 14
          },
          "plot_bgcolor": "#FFFFFF",
          "xaxis": {
           "range": [
            0,
            1907024730
           ],
           "showline": true,
           "visible": true
          },
          "yaxis": {
           "showline": false,
           "visible": true
          }
         },
         "name": "1978"
        },
        {
         "data": [
          {
           "cliponaxis": false,
           "hoverinfo": "all",
           "hovertemplate": "<extra></extra>",
           "marker": {
            "color": [
             "rgb(47, 1, 85)",
             "rgb(146, 175, 50)",
             "rgb(36, 5, 133)",
             "rgb(27, 6, 239)",
             "rgb(28, 2, 204)",
             "rgb(255, 217, 83)",
             "rgb(179, 68, 56)",
             "rgb(116, 5, 156)",
             "rgb(130, 181, 111)",
             "rgb(104, 239, 194)"
            ]
           },
           "orientation": "h",
           "textangle": 0,
           "textposition": "outside",
           "texttemplate": "%{y}<br>%{x:.4s}",
           "type": "bar",
           "x": [
            119745423,
            137935647,
            154989948,
            250292923,
            262752809,
            297921605,
            375251758,
            418622993,
            422999301,
            770245178
           ],
           "y": [
            "Cassava",
            "Sweet potatoes",
            "Barley",
            "Rice, paddy (rice milled equivalent)",
            "Sugar beet",
            "Potatoes",
            "Rice, paddy",
            "Maize",
            "Wheat",
            "Sugar cane"
           ]
          }
         ],
         "layout": {
          "bargap": 0.15,
          "font": {
           "size": 14
          },
          "plot_bgcolor": "#FFFFFF",
          "xaxis": {
           "range": [
            0,
            1907024730
           ],
           "showline": true,
           "visible": true
          },
          "yaxis": {
           "showline": false,
           "visible": true
          }
         },
         "name": "1979"
        },
        {
         "data": [
          {
           "cliponaxis": false,
           "hoverinfo": "all",
           "hovertemplate": "<extra></extra>",
           "marker": {
            "color": [
             "rgb(47, 1, 85)",
             "rgb(146, 175, 50)",
             "rgb(36, 5, 133)",
             "rgb(255, 217, 83)",
             "rgb(27, 6, 239)",
             "rgb(28, 2, 204)",
             "rgb(116, 5, 156)",
             "rgb(179, 68, 56)",
             "rgb(130, 181, 111)",
             "rgb(104, 239, 194)"
            ]
           },
           "orientation": "h",
           "textangle": 0,
           "textposition": "outside",
           "texttemplate": "%{y}<br>%{x:.4s}",
           "type": "bar",
           "x": [
            124135066,
            137869239,
            156702822,
            240495788,
            264713164,
            267856451,
            396623388,
            396871310,
            440187901,
            734489200
           ],
           "y": [
            "Cassava",
            "Sweet potatoes",
            "Barley",
            "Potatoes",
            "Rice, paddy (rice milled equivalent)",
            "Sugar beet",
            "Maize",
            "Rice, paddy",
            "Wheat",
            "Sugar cane"
           ]
          }
         ],
         "layout": {
          "bargap": 0.15,
          "font": {
           "size": 14
          },
          "plot_bgcolor": "#FFFFFF",
          "xaxis": {
           "range": [
            0,
            1907024730
           ],
           "showline": true,
           "visible": true
          },
          "yaxis": {
           "showline": false,
           "visible": true
          }
         },
         "name": "1980"
        },
        {
         "data": [
          {
           "cliponaxis": false,
           "hoverinfo": "all",
           "hovertemplate": "<extra></extra>",
           "marker": {
            "color": [
             "rgb(146, 175, 50)",
             "rgb(47, 1, 85)",
             "rgb(36, 5, 133)",
             "rgb(255, 217, 83)",
             "rgb(27, 6, 239)",
             "rgb(28, 2, 204)",
             "rgb(179, 68, 56)",
             "rgb(116, 5, 156)",
             "rgb(130, 181, 111)",
             "rgb(104, 239, 194)"
            ]
           },
           "orientation": "h",
           "textangle": 0,
           "textposition": "outside",
           "texttemplate": "%{y}<br>%{x:.4s}",
           "type": "bar",
           "x": [
            125543727,
            127513877,
            149602582,
            267781520,
            273520179,
            287840286,
            410075231,
            446772517,
            449633986,
            799604214
           ],
           "y": [
            "Sweet potatoes",
            "Cassava",
            "Barley",
            "Potatoes",
            "Rice, paddy (rice milled equivalent)",
            "Sugar beet",
            "Rice, paddy",
            "Maize",
            "Wheat",
            "Sugar cane"
           ]
          }
         ],
         "layout": {
          "bargap": 0.15,
          "font": {
           "size": 14
          },
          "plot_bgcolor": "#FFFFFF",
          "xaxis": {
           "range": [
            0,
            1907024730
           ],
           "showline": true,
           "visible": true
          },
          "yaxis": {
           "showline": false,
           "visible": true
          }
         },
         "name": "1981"
        },
        {
         "data": [
          {
           "cliponaxis": false,
           "hoverinfo": "all",
           "hovertemplate": "<extra></extra>",
           "marker": {
            "color": [
             "rgb(47, 1, 85)",
             "rgb(146, 175, 50)",
             "rgb(36, 5, 133)",
             "rgb(255, 217, 83)",
             "rgb(27, 6, 239)",
             "rgb(28, 2, 204)",
             "rgb(179, 68, 56)",
             "rgb(116, 5, 156)",
             "rgb(130, 181, 111)",
             "rgb(104, 239, 194)"
            ]
           },
           "orientation": "h",
           "textangle": 0,
           "textposition": "outside",
           "texttemplate": "%{y}<br>%{x:.4s}",
           "type": "bar",
           "x": [
            128849568,
            129433910,
            161352537,
            265142602,
            281440016,
            291773194,
            421949049,
            448932280,
            476768609,
            907067880
           ],
           "y": [
            "Cassava",
            "Sweet potatoes",
            "Barley",
            "Potatoes",
            "Rice, paddy (rice milled equivalent)",
            "Sugar beet",
            "Rice, paddy",
            "Maize",
            "Wheat",
            "Sugar cane"
           ]
          }
         ],
         "layout": {
          "bargap": 0.15,
          "font": {
           "size": 14
          },
          "plot_bgcolor": "#FFFFFF",
          "xaxis": {
           "range": [
            0,
            1907024730
           ],
           "showline": true,
           "visible": true
          },
          "yaxis": {
           "showline": false,
           "visible": true
          }
         },
         "name": "1982"
        },
        {
         "data": [
          {
           "cliponaxis": false,
           "hoverinfo": "all",
           "hovertemplate": "<extra></extra>",
           "marker": {
            "color": [
             "rgb(47, 1, 85)",
             "rgb(146, 175, 50)",
             "rgb(36, 5, 133)",
             "rgb(255, 217, 83)",
             "rgb(28, 2, 204)",
             "rgb(27, 6, 239)",
             "rgb(116, 5, 156)",
             "rgb(179, 68, 56)",
             "rgb(130, 181, 111)",
             "rgb(104, 239, 194)"
            ]
           },
           "orientation": "h",
           "textangle": 0,
           "textposition": "outside",
           "texttemplate": "%{y}<br>%{x:.4s}",
           "type": "bar",
           "x": [
            126886287,
            137945719,
            159470171,
            264471009,
            274395485,
            298826869,
            347082034,
            448016295,
            489555281,
            903684353
           ],
           "y": [
            "Cassava",
            "Sweet potatoes",
            "Barley",
            "Potatoes",
            "Sugar beet",
            "Rice, paddy (rice milled equivalent)",
            "Maize",
            "Rice, paddy",
            "Wheat",
            "Sugar cane"
           ]
          }
         ],
         "layout": {
          "bargap": 0.15,
          "font": {
           "size": 14
          },
          "plot_bgcolor": "#FFFFFF",
          "xaxis": {
           "range": [
            0,
            1907024730
           ],
           "showline": true,
           "visible": true
          },
          "yaxis": {
           "showline": false,
           "visible": true
          }
         },
         "name": "1983"
        },
        {
         "data": [
          {
           "cliponaxis": false,
           "hoverinfo": "all",
           "hovertemplate": "<extra></extra>",
           "marker": {
            "color": [
             "rgb(146, 175, 50)",
             "rgb(47, 1, 85)",
             "rgb(36, 5, 133)",
             "rgb(255, 217, 83)",
             "rgb(28, 2, 204)",
             "rgb(27, 6, 239)",
             "rgb(116, 5, 156)",
             "rgb(179, 68, 56)",
             "rgb(130, 181, 111)",
             "rgb(104, 239, 194)"
            ]
           },
           "orientation": "h",
           "textangle": 0,
           "textposition": "outside",
           "texttemplate": "%{y}<br>%{x:.4s}",
           "type": "bar",
           "x": [
            133036563,
            133239818,
            169433845,
            290945972,
            296351939,
            310383713,
            450449992,
            465342898,
            512330225,
            929768246
           ],
           "y": [
            "Sweet potatoes",
            "Cassava",
            "Barley",
            "Potatoes",
            "Sugar beet",
            "Rice, paddy (rice milled equivalent)",
            "Maize",
            "Rice, paddy",
            "Wheat",
            "Sugar cane"
           ]
          }
         ],
         "layout": {
          "bargap": 0.15,
          "font": {
           "size": 14
          },
          "plot_bgcolor": "#FFFFFF",
          "xaxis": {
           "range": [
            0,
            1907024730
           ],
           "showline": true,
           "visible": true
          },
          "yaxis": {
           "showline": false,
           "visible": true
          }
         },
         "name": "1984"
        },
        {
         "data": [
          {
           "cliponaxis": false,
           "hoverinfo": "all",
           "hovertemplate": "<extra></extra>",
           "marker": {
            "color": [
             "rgb(146, 175, 50)",
             "rgb(47, 1, 85)",
             "rgb(36, 5, 133)",
             "rgb(255, 217, 83)",
             "rgb(28, 2, 204)",
             "rgb(27, 6, 239)",
             "rgb(179, 68, 56)",
             "rgb(116, 5, 156)",
             "rgb(130, 181, 111)",
             "rgb(104, 239, 194)"
            ]
           },
           "orientation": "h",
           "textangle": 0,
           "textposition": "outside",
           "texttemplate": "%{y}<br>%{x:.4s}",
           "type": "bar",
           "x": [
            122997023,
            135852865,
            172618338,
            281603760,
            284155160,
            312265770,
            468164572,
            485527301,
            499527392,
            933213589
           ],
           "y": [
            "Sweet potatoes",
            "Cassava",
            "Barley",
            "Potatoes",
            "Sugar beet",
            "Rice, paddy (rice milled equivalent)",
            "Rice, paddy",
            "Maize",
            "Wheat",
            "Sugar cane"
           ]
          }
         ],
         "layout": {
          "bargap": 0.15,
          "font": {
           "size": 14
          },
          "plot_bgcolor": "#FFFFFF",
          "xaxis": {
           "range": [
            0,
            1907024730
           ],
           "showline": true,
           "visible": true
          },
          "yaxis": {
           "showline": false,
           "visible": true
          }
         },
         "name": "1985"
        },
        {
         "data": [
          {
           "cliponaxis": false,
           "hoverinfo": "all",
           "hovertemplate": "<extra></extra>",
           "marker": {
            "color": [
             "rgb(111, 8, 236)",
             "rgb(47, 1, 85)",
             "rgb(36, 5, 133)",
             "rgb(28, 2, 204)",
             "rgb(255, 217, 83)",
             "rgb(27, 6, 239)",
             "rgb(179, 68, 56)",
             "rgb(116, 5, 156)",
             "rgb(130, 181, 111)",
             "rgb(104, 239, 194)"
            ]
           },
           "orientation": "h",
           "textangle": 0,
           "textposition": "outside",
           "texttemplate": "%{y}<br>%{x:.4s}",
           "type": "bar",
           "x": [
            129814219,
            134228164,
            177169275,
            286334048,
            286610518,
            312606386,
            468675242,
            478176622,
            528685222,
            934719186
           ],
           "y": [
            "Vegetables, fresh nes",
            "Cassava",
            "Barley",
            "Sugar beet",
            "Potatoes",
            "Rice, paddy (rice milled equivalent)",
            "Rice, paddy",
            "Maize",
            "Wheat",
            "Sugar cane"
           ]
          }
         ],
         "layout": {
          "bargap": 0.15,
          "font": {
           "size": 14
          },
          "plot_bgcolor": "#FFFFFF",
          "xaxis": {
           "range": [
            0,
            1907024730
           ],
           "showline": true,
           "visible": true
          },
          "yaxis": {
           "showline": false,
           "visible": true
          }
         },
         "name": "1986"
        },
        {
         "data": [
          {
           "cliponaxis": false,
           "hoverinfo": "all",
           "hovertemplate": "<extra></extra>",
           "marker": {
            "color": [
             "rgb(146, 175, 50)",
             "rgb(47, 1, 85)",
             "rgb(36, 5, 133)",
             "rgb(255, 217, 83)",
             "rgb(28, 2, 204)",
             "rgb(27, 6, 239)",
             "rgb(116, 5, 156)",
             "rgb(179, 68, 56)",
             "rgb(130, 181, 111)",
             "rgb(104, 239, 194)"
            ]
           },
           "orientation": "h",
           "textangle": 0,
           "textposition": "outside",
           "texttemplate": "%{y}<br>%{x:.4s}",
           "type": "bar",
           "x": [
            133652442,
            138134704,
            175288684,
            279415351,
            299751636,
            307780419,
            453115794,
            461439908,
            505075847,
            990319251
           ],
           "y": [
            "Sweet potatoes",
            "Cassava",
            "Barley",
            "Potatoes",
            "Sugar beet",
            "Rice, paddy (rice milled equivalent)",
            "Maize",
            "Rice, paddy",
            "Wheat",
            "Sugar cane"
           ]
          }
         ],
         "layout": {
          "bargap": 0.15,
          "font": {
           "size": 14
          },
          "plot_bgcolor": "#FFFFFF",
          "xaxis": {
           "range": [
            0,
            1907024730
           ],
           "showline": true,
           "visible": true
          },
          "yaxis": {
           "showline": false,
           "visible": true
          }
         },
         "name": "1987"
        },
        {
         "data": [
          {
           "cliponaxis": false,
           "hoverinfo": "all",
           "hovertemplate": "<extra></extra>",
           "marker": {
            "color": [
             "rgb(111, 8, 236)",
             "rgb(47, 1, 85)",
             "rgb(36, 5, 133)",
             "rgb(255, 217, 83)",
             "rgb(28, 2, 204)",
             "rgb(27, 6, 239)",
             "rgb(116, 5, 156)",
             "rgb(179, 68, 56)",
             "rgb(130, 181, 111)",
             "rgb(104, 239, 194)"
            ]
           },
           "orientation": "h",
           "textangle": 0,
           "textposition": "outside",
           "texttemplate": "%{y}<br>%{x:.4s}",
           "type": "bar",
           "x": [
            137997867,
            144878275,
            163396406,
            268603004,
            293570876,
            325134421,
            403050234,
            487457902,
            500656538,
            992982513
           ],
           "y": [
            "Vegetables, fresh nes",
            "Cassava",
            "Barley",
            "Potatoes",
            "Sugar beet",
            "Rice, paddy (rice milled equivalent)",
            "Maize",
            "Rice, paddy",
            "Wheat",
            "Sugar cane"
           ]
          }
         ],
         "layout": {
          "bargap": 0.15,
          "font": {
           "size": 14
          },
          "plot_bgcolor": "#FFFFFF",
          "xaxis": {
           "range": [
            0,
            1907024730
           ],
           "showline": true,
           "visible": true
          },
          "yaxis": {
           "showline": false,
           "visible": true
          }
         },
         "name": "1988"
        },
        {
         "data": [
          {
           "cliponaxis": false,
           "hoverinfo": "all",
           "hovertemplate": "<extra></extra>",
           "marker": {
            "color": [
             "rgb(111, 8, 236)",
             "rgb(47, 1, 85)",
             "rgb(36, 5, 133)",
             "rgb(255, 217, 83)",
             "rgb(28, 2, 204)",
             "rgb(27, 6, 239)",
             "rgb(116, 5, 156)",
             "rgb(179, 68, 56)",
             "rgb(130, 181, 111)",
             "rgb(104, 239, 194)"
            ]
           },
           "orientation": "h",
           "textangle": 0,
           "textposition": "outside",
           "texttemplate": "%{y}<br>%{x:.4s}",
           "type": "bar",
           "x": [
            138710355,
            152885746,
            164166455,
            276583863,
            314402899,
            343119234,
            476874503,
            514421640,
            538206114,
            1017998783
           ],
           "y": [
            "Vegetables, fresh nes",
            "Cassava",
            "Barley",
            "Potatoes",
            "Sugar beet",
            "Rice, paddy (rice milled equivalent)",
            "Maize",
            "Rice, paddy",
            "Wheat",
            "Sugar cane"
           ]
          }
         ],
         "layout": {
          "bargap": 0.15,
          "font": {
           "size": 14
          },
          "plot_bgcolor": "#FFFFFF",
          "xaxis": {
           "range": [
            0,
            1907024730
           ],
           "showline": true,
           "visible": true
          },
          "yaxis": {
           "showline": false,
           "visible": true
          }
         },
         "name": "1989"
        },
        {
         "data": [
          {
           "cliponaxis": false,
           "hoverinfo": "all",
           "hovertemplate": "<extra></extra>",
           "marker": {
            "color": [
             "rgb(111, 8, 236)",
             "rgb(47, 1, 85)",
             "rgb(36, 5, 133)",
             "rgb(255, 217, 83)",
             "rgb(28, 2, 204)",
             "rgb(27, 6, 239)",
             "rgb(116, 5, 156)",
             "rgb(179, 68, 56)",
             "rgb(130, 181, 111)",
             "rgb(104, 239, 194)"
            ]
           },
           "orientation": "h",
           "textangle": 0,
           "textposition": "outside",
           "texttemplate": "%{y}<br>%{x:.4s}",
           "type": "bar",
           "x": [
            140314879,
            152378682,
            178074020,
            266825273,
            309186724,
            345885292,
            483620724,
            518568653,
            591330111,
            1052997497
           ],
           "y": [
            "Vegetables, fresh nes",
            "Cassava",
            "Barley",
            "Potatoes",
            "Sugar beet",
            "Rice, paddy (rice milled equivalent)",
            "Maize",
            "Rice, paddy",
            "Wheat",
            "Sugar cane"
           ]
          }
         ],
         "layout": {
          "bargap": 0.15,
          "font": {
           "size": 14
          },
          "plot_bgcolor": "#FFFFFF",
          "xaxis": {
           "range": [
            0,
            1907024730
           ],
           "showline": true,
           "visible": true
          },
          "yaxis": {
           "showline": false,
           "visible": true
          }
         },
         "name": "1990"
        },
        {
         "data": [
          {
           "cliponaxis": false,
           "hoverinfo": "all",
           "hovertemplate": "<extra></extra>",
           "marker": {
            "color": [
             "rgb(111, 8, 236)",
             "rgb(47, 1, 85)",
             "rgb(36, 5, 133)",
             "rgb(255, 217, 83)",
             "rgb(28, 2, 204)",
             "rgb(27, 6, 239)",
             "rgb(116, 5, 156)",
             "rgb(179, 68, 56)",
             "rgb(130, 181, 111)",
             "rgb(104, 239, 194)"
            ]
           },
           "orientation": "h",
           "textangle": 0,
           "textposition": "outside",
           "texttemplate": "%{y}<br>%{x:.4s}",
           "type": "bar",
           "x": [
            135062201,
            160406516,
            169582274,
            256993281,
            285129013,
            345847886,
            494407622,
            518512573,
            547820731,
            1086955621
           ],
           "y": [
            "Vegetables, fresh nes",
            "Cassava",
            "Barley",
            "Potatoes",
            "Sugar beet",
            "Rice, paddy (rice milled equivalent)",
            "Maize",
            "Rice, paddy",
            "Wheat",
            "Sugar cane"
           ]
          }
         ],
         "layout": {
          "bargap": 0.15,
          "font": {
           "size": 14
          },
          "plot_bgcolor": "#FFFFFF",
          "xaxis": {
           "range": [
            0,
            1907024730
           ],
           "showline": true,
           "visible": true
          },
          "yaxis": {
           "showline": false,
           "visible": true
          }
         },
         "name": "1991"
        },
        {
         "data": [
          {
           "cliponaxis": false,
           "hoverinfo": "all",
           "hovertemplate": "<extra></extra>",
           "marker": {
            "color": [
             "rgb(111, 8, 236)",
             "rgb(47, 1, 85)",
             "rgb(36, 5, 133)",
             "rgb(255, 217, 83)",
             "rgb(28, 2, 204)",
             "rgb(27, 6, 239)",
             "rgb(179, 68, 56)",
             "rgb(116, 5, 156)",
             "rgb(130, 181, 111)",
             "rgb(104, 239, 194)"
            ]
           },
           "orientation": "h",
           "textangle": 0,
           "textposition": "outside",
           "texttemplate": "%{y}<br>%{x:.4s}",
           "type": "bar",
           "x": [
            144904166,
            162004349,
            165533308,
            278980652,
            281711850,
            352094665,
            527878059,
            533789336,
            565111947,
            1107576853
           ],
           "y": [
            "Vegetables, fresh nes",
            "Cassava",
            "Barley",
            "Potatoes",
            "Sugar beet",
            "Rice, paddy (rice milled equivalent)",
            "Rice, paddy",
            "Maize",
            "Wheat",
            "Sugar cane"
           ]
          }
         ],
         "layout": {
          "bargap": 0.15,
          "font": {
           "size": 14
          },
          "plot_bgcolor": "#FFFFFF",
          "xaxis": {
           "range": [
            0,
            1907024730
           ],
           "showline": true,
           "visible": true
          },
          "yaxis": {
           "showline": false,
           "visible": true
          }
         },
         "name": "1992"
        },
        {
         "data": [
          {
           "cliponaxis": false,
           "hoverinfo": "all",
           "hovertemplate": "<extra></extra>",
           "marker": {
            "color": [
             "rgb(111, 8, 236)",
             "rgb(47, 1, 85)",
             "rgb(36, 5, 133)",
             "rgb(28, 2, 204)",
             "rgb(255, 217, 83)",
             "rgb(27, 6, 239)",
             "rgb(116, 5, 156)",
             "rgb(179, 68, 56)",
             "rgb(130, 181, 111)",
             "rgb(104, 239, 194)"
            ]
           },
           "orientation": "h",
           "textangle": 0,
           "textposition": "outside",
           "texttemplate": "%{y}<br>%{x:.4s}",
           "type": "bar",
           "x": [
            155428142,
            163185199,
            169542965,
            282190576,
            304619922,
            353242902,
            477221153,
            529599553,
            564739765,
            1020881319
           ],
           "y": [
            "Vegetables, fresh nes",
            "Cassava",
            "Barley",
            "Sugar beet",
            "Potatoes",
            "Rice, paddy (rice milled equivalent)",
            "Maize",
            "Rice, paddy",
            "Wheat",
            "Sugar cane"
           ]
          }
         ],
         "layout": {
          "bargap": 0.15,
          "font": {
           "size": 14
          },
          "plot_bgcolor": "#FFFFFF",
          "xaxis": {
           "range": [
            0,
            1907024730
           ],
           "showline": true,
           "visible": true
          },
          "yaxis": {
           "showline": false,
           "visible": true
          }
         },
         "name": "1993"
        },
        {
         "data": [
          {
           "cliponaxis": false,
           "hoverinfo": "all",
           "hovertemplate": "<extra></extra>",
           "marker": {
            "color": [
             "rgb(36, 5, 133)",
             "rgb(111, 8, 236)",
             "rgb(47, 1, 85)",
             "rgb(28, 2, 204)",
             "rgb(255, 217, 83)",
             "rgb(27, 6, 239)",
             "rgb(130, 181, 111)",
             "rgb(179, 68, 56)",
             "rgb(116, 5, 156)",
             "rgb(104, 239, 194)"
            ]
           },
           "orientation": "h",
           "textangle": 0,
           "textposition": "outside",
           "texttemplate": "%{y}<br>%{x:.4s}",
           "type": "bar",
           "x": [
            161019263,
            161088312,
            164501121,
            254453796,
            270203771,
            359240229,
            525435323,
            538591048,
            568663564,
            1084097363
           ],
           "y": [
            "Barley",
            "Vegetables, fresh nes",
            "Cassava",
            "Sugar beet",
            "Potatoes",
            "Rice, paddy (rice milled equivalent)",
            "Wheat",
            "Rice, paddy",
            "Maize",
            "Sugar cane"
           ]
          }
         ],
         "layout": {
          "bargap": 0.15,
          "font": {
           "size": 14
          },
          "plot_bgcolor": "#FFFFFF",
          "xaxis": {
           "range": [
            0,
            1907024730
           ],
           "showline": true,
           "visible": true
          },
          "yaxis": {
           "showline": false,
           "visible": true
          }
         },
         "name": "1994"
        },
        {
         "data": [
          {
           "cliponaxis": false,
           "hoverinfo": "all",
           "hovertemplate": "<extra></extra>",
           "marker": {
            "color": [
             "rgb(36, 5, 133)",
             "rgb(47, 1, 85)",
             "rgb(111, 8, 236)",
             "rgb(28, 2, 204)",
             "rgb(255, 217, 83)",
             "rgb(27, 6, 239)",
             "rgb(116, 5, 156)",
             "rgb(130, 181, 111)",
             "rgb(179, 68, 56)",
             "rgb(104, 239, 194)"
            ]
           },
           "orientation": "h",
           "textangle": 0,
           "textposition": "outside",
           "texttemplate": "%{y}<br>%{x:.4s}",
           "type": "bar",
           "x": [
            140724630,
            161787472,
            165885731,
            264504934,
            285333037,
            364957060,
            517299059,
            544357532,
            547162009,
            1163366858
           ],
           "y": [
            "Barley",
            "Cassava",
            "Vegetables, fresh nes",
            "Sugar beet",
            "Potatoes",
            "Rice, paddy (rice milled equivalent)",
            "Maize",
            "Wheat",
            "Rice, paddy",
            "Sugar cane"
           ]
          }
         ],
         "layout": {
          "bargap": 0.15,
          "font": {
           "size": 14
          },
          "plot_bgcolor": "#FFFFFF",
          "xaxis": {
           "range": [
            0,
            1907024730
           ],
           "showline": true,
           "visible": true
          },
          "yaxis": {
           "showline": false,
           "visible": true
          }
         },
         "name": "1995"
        },
        {
         "data": [
          {
           "cliponaxis": false,
           "hoverinfo": "all",
           "hovertemplate": "<extra></extra>",
           "marker": {
            "color": [
             "rgb(36, 5, 133)",
             "rgb(47, 1, 85)",
             "rgb(111, 8, 236)",
             "rgb(28, 2, 204)",
             "rgb(255, 217, 83)",
             "rgb(27, 6, 239)",
             "rgb(179, 68, 56)",
             "rgb(130, 181, 111)",
             "rgb(116, 5, 156)",
             "rgb(104, 239, 194)"
            ]
           },
           "orientation": "h",
           "textangle": 0,
           "textposition": "outside",
           "texttemplate": "%{y}<br>%{x:.4s}",
           "type": "bar",
           "x": [
            155017318,
            158373490,
            171922447,
            264461343,
            310493658,
            379294907,
            568658031,
            578616933,
            586146163,
            1218890125
           ],
           "y": [
            "Barley",
            "Cassava",
            "Vegetables, fresh nes",
            "Sugar beet",
            "Potatoes",
            "Rice, paddy (rice milled equivalent)",
            "Rice, paddy",
            "Wheat",
            "Maize",
            "Sugar cane"
           ]
          }
         ],
         "layout": {
          "bargap": 0.15,
          "font": {
           "size": 14
          },
          "plot_bgcolor": "#FFFFFF",
          "xaxis": {
           "range": [
            0,
            1907024730
           ],
           "showline": true,
           "visible": true
          },
          "yaxis": {
           "showline": false,
           "visible": true
          }
         },
         "name": "1996"
        },
        {
         "data": [
          {
           "cliponaxis": false,
           "hoverinfo": "all",
           "hovertemplate": "<extra></extra>",
           "marker": {
            "color": [
             "rgb(36, 5, 133)",
             "rgb(47, 1, 85)",
             "rgb(111, 8, 236)",
             "rgb(28, 2, 204)",
             "rgb(255, 217, 83)",
             "rgb(27, 6, 239)",
             "rgb(179, 68, 56)",
             "rgb(116, 5, 156)",
             "rgb(130, 181, 111)",
             "rgb(104, 239, 194)"
            ]
           },
           "orientation": "h",
           "textangle": 0,
           "textposition": "outside",
           "texttemplate": "%{y}<br>%{x:.4s}",
           "type": "bar",
           "x": [
            154359212,
            161747290,
            175581351,
            267973956,
            301079129,
            384950308,
            577136893,
            584411894,
            614651780,
            1246425310
           ],
           "y": [
            "Barley",
            "Cassava",
            "Vegetables, fresh nes",
            "Sugar beet",
            "Potatoes",
            "Rice, paddy (rice milled equivalent)",
            "Rice, paddy",
            "Maize",
            "Wheat",
            "Sugar cane"
           ]
          }
         ],
         "layout": {
          "bargap": 0.15,
          "font": {
           "size": 14
          },
          "plot_bgcolor": "#FFFFFF",
          "xaxis": {
           "range": [
            0,
            1907024730
           ],
           "showline": true,
           "visible": true
          },
          "yaxis": {
           "showline": false,
           "visible": true
          }
         },
         "name": "1997"
        },
        {
         "data": [
          {
           "cliponaxis": false,
           "hoverinfo": "all",
           "hovertemplate": "<extra></extra>",
           "marker": {
            "color": [
             "rgb(30, 140, 179)",
             "rgb(47, 1, 85)",
             "rgb(111, 8, 236)",
             "rgb(28, 2, 204)",
             "rgb(255, 217, 83)",
             "rgb(27, 6, 239)",
             "rgb(179, 68, 56)",
             "rgb(130, 181, 111)",
             "rgb(116, 5, 156)",
             "rgb(104, 239, 194)"
            ]
           },
           "orientation": "h",
           "textangle": 0,
           "textposition": "outside",
           "texttemplate": "%{y}<br>%{x:.4s}",
           "type": "bar",
           "x": [
            160128822,
            162613417,
            178523814,
            263032522,
            297834904,
            386068923,
            578813977,
            596175815,
            615081853,
            1263674263
           ],
           "y": [
            "Soybeans",
            "Cassava",
            "Vegetables, fresh nes",
            "Sugar beet",
            "Potatoes",
            "Rice, paddy (rice milled equivalent)",
            "Rice, paddy",
            "Wheat",
            "Maize",
            "Sugar cane"
           ]
          }
         ],
         "layout": {
          "bargap": 0.15,
          "font": {
           "size": 14
          },
          "plot_bgcolor": "#FFFFFF",
          "xaxis": {
           "range": [
            0,
            1907024730
           ],
           "showline": true,
           "visible": true
          },
          "yaxis": {
           "showline": false,
           "visible": true
          }
         },
         "name": "1998"
        },
        {
         "data": [
          {
           "cliponaxis": false,
           "hoverinfo": "all",
           "hovertemplate": "<extra></extra>",
           "marker": {
            "color": [
             "rgb(30, 140, 179)",
             "rgb(47, 1, 85)",
             "rgb(111, 8, 236)",
             "rgb(28, 2, 204)",
             "rgb(255, 217, 83)",
             "rgb(27, 6, 239)",
             "rgb(130, 181, 111)",
             "rgb(116, 5, 156)",
             "rgb(179, 68, 56)",
             "rgb(104, 239, 194)"
            ]
           },
           "orientation": "h",
           "textangle": 0,
           "textposition": "outside",
           "texttemplate": "%{y}<br>%{x:.4s}",
           "type": "bar",
           "x": [
            157815479,
            168847321,
            188064527,
            260565420,
            296076184,
            407655445,
            584763438,
            607434709,
            611177579,
            1282128475
           ],
           "y": [
            "Soybeans",
            "Cassava",
            "Vegetables, fresh nes",
            "Sugar beet",
            "Potatoes",
            "Rice, paddy (rice milled equivalent)",
            "Wheat",
            "Maize",
            "Rice, paddy",
            "Sugar cane"
           ]
          }
         ],
         "layout": {
          "bargap": 0.15,
          "font": {
           "size": 14
          },
          "plot_bgcolor": "#FFFFFF",
          "xaxis": {
           "range": [
            0,
            1907024730
           ],
           "showline": true,
           "visible": true
          },
          "yaxis": {
           "showline": false,
           "visible": true
          }
         },
         "name": "1999"
        },
        {
         "data": [
          {
           "cliponaxis": false,
           "hoverinfo": "all",
           "hovertemplate": "<extra></extra>",
           "marker": {
            "color": [
             "rgb(30, 140, 179)",
             "rgb(47, 1, 85)",
             "rgb(111, 8, 236)",
             "rgb(28, 2, 204)",
             "rgb(255, 217, 83)",
             "rgb(27, 6, 239)",
             "rgb(130, 181, 111)",
             "rgb(116, 5, 156)",
             "rgb(179, 68, 56)",
             "rgb(104, 239, 194)"
            ]
           },
           "orientation": "h",
           "textangle": 0,
           "textposition": "outside",
           "texttemplate": "%{y}<br>%{x:.4s}",
           "type": "bar",
           "x": [
            161308383,
            175846840,
            211610549,
            250148505,
            322775223,
            399311670,
            584999160,
            592038698,
            598668171,
            1252668856
           ],
           "y": [
            "Soybeans",
            "Cassava",
            "Vegetables, fresh nes",
            "Sugar beet",
            "Potatoes",
            "Rice, paddy (rice milled equivalent)",
            "Wheat",
            "Maize",
            "Rice, paddy",
            "Sugar cane"
           ]
          }
         ],
         "layout": {
          "bargap": 0.15,
          "font": {
           "size": 14
          },
          "plot_bgcolor": "#FFFFFF",
          "xaxis": {
           "range": [
            0,
            1907024730
           ],
           "showline": true,
           "visible": true
          },
          "yaxis": {
           "showline": false,
           "visible": true
          }
         },
         "name": "2000"
        },
        {
         "data": [
          {
           "cliponaxis": false,
           "hoverinfo": "all",
           "hovertemplate": "<extra></extra>",
           "marker": {
            "color": [
             "rgb(30, 140, 179)",
             "rgb(47, 1, 85)",
             "rgb(111, 8, 236)",
             "rgb(28, 2, 204)",
             "rgb(255, 217, 83)",
             "rgb(27, 6, 239)",
             "rgb(130, 181, 111)",
             "rgb(179, 68, 56)",
             "rgb(116, 5, 156)",
             "rgb(104, 239, 194)"
            ]
           },
           "orientation": "h",
           "textangle": 0,
           "textposition": "outside",
           "texttemplate": "%{y}<br>%{x:.4s}",
           "type": "bar",
           "x": [
            177020743,
            181687057,
            227180655,
            230314950,
            305492291,
            400364493,
            588243664,
            600246617,
            615152413,
            1257665353
           ],
           "y": [
            "Soybeans",
            "Cassava",
            "Vegetables, fresh nes",
            "Sugar beet",
            "Potatoes",
            "Rice, paddy (rice milled equivalent)",
            "Wheat",
            "Rice, paddy",
            "Maize",
            "Sugar cane"
           ]
          }
         ],
         "layout": {
          "bargap": 0.15,
          "font": {
           "size": 14
          },
          "plot_bgcolor": "#FFFFFF",
          "xaxis": {
           "range": [
            0,
            1907024730
           ],
           "showline": true,
           "visible": true
          },
          "yaxis": {
           "showline": false,
           "visible": true
          }
         },
         "name": "2001"
        },
        {
         "data": [
          {
           "cliponaxis": false,
           "hoverinfo": "all",
           "hovertemplate": "<extra></extra>",
           "marker": {
            "color": [
             "rgb(30, 140, 179)",
             "rgb(47, 1, 85)",
             "rgb(111, 8, 236)",
             "rgb(28, 2, 204)",
             "rgb(255, 217, 83)",
             "rgb(27, 6, 239)",
             "rgb(179, 68, 56)",
             "rgb(130, 181, 111)",
             "rgb(116, 5, 156)",
             "rgb(104, 239, 194)"
            ]
           },
           "orientation": "h",
           "textangle": 0,
           "textposition": "outside",
           "texttemplate": "%{y}<br>%{x:.4s}",
           "type": "bar",
           "x": [
            180950733,
            182642727,
            226692031,
            259606962,
            309800226,
            380891169,
            571051228,
            592045286,
            603551954,
            1326773955
           ],
           "y": [
            "Soybeans",
            "Cassava",
            "Vegetables, fresh nes",
            "Sugar beet",
            "Potatoes",
            "Rice, paddy (rice milled equivalent)",
            "Rice, paddy",
            "Wheat",
            "Maize",
            "Sugar cane"
           ]
          }
         ],
         "layout": {
          "bargap": 0.15,
          "font": {
           "size": 14
          },
          "plot_bgcolor": "#FFFFFF",
          "xaxis": {
           "range": [
            0,
            1907024730
           ],
           "showline": true,
           "visible": true
          },
          "yaxis": {
           "showline": false,
           "visible": true
          }
         },
         "name": "2002"
        },
        {
         "data": [
          {
           "cliponaxis": false,
           "hoverinfo": "all",
           "hovertemplate": "<extra></extra>",
           "marker": {
            "color": [
             "rgb(30, 140, 179)",
             "rgb(47, 1, 85)",
             "rgb(28, 2, 204)",
             "rgb(111, 8, 236)",
             "rgb(255, 217, 83)",
             "rgb(27, 6, 239)",
             "rgb(130, 181, 111)",
             "rgb(179, 68, 56)",
             "rgb(116, 5, 156)",
             "rgb(104, 239, 194)"
            ]
           },
           "orientation": "h",
           "textangle": 0,
           "textposition": "outside",
           "texttemplate": "%{y}<br>%{x:.4s}",
           "type": "bar",
           "x": [
            190573528,
            192215569,
            232734248,
            237183104,
            307591201,
            391483259,
            549974473,
            586931423,
            645055272,
            1371880978
           ],
           "y": [
            "Soybeans",
            "Cassava",
            "Sugar beet",
            "Vegetables, fresh nes",
            "Potatoes",
            "Rice, paddy (rice milled equivalent)",
            "Wheat",
            "Rice, paddy",
            "Maize",
            "Sugar cane"
           ]
          }
         ],
         "layout": {
          "bargap": 0.15,
          "font": {
           "size": 14
          },
          "plot_bgcolor": "#FFFFFF",
          "xaxis": {
           "range": [
            0,
            1907024730
           ],
           "showline": true,
           "visible": true
          },
          "yaxis": {
           "showline": false,
           "visible": true
          }
         },
         "name": "2003"
        },
        {
         "data": [
          {
           "cliponaxis": false,
           "hoverinfo": "all",
           "hovertemplate": "<extra></extra>",
           "marker": {
            "color": [
             "rgb(47, 1, 85)",
             "rgb(30, 140, 179)",
             "rgb(111, 8, 236)",
             "rgb(28, 2, 204)",
             "rgb(255, 217, 83)",
             "rgb(27, 6, 239)",
             "rgb(179, 68, 56)",
             "rgb(130, 181, 111)",
             "rgb(116, 5, 156)",
             "rgb(104, 239, 194)"
            ]
           },
           "orientation": "h",
           "textangle": 0,
           "textposition": "outside",
           "texttemplate": "%{y}<br>%{x:.4s}",
           "type": "bar",
           "x": [
            203831956,
            205548134,
            224325418,
            251589379,
            328165612,
            405101582,
            607348698,
            634666010,
            729517951,
            1333138427
           ],
           "y": [
            "Cassava",
            "Soybeans",
            "Vegetables, fresh nes",
            "Sugar beet",
            "Potatoes",
            "Rice, paddy (rice milled equivalent)",
            "Rice, paddy",
            "Wheat",
            "Maize",
            "Sugar cane"
           ]
          }
         ],
         "layout": {
          "bargap": 0.15,
          "font": {
           "size": 14
          },
          "plot_bgcolor": "#FFFFFF",
          "xaxis": {
           "range": [
            0,
            1907024730
           ],
           "showline": true,
           "visible": true
          },
          "yaxis": {
           "showline": false,
           "visible": true
          }
         },
         "name": "2004"
        },
        {
         "data": [
          {
           "cliponaxis": false,
           "hoverinfo": "all",
           "hovertemplate": "<extra></extra>",
           "marker": {
            "color": [
             "rgb(47, 1, 85)",
             "rgb(30, 140, 179)",
             "rgb(111, 8, 236)",
             "rgb(28, 2, 204)",
             "rgb(255, 217, 83)",
             "rgb(27, 6, 239)",
             "rgb(130, 181, 111)",
             "rgb(179, 68, 56)",
             "rgb(116, 5, 156)",
             "rgb(104, 239, 194)"
            ]
           },
           "orientation": "h",
           "textangle": 0,
           "textposition": "outside",
           "texttemplate": "%{y}<br>%{x:.4s}",
           "type": "bar",
           "x": [
            206533771,
            214542761,
            231771630,
            253737449,
            317675179,
            423028136,
            627020836,
            634225091,
            714191174,
            1306307695
           ],
           "y": [
            "Cassava",
            "Soybeans",
            "Vegetables, fresh nes",
            "Sugar beet",
            "Potatoes",
            "Rice, paddy (rice milled equivalent)",
            "Wheat",
            "Rice, paddy",
            "Maize",
            "Sugar cane"
           ]
          }
         ],
         "layout": {
          "bargap": 0.15,
          "font": {
           "size": 14
          },
          "plot_bgcolor": "#FFFFFF",
          "xaxis": {
           "range": [
            0,
            1907024730
           ],
           "showline": true,
           "visible": true
          },
          "yaxis": {
           "showline": false,
           "visible": true
          }
         },
         "name": "2005"
        },
        {
         "data": [
          {
           "cliponaxis": false,
           "hoverinfo": "all",
           "hovertemplate": "<extra></extra>",
           "marker": {
            "color": [
             "rgb(30, 140, 179)",
             "rgb(47, 1, 85)",
             "rgb(111, 8, 236)",
             "rgb(28, 2, 204)",
             "rgb(255, 217, 83)",
             "rgb(27, 6, 239)",
             "rgb(130, 181, 111)",
             "rgb(179, 68, 56)",
             "rgb(116, 5, 156)",
             "rgb(104, 239, 194)"
            ]
           },
           "orientation": "h",
           "textangle": 0,
           "textposition": "outside",
           "texttemplate": "%{y}<br>%{x:.4s}",
           "type": "bar",
           "x": [
            221558922,
            223636615,
            241884277,
            254025175,
            307572166,
            427350243,
            614381123,
            640705012,
            707937211,
            1417376025
           ],
           "y": [
            "Soybeans",
            "Cassava",
            "Vegetables, fresh nes",
            "Sugar beet",
            "Potatoes",
            "Rice, paddy (rice milled equivalent)",
            "Wheat",
            "Rice, paddy",
            "Maize",
            "Sugar cane"
           ]
          }
         ],
         "layout": {
          "bargap": 0.15,
          "font": {
           "size": 14
          },
          "plot_bgcolor": "#FFFFFF",
          "xaxis": {
           "range": [
            0,
            1907024730
           ],
           "showline": true,
           "visible": true
          },
          "yaxis": {
           "showline": false,
           "visible": true
          }
         },
         "name": "2006"
        },
        {
         "data": [
          {
           "cliponaxis": false,
           "hoverinfo": "all",
           "hovertemplate": "<extra></extra>",
           "marker": {
            "color": [
             "rgb(30, 140, 179)",
             "rgb(47, 1, 85)",
             "rgb(111, 8, 236)",
             "rgb(28, 2, 204)",
             "rgb(255, 217, 83)",
             "rgb(27, 6, 239)",
             "rgb(130, 181, 111)",
             "rgb(179, 68, 56)",
             "rgb(116, 5, 156)",
             "rgb(104, 239, 194)"
            ]
           },
           "orientation": "h",
           "textangle": 0,
           "textposition": "outside",
           "texttemplate": "%{y}<br>%{x:.4s}",
           "type": "bar",
           "x": [
            219793075,
            226974274,
            244610984,
            246945604,
            313191368,
            437923034,
            606595140,
            656556273,
            792732888,
            1605136205
           ],
           "y": [
            "Soybeans",
            "Cassava",
            "Vegetables, fresh nes",
            "Sugar beet",
            "Potatoes",
            "Rice, paddy (rice milled equivalent)",
            "Wheat",
            "Rice, paddy",
            "Maize",
            "Sugar cane"
           ]
          }
         ],
         "layout": {
          "bargap": 0.15,
          "font": {
           "size": 14
          },
          "plot_bgcolor": "#FFFFFF",
          "xaxis": {
           "range": [
            0,
            1907024730
           ],
           "showline": true,
           "visible": true
          },
          "yaxis": {
           "showline": false,
           "visible": true
          }
         },
         "name": "2007"
        },
        {
         "data": [
          {
           "cliponaxis": false,
           "hoverinfo": "all",
           "hovertemplate": "<extra></extra>",
           "marker": {
            "color": [
             "rgb(28, 2, 204)",
             "rgb(47, 1, 85)",
             "rgb(30, 140, 179)",
             "rgb(111, 8, 236)",
             "rgb(255, 217, 83)",
             "rgb(27, 6, 239)",
             "rgb(130, 181, 111)",
             "rgb(179, 68, 56)",
             "rgb(116, 5, 156)",
             "rgb(104, 239, 194)"
            ]
           },
           "orientation": "h",
           "textangle": 0,
           "textposition": "outside",
           "texttemplate": "%{y}<br>%{x:.4s}",
           "type": "bar",
           "x": [
            221199239,
            230081674,
            231223485,
            249305237,
            327188473,
            458262606,
            680294443,
            687050383,
            829240208,
            1721251508
           ],
           "y": [
            "Sugar beet",
            "Cassava",
            "Soybeans",
            "Vegetables, fresh nes",
            "Potatoes",
            "Rice, paddy (rice milled equivalent)",
            "Wheat",
            "Rice, paddy",
            "Maize",
            "Sugar cane"
           ]
          }
         ],
         "layout": {
          "bargap": 0.15,
          "font": {
           "size": 14
          },
          "plot_bgcolor": "#FFFFFF",
          "xaxis": {
           "range": [
            0,
            1907024730
           ],
           "showline": true,
           "visible": true
          },
          "yaxis": {
           "showline": false,
           "visible": true
          }
         },
         "name": "2008"
        },
        {
         "data": [
          {
           "cliponaxis": false,
           "hoverinfo": "all",
           "hovertemplate": "<extra></extra>",
           "marker": {
            "color": [
             "rgb(30, 140, 179)",
             "rgb(28, 2, 204)",
             "rgb(47, 1, 85)",
             "rgb(111, 8, 236)",
             "rgb(255, 217, 83)",
             "rgb(27, 6, 239)",
             "rgb(130, 181, 111)",
             "rgb(179, 68, 56)",
             "rgb(116, 5, 156)",
             "rgb(104, 239, 194)"
            ]
           },
           "orientation": "h",
           "textangle": 0,
           "textposition": "outside",
           "texttemplate": "%{y}<br>%{x:.4s}",
           "type": "bar",
           "x": [
            223380802,
            227985771,
            233794346,
            248581509,
            330740148,
            457333039,
            683639171,
            685656731,
            820072448,
            1677610596
           ],
           "y": [
            "Soybeans",
            "Sugar beet",
            "Cassava",
            "Vegetables, fresh nes",
            "Potatoes",
            "Rice, paddy (rice milled equivalent)",
            "Wheat",
            "Rice, paddy",
            "Maize",
            "Sugar cane"
           ]
          }
         ],
         "layout": {
          "bargap": 0.15,
          "font": {
           "size": 14
          },
          "plot_bgcolor": "#FFFFFF",
          "xaxis": {
           "range": [
            0,
            1907024730
           ],
           "showline": true,
           "visible": true
          },
          "yaxis": {
           "showline": false,
           "visible": true
          }
         },
         "name": "2009"
        },
        {
         "data": [
          {
           "cliponaxis": false,
           "hoverinfo": "all",
           "hovertemplate": "<extra></extra>",
           "marker": {
            "color": [
             "rgb(28, 2, 204)",
             "rgb(47, 1, 85)",
             "rgb(111, 8, 236)",
             "rgb(30, 140, 179)",
             "rgb(255, 217, 83)",
             "rgb(27, 6, 239)",
             "rgb(130, 181, 111)",
             "rgb(179, 68, 56)",
             "rgb(116, 5, 156)",
             "rgb(104, 239, 194)"
            ]
           },
           "orientation": "h",
           "textangle": 0,
           "textposition": "outside",
           "texttemplate": "%{y}<br>%{x:.4s}",
           "type": "bar",
           "x": [
            228408922,
            239296357,
            259746276,
            265088429,
            328616920,
            467659411,
            640802665,
            701138548,
            851679519,
            1682839957
           ],
           "y": [
            "Sugar beet",
            "Cassava",
            "Vegetables, fresh nes",
            "Soybeans",
            "Potatoes",
            "Rice, paddy (rice milled equivalent)",
            "Wheat",
            "Rice, paddy",
            "Maize",
            "Sugar cane"
           ]
          }
         ],
         "layout": {
          "bargap": 0.15,
          "font": {
           "size": 14
          },
          "plot_bgcolor": "#FFFFFF",
          "xaxis": {
           "range": [
            0,
            1907024730
           ],
           "showline": true,
           "visible": true
          },
          "yaxis": {
           "showline": false,
           "visible": true
          }
         },
         "name": "2010"
        },
        {
         "data": [
          {
           "cliponaxis": false,
           "hoverinfo": "all",
           "hovertemplate": "<extra></extra>",
           "marker": {
            "color": [
             "rgb(47, 1, 85)",
             "rgb(111, 8, 236)",
             "rgb(30, 140, 179)",
             "rgb(28, 2, 204)",
             "rgb(255, 217, 83)",
             "rgb(27, 6, 239)",
             "rgb(130, 181, 111)",
             "rgb(179, 68, 56)",
             "rgb(116, 5, 156)",
             "rgb(104, 239, 194)"
            ]
           },
           "orientation": "h",
           "textangle": 0,
           "textposition": "outside",
           "texttemplate": "%{y}<br>%{x:.4s}",
           "type": "bar",
           "x": [
            251822205,
            260842101,
            261601653,
            278833260,
            367889898,
            484492968,
            696898368,
            726376264,
            886680581,
            1794120501
           ],
           "y": [
            "Cassava",
            "Vegetables, fresh nes",
            "Soybeans",
            "Sugar beet",
            "Potatoes",
            "Rice, paddy (rice milled equivalent)",
            "Wheat",
            "Rice, paddy",
            "Maize",
            "Sugar cane"
           ]
          }
         ],
         "layout": {
          "bargap": 0.15,
          "font": {
           "size": 14
          },
          "plot_bgcolor": "#FFFFFF",
          "xaxis": {
           "range": [
            0,
            1907024730
           ],
           "showline": true,
           "visible": true
          },
          "yaxis": {
           "showline": false,
           "visible": true
          }
         },
         "name": "2011"
        },
        {
         "data": [
          {
           "cliponaxis": false,
           "hoverinfo": "all",
           "hovertemplate": "<extra></extra>",
           "marker": {
            "color": [
             "rgb(226, 101, 202)",
             "rgb(28, 2, 204)",
             "rgb(111, 8, 236)",
             "rgb(47, 1, 85)",
             "rgb(255, 217, 83)",
             "rgb(27, 6, 239)",
             "rgb(130, 181, 111)",
             "rgb(179, 68, 56)",
             "rgb(116, 5, 156)",
             "rgb(104, 239, 194)"
            ]
           },
           "orientation": "h",
           "textangle": 0,
           "textposition": "outside",
           "texttemplate": "%{y}<br>%{x:.4s}",
           "type": "bar",
           "x": [
            256568919,
            269637113,
            272044780,
            277683210,
            361003266,
            491310036,
            673728907,
            736596755,
            875039160,
            1831008220
           ],
           "y": [
            "Oil palm fruit",
            "Sugar beet",
            "Vegetables, fresh nes",
            "Cassava",
            "Potatoes",
            "Rice, paddy (rice milled equivalent)",
            "Wheat",
            "Rice, paddy",
            "Maize",
            "Sugar cane"
           ]
          }
         ],
         "layout": {
          "bargap": 0.15,
          "font": {
           "size": 14
          },
          "plot_bgcolor": "#FFFFFF",
          "xaxis": {
           "range": [
            0,
            1907024730
           ],
           "showline": true,
           "visible": true
          },
          "yaxis": {
           "showline": false,
           "visible": true
          }
         },
         "name": "2012"
        },
        {
         "data": [
          {
           "cliponaxis": false,
           "hoverinfo": "all",
           "hovertemplate": "<extra></extra>",
           "marker": {
            "color": [
             "rgb(226, 101, 202)",
             "rgb(30, 140, 179)",
             "rgb(111, 8, 236)",
             "rgb(47, 1, 85)",
             "rgb(255, 217, 83)",
             "rgb(27, 6, 239)",
             "rgb(130, 181, 111)",
             "rgb(179, 68, 56)",
             "rgb(116, 5, 156)",
             "rgb(104, 239, 194)"
            ]
           },
           "orientation": "h",
           "textangle": 0,
           "textposition": "outside",
           "texttemplate": "%{y}<br>%{x:.4s}",
           "type": "bar",
           "x": [
            265060825,
            277672608,
            277982471,
            278454322,
            365087514,
            495250794,
            710397103,
            742504938,
            1016207182,
            1901868866
           ],
           "y": [
            "Oil palm fruit",
            "Soybeans",
            "Vegetables, fresh nes",
            "Cassava",
            "Potatoes",
            "Rice, paddy (rice milled equivalent)",
            "Wheat",
            "Rice, paddy",
            "Maize",
            "Sugar cane"
           ]
          }
         ],
         "layout": {
          "bargap": 0.15,
          "font": {
           "size": 14
          },
          "plot_bgcolor": "#FFFFFF",
          "xaxis": {
           "range": [
            0,
            1907024730
           ],
           "showline": true,
           "visible": true
          },
          "yaxis": {
           "showline": false,
           "visible": true
          }
         },
         "name": "2013"
        },
        {
         "data": [
          {
           "cliponaxis": false,
           "hoverinfo": "all",
           "hovertemplate": "<extra></extra>",
           "marker": {
            "color": [
             "rgb(111, 8, 236)",
             "rgb(226, 101, 202)",
             "rgb(47, 1, 85)",
             "rgb(30, 140, 179)",
             "rgb(255, 217, 83)",
             "rgb(27, 6, 239)",
             "rgb(130, 181, 111)",
             "rgb(179, 68, 56)",
             "rgb(116, 5, 156)",
             "rgb(104, 239, 194)"
            ]
           },
           "orientation": "h",
           "textangle": 0,
           "textposition": "outside",
           "texttemplate": "%{y}<br>%{x:.4s}",
           "type": "bar",
           "x": [
            285693443,
            285916764,
            290942989,
            306348530,
            369966532,
            495216917,
            728730126,
            742454148,
            1039226655,
            1885955643
           ],
           "y": [
            "Vegetables, fresh nes",
            "Oil palm fruit",
            "Cassava",
            "Soybeans",
            "Potatoes",
            "Rice, paddy (rice milled equivalent)",
            "Wheat",
            "Rice, paddy",
            "Maize",
            "Sugar cane"
           ]
          }
         ],
         "layout": {
          "bargap": 0.15,
          "font": {
           "size": 14
          },
          "plot_bgcolor": "#FFFFFF",
          "xaxis": {
           "range": [
            0,
            1907024730
           ],
           "showline": true,
           "visible": true
          },
          "yaxis": {
           "showline": false,
           "visible": true
          }
         },
         "name": "2014"
        },
        {
         "data": [
          {
           "cliponaxis": false,
           "hoverinfo": "all",
           "hovertemplate": "<extra></extra>",
           "marker": {
            "color": [
             "rgb(111, 8, 236)",
             "rgb(47, 1, 85)",
             "rgb(226, 101, 202)",
             "rgb(30, 140, 179)",
             "rgb(255, 217, 83)",
             "rgb(27, 6, 239)",
             "rgb(130, 181, 111)",
             "rgb(179, 68, 56)",
             "rgb(116, 5, 156)",
             "rgb(104, 239, 194)"
            ]
           },
           "orientation": "h",
           "textangle": 0,
           "textposition": "outside",
           "texttemplate": "%{y}<br>%{x:.4s}",
           "type": "bar",
           "x": [
            288931169,
            293010305,
            300284643,
            323306702,
            365748227,
            497518927,
            741643258,
            745905437,
            1052127378,
            1875060932
           ],
           "y": [
            "Vegetables, fresh nes",
            "Cassava",
            "Oil palm fruit",
            "Soybeans",
            "Potatoes",
            "Rice, paddy (rice milled equivalent)",
            "Wheat",
            "Rice, paddy",
            "Maize",
            "Sugar cane"
           ]
          }
         ],
         "layout": {
          "bargap": 0.15,
          "font": {
           "size": 14
          },
          "plot_bgcolor": "#FFFFFF",
          "xaxis": {
           "range": [
            0,
            1907024730
           ],
           "showline": true,
           "visible": true
          },
          "yaxis": {
           "showline": false,
           "visible": true
          }
         },
         "name": "2015"
        },
        {
         "data": [
          {
           "cliponaxis": false,
           "hoverinfo": "all",
           "hovertemplate": "<extra></extra>",
           "marker": {
            "color": [
             "rgb(28, 2, 204)",
             "rgb(47, 1, 85)",
             "rgb(111, 8, 236)",
             "rgb(30, 140, 179)",
             "rgb(255, 217, 83)",
             "rgb(27, 6, 239)",
             "rgb(130, 181, 111)",
             "rgb(179, 68, 56)",
             "rgb(116, 5, 156)",
             "rgb(104, 239, 194)"
            ]
           },
           "orientation": "h",
           "textangle": 0,
           "textposition": "outside",
           "texttemplate": "%{y}<br>%{x:.4s}",
           "type": "bar",
           "x": [
            278702349,
            288497460,
            292920885,
            335613801,
            356952488,
            501507373,
            748392150,
            751885117,
            1126990585,
            1874611396
           ],
           "y": [
            "Sugar beet",
            "Cassava",
            "Vegetables, fresh nes",
            "Soybeans",
            "Potatoes",
            "Rice, paddy (rice milled equivalent)",
            "Wheat",
            "Rice, paddy",
            "Maize",
            "Sugar cane"
           ]
          }
         ],
         "layout": {
          "bargap": 0.15,
          "font": {
           "size": 14
          },
          "plot_bgcolor": "#FFFFFF",
          "xaxis": {
           "range": [
            0,
            1907024730
           ],
           "showline": true,
           "visible": true
          },
          "yaxis": {
           "showline": false,
           "visible": true
          }
         },
         "name": "2016"
        },
        {
         "data": [
          {
           "cliponaxis": false,
           "hoverinfo": "all",
           "hovertemplate": "<extra></extra>",
           "marker": {
            "color": [
             "rgb(47, 1, 85)",
             "rgb(111, 8, 236)",
             "rgb(28, 2, 204)",
             "rgb(30, 140, 179)",
             "rgb(255, 217, 83)",
             "rgb(27, 6, 239)",
             "rgb(179, 68, 56)",
             "rgb(130, 181, 111)",
             "rgb(116, 5, 156)",
             "rgb(104, 239, 194)"
            ]
           },
           "orientation": "h",
           "textangle": 0,
           "textposition": "outside",
           "texttemplate": "%{y}<br>%{x:.4s}",
           "type": "bar",
           "x": [
            279304523,
            294934038,
            310374816,
            353026796,
            373774234,
            513476024,
            769829121,
            773476524,
            1164400832,
            1851333716
           ],
           "y": [
            "Cassava",
            "Vegetables, fresh nes",
            "Sugar beet",
            "Soybeans",
            "Potatoes",
            "Rice, paddy (rice milled equivalent)",
            "Rice, paddy",
            "Wheat",
            "Maize",
            "Sugar cane"
           ]
          }
         ],
         "layout": {
          "bargap": 0.15,
          "font": {
           "size": 14
          },
          "plot_bgcolor": "#FFFFFF",
          "xaxis": {
           "range": [
            0,
            1907024730
           ],
           "showline": true,
           "visible": true
          },
          "yaxis": {
           "showline": false,
           "visible": true
          }
         },
         "name": "2017"
        },
        {
         "data": [
          {
           "cliponaxis": false,
           "hoverinfo": "all",
           "hovertemplate": "<extra></extra>",
           "marker": {
            "color": [
             "rgb(28, 2, 204)",
             "rgb(47, 1, 85)",
             "rgb(111, 8, 236)",
             "rgb(30, 140, 179)",
             "rgb(255, 217, 83)",
             "rgb(27, 6, 239)",
             "rgb(130, 181, 111)",
             "rgb(179, 68, 56)",
             "rgb(116, 5, 156)",
             "rgb(104, 239, 194)"
            ]
           },
           "orientation": "h",
           "textangle": 0,
           "textposition": "outside",
           "texttemplate": "%{y}<br>%{x:.4s}",
           "type": "bar",
           "x": [
            274886306,
            277808759,
            297596674,
            348712311,
            368168914,
            521594098,
            734045174,
            782000147,
            1147621938,
            1907024730
           ],
           "y": [
            "Sugar beet",
            "Cassava",
            "Vegetables, fresh nes",
            "Soybeans",
            "Potatoes",
            "Rice, paddy (rice milled equivalent)",
            "Wheat",
            "Rice, paddy",
            "Maize",
            "Sugar cane"
           ]
          }
         ],
         "layout": {
          "bargap": 0.15,
          "font": {
           "size": 14
          },
          "plot_bgcolor": "#FFFFFF",
          "xaxis": {
           "range": [
            0,
            1907024730
           ],
           "showline": true,
           "visible": true
          },
          "yaxis": {
           "showline": false,
           "visible": true
          }
         },
         "name": "2018"
        }
       ],
       "layout": {
        "bargap": 0.15,
        "font": {
         "size": 14
        },
        "plot_bgcolor": "#FFFFFF",
        "sliders": [
         {
          "active": 0,
          "currentvalue": {
           "font": {
            "size": 20
           },
           "prefix": "Date: ",
           "visible": true,
           "xanchor": "right"
          },
          "len": 0.9,
          "pad": {
           "b": 10,
           "t": 50
          },
          "steps": [
           {
            "args": [
             [
              "1961"
             ],
             {
              "frame": {
               "duration": 1800,
               "redraw": false
              },
              "mode": "immediate",
              "transition": {
               "duration": 1800
              }
             }
            ],
            "label": "1961",
            "method": "animate"
           },
           {
            "args": [
             [
              "1962"
             ],
             {
              "frame": {
               "duration": 1800,
               "redraw": false
              },
              "mode": "immediate",
              "transition": {
               "duration": 1800
              }
             }
            ],
            "label": "1962",
            "method": "animate"
           },
           {
            "args": [
             [
              "1963"
             ],
             {
              "frame": {
               "duration": 1800,
               "redraw": false
              },
              "mode": "immediate",
              "transition": {
               "duration": 1800
              }
             }
            ],
            "label": "1963",
            "method": "animate"
           },
           {
            "args": [
             [
              "1964"
             ],
             {
              "frame": {
               "duration": 1800,
               "redraw": false
              },
              "mode": "immediate",
              "transition": {
               "duration": 1800
              }
             }
            ],
            "label": "1964",
            "method": "animate"
           },
           {
            "args": [
             [
              "1965"
             ],
             {
              "frame": {
               "duration": 1800,
               "redraw": false
              },
              "mode": "immediate",
              "transition": {
               "duration": 1800
              }
             }
            ],
            "label": "1965",
            "method": "animate"
           },
           {
            "args": [
             [
              "1966"
             ],
             {
              "frame": {
               "duration": 1800,
               "redraw": false
              },
              "mode": "immediate",
              "transition": {
               "duration": 1800
              }
             }
            ],
            "label": "1966",
            "method": "animate"
           },
           {
            "args": [
             [
              "1967"
             ],
             {
              "frame": {
               "duration": 1800,
               "redraw": false
              },
              "mode": "immediate",
              "transition": {
               "duration": 1800
              }
             }
            ],
            "label": "1967",
            "method": "animate"
           },
           {
            "args": [
             [
              "1968"
             ],
             {
              "frame": {
               "duration": 1800,
               "redraw": false
              },
              "mode": "immediate",
              "transition": {
               "duration": 1800
              }
             }
            ],
            "label": "1968",
            "method": "animate"
           },
           {
            "args": [
             [
              "1969"
             ],
             {
              "frame": {
               "duration": 1800,
               "redraw": false
              },
              "mode": "immediate",
              "transition": {
               "duration": 1800
              }
             }
            ],
            "label": "1969",
            "method": "animate"
           },
           {
            "args": [
             [
              "1970"
             ],
             {
              "frame": {
               "duration": 1800,
               "redraw": false
              },
              "mode": "immediate",
              "transition": {
               "duration": 1800
              }
             }
            ],
            "label": "1970",
            "method": "animate"
           },
           {
            "args": [
             [
              "1971"
             ],
             {
              "frame": {
               "duration": 1800,
               "redraw": false
              },
              "mode": "immediate",
              "transition": {
               "duration": 1800
              }
             }
            ],
            "label": "1971",
            "method": "animate"
           },
           {
            "args": [
             [
              "1972"
             ],
             {
              "frame": {
               "duration": 1800,
               "redraw": false
              },
              "mode": "immediate",
              "transition": {
               "duration": 1800
              }
             }
            ],
            "label": "1972",
            "method": "animate"
           },
           {
            "args": [
             [
              "1973"
             ],
             {
              "frame": {
               "duration": 1800,
               "redraw": false
              },
              "mode": "immediate",
              "transition": {
               "duration": 1800
              }
             }
            ],
            "label": "1973",
            "method": "animate"
           },
           {
            "args": [
             [
              "1974"
             ],
             {
              "frame": {
               "duration": 1800,
               "redraw": false
              },
              "mode": "immediate",
              "transition": {
               "duration": 1800
              }
             }
            ],
            "label": "1974",
            "method": "animate"
           },
           {
            "args": [
             [
              "1975"
             ],
             {
              "frame": {
               "duration": 1800,
               "redraw": false
              },
              "mode": "immediate",
              "transition": {
               "duration": 1800
              }
             }
            ],
            "label": "1975",
            "method": "animate"
           },
           {
            "args": [
             [
              "1976"
             ],
             {
              "frame": {
               "duration": 1800,
               "redraw": false
              },
              "mode": "immediate",
              "transition": {
               "duration": 1800
              }
             }
            ],
            "label": "1976",
            "method": "animate"
           },
           {
            "args": [
             [
              "1977"
             ],
             {
              "frame": {
               "duration": 1800,
               "redraw": false
              },
              "mode": "immediate",
              "transition": {
               "duration": 1800
              }
             }
            ],
            "label": "1977",
            "method": "animate"
           },
           {
            "args": [
             [
              "1978"
             ],
             {
              "frame": {
               "duration": 1800,
               "redraw": false
              },
              "mode": "immediate",
              "transition": {
               "duration": 1800
              }
             }
            ],
            "label": "1978",
            "method": "animate"
           },
           {
            "args": [
             [
              "1979"
             ],
             {
              "frame": {
               "duration": 1800,
               "redraw": false
              },
              "mode": "immediate",
              "transition": {
               "duration": 1800
              }
             }
            ],
            "label": "1979",
            "method": "animate"
           },
           {
            "args": [
             [
              "1980"
             ],
             {
              "frame": {
               "duration": 1800,
               "redraw": false
              },
              "mode": "immediate",
              "transition": {
               "duration": 1800
              }
             }
            ],
            "label": "1980",
            "method": "animate"
           },
           {
            "args": [
             [
              "1981"
             ],
             {
              "frame": {
               "duration": 1800,
               "redraw": false
              },
              "mode": "immediate",
              "transition": {
               "duration": 1800
              }
             }
            ],
            "label": "1981",
            "method": "animate"
           },
           {
            "args": [
             [
              "1982"
             ],
             {
              "frame": {
               "duration": 1800,
               "redraw": false
              },
              "mode": "immediate",
              "transition": {
               "duration": 1800
              }
             }
            ],
            "label": "1982",
            "method": "animate"
           },
           {
            "args": [
             [
              "1983"
             ],
             {
              "frame": {
               "duration": 1800,
               "redraw": false
              },
              "mode": "immediate",
              "transition": {
               "duration": 1800
              }
             }
            ],
            "label": "1983",
            "method": "animate"
           },
           {
            "args": [
             [
              "1984"
             ],
             {
              "frame": {
               "duration": 1800,
               "redraw": false
              },
              "mode": "immediate",
              "transition": {
               "duration": 1800
              }
             }
            ],
            "label": "1984",
            "method": "animate"
           },
           {
            "args": [
             [
              "1985"
             ],
             {
              "frame": {
               "duration": 1800,
               "redraw": false
              },
              "mode": "immediate",
              "transition": {
               "duration": 1800
              }
             }
            ],
            "label": "1985",
            "method": "animate"
           },
           {
            "args": [
             [
              "1986"
             ],
             {
              "frame": {
               "duration": 1800,
               "redraw": false
              },
              "mode": "immediate",
              "transition": {
               "duration": 1800
              }
             }
            ],
            "label": "1986",
            "method": "animate"
           },
           {
            "args": [
             [
              "1987"
             ],
             {
              "frame": {
               "duration": 1800,
               "redraw": false
              },
              "mode": "immediate",
              "transition": {
               "duration": 1800
              }
             }
            ],
            "label": "1987",
            "method": "animate"
           },
           {
            "args": [
             [
              "1988"
             ],
             {
              "frame": {
               "duration": 1800,
               "redraw": false
              },
              "mode": "immediate",
              "transition": {
               "duration": 1800
              }
             }
            ],
            "label": "1988",
            "method": "animate"
           },
           {
            "args": [
             [
              "1989"
             ],
             {
              "frame": {
               "duration": 1800,
               "redraw": false
              },
              "mode": "immediate",
              "transition": {
               "duration": 1800
              }
             }
            ],
            "label": "1989",
            "method": "animate"
           },
           {
            "args": [
             [
              "1990"
             ],
             {
              "frame": {
               "duration": 1800,
               "redraw": false
              },
              "mode": "immediate",
              "transition": {
               "duration": 1800
              }
             }
            ],
            "label": "1990",
            "method": "animate"
           },
           {
            "args": [
             [
              "1991"
             ],
             {
              "frame": {
               "duration": 1800,
               "redraw": false
              },
              "mode": "immediate",
              "transition": {
               "duration": 1800
              }
             }
            ],
            "label": "1991",
            "method": "animate"
           },
           {
            "args": [
             [
              "1992"
             ],
             {
              "frame": {
               "duration": 1800,
               "redraw": false
              },
              "mode": "immediate",
              "transition": {
               "duration": 1800
              }
             }
            ],
            "label": "1992",
            "method": "animate"
           },
           {
            "args": [
             [
              "1993"
             ],
             {
              "frame": {
               "duration": 1800,
               "redraw": false
              },
              "mode": "immediate",
              "transition": {
               "duration": 1800
              }
             }
            ],
            "label": "1993",
            "method": "animate"
           },
           {
            "args": [
             [
              "1994"
             ],
             {
              "frame": {
               "duration": 1800,
               "redraw": false
              },
              "mode": "immediate",
              "transition": {
               "duration": 1800
              }
             }
            ],
            "label": "1994",
            "method": "animate"
           },
           {
            "args": [
             [
              "1995"
             ],
             {
              "frame": {
               "duration": 1800,
               "redraw": false
              },
              "mode": "immediate",
              "transition": {
               "duration": 1800
              }
             }
            ],
            "label": "1995",
            "method": "animate"
           },
           {
            "args": [
             [
              "1996"
             ],
             {
              "frame": {
               "duration": 1800,
               "redraw": false
              },
              "mode": "immediate",
              "transition": {
               "duration": 1800
              }
             }
            ],
            "label": "1996",
            "method": "animate"
           },
           {
            "args": [
             [
              "1997"
             ],
             {
              "frame": {
               "duration": 1800,
               "redraw": false
              },
              "mode": "immediate",
              "transition": {
               "duration": 1800
              }
             }
            ],
            "label": "1997",
            "method": "animate"
           },
           {
            "args": [
             [
              "1998"
             ],
             {
              "frame": {
               "duration": 1800,
               "redraw": false
              },
              "mode": "immediate",
              "transition": {
               "duration": 1800
              }
             }
            ],
            "label": "1998",
            "method": "animate"
           },
           {
            "args": [
             [
              "1999"
             ],
             {
              "frame": {
               "duration": 1800,
               "redraw": false
              },
              "mode": "immediate",
              "transition": {
               "duration": 1800
              }
             }
            ],
            "label": "1999",
            "method": "animate"
           },
           {
            "args": [
             [
              "2000"
             ],
             {
              "frame": {
               "duration": 1800,
               "redraw": false
              },
              "mode": "immediate",
              "transition": {
               "duration": 1800
              }
             }
            ],
            "label": "2000",
            "method": "animate"
           },
           {
            "args": [
             [
              "2001"
             ],
             {
              "frame": {
               "duration": 1800,
               "redraw": false
              },
              "mode": "immediate",
              "transition": {
               "duration": 1800
              }
             }
            ],
            "label": "2001",
            "method": "animate"
           },
           {
            "args": [
             [
              "2002"
             ],
             {
              "frame": {
               "duration": 1800,
               "redraw": false
              },
              "mode": "immediate",
              "transition": {
               "duration": 1800
              }
             }
            ],
            "label": "2002",
            "method": "animate"
           },
           {
            "args": [
             [
              "2003"
             ],
             {
              "frame": {
               "duration": 1800,
               "redraw": false
              },
              "mode": "immediate",
              "transition": {
               "duration": 1800
              }
             }
            ],
            "label": "2003",
            "method": "animate"
           },
           {
            "args": [
             [
              "2004"
             ],
             {
              "frame": {
               "duration": 1800,
               "redraw": false
              },
              "mode": "immediate",
              "transition": {
               "duration": 1800
              }
             }
            ],
            "label": "2004",
            "method": "animate"
           },
           {
            "args": [
             [
              "2005"
             ],
             {
              "frame": {
               "duration": 1800,
               "redraw": false
              },
              "mode": "immediate",
              "transition": {
               "duration": 1800
              }
             }
            ],
            "label": "2005",
            "method": "animate"
           },
           {
            "args": [
             [
              "2006"
             ],
             {
              "frame": {
               "duration": 1800,
               "redraw": false
              },
              "mode": "immediate",
              "transition": {
               "duration": 1800
              }
             }
            ],
            "label": "2006",
            "method": "animate"
           },
           {
            "args": [
             [
              "2007"
             ],
             {
              "frame": {
               "duration": 1800,
               "redraw": false
              },
              "mode": "immediate",
              "transition": {
               "duration": 1800
              }
             }
            ],
            "label": "2007",
            "method": "animate"
           },
           {
            "args": [
             [
              "2008"
             ],
             {
              "frame": {
               "duration": 1800,
               "redraw": false
              },
              "mode": "immediate",
              "transition": {
               "duration": 1800
              }
             }
            ],
            "label": "2008",
            "method": "animate"
           },
           {
            "args": [
             [
              "2009"
             ],
             {
              "frame": {
               "duration": 1800,
               "redraw": false
              },
              "mode": "immediate",
              "transition": {
               "duration": 1800
              }
             }
            ],
            "label": "2009",
            "method": "animate"
           },
           {
            "args": [
             [
              "2010"
             ],
             {
              "frame": {
               "duration": 1800,
               "redraw": false
              },
              "mode": "immediate",
              "transition": {
               "duration": 1800
              }
             }
            ],
            "label": "2010",
            "method": "animate"
           },
           {
            "args": [
             [
              "2011"
             ],
             {
              "frame": {
               "duration": 1800,
               "redraw": false
              },
              "mode": "immediate",
              "transition": {
               "duration": 1800
              }
             }
            ],
            "label": "2011",
            "method": "animate"
           },
           {
            "args": [
             [
              "2012"
             ],
             {
              "frame": {
               "duration": 1800,
               "redraw": false
              },
              "mode": "immediate",
              "transition": {
               "duration": 1800
              }
             }
            ],
            "label": "2012",
            "method": "animate"
           },
           {
            "args": [
             [
              "2013"
             ],
             {
              "frame": {
               "duration": 1800,
               "redraw": false
              },
              "mode": "immediate",
              "transition": {
               "duration": 1800
              }
             }
            ],
            "label": "2013",
            "method": "animate"
           },
           {
            "args": [
             [
              "2014"
             ],
             {
              "frame": {
               "duration": 1800,
               "redraw": false
              },
              "mode": "immediate",
              "transition": {
               "duration": 1800
              }
             }
            ],
            "label": "2014",
            "method": "animate"
           },
           {
            "args": [
             [
              "2015"
             ],
             {
              "frame": {
               "duration": 1800,
               "redraw": false
              },
              "mode": "immediate",
              "transition": {
               "duration": 1800
              }
             }
            ],
            "label": "2015",
            "method": "animate"
           },
           {
            "args": [
             [
              "2016"
             ],
             {
              "frame": {
               "duration": 1800,
               "redraw": false
              },
              "mode": "immediate",
              "transition": {
               "duration": 1800
              }
             }
            ],
            "label": "2016",
            "method": "animate"
           },
           {
            "args": [
             [
              "2017"
             ],
             {
              "frame": {
               "duration": 1800,
               "redraw": false
              },
              "mode": "immediate",
              "transition": {
               "duration": 1800
              }
             }
            ],
            "label": "2017",
            "method": "animate"
           },
           {
            "args": [
             [
              "2018"
             ],
             {
              "frame": {
               "duration": 1800,
               "redraw": false
              },
              "mode": "immediate",
              "transition": {
               "duration": 1800
              }
             }
            ],
            "label": "2018",
            "method": "animate"
           }
          ],
          "transition": {
           "duration": 300,
           "easing": "cubic-in-out"
          },
          "x": 0.1,
          "xanchor": "left",
          "y": 0,
          "yanchor": "top"
         }
        ],
        "template": {
         "data": {
          "bar": [
           {
            "error_x": {
             "color": "#2a3f5f"
            },
            "error_y": {
             "color": "#2a3f5f"
            },
            "marker": {
             "line": {
              "color": "#E5ECF6",
              "width": 0.5
             }
            },
            "type": "bar"
           }
          ],
          "barpolar": [
           {
            "marker": {
             "line": {
              "color": "#E5ECF6",
              "width": 0.5
             }
            },
            "type": "barpolar"
           }
          ],
          "carpet": [
           {
            "aaxis": {
             "endlinecolor": "#2a3f5f",
             "gridcolor": "white",
             "linecolor": "white",
             "minorgridcolor": "white",
             "startlinecolor": "#2a3f5f"
            },
            "baxis": {
             "endlinecolor": "#2a3f5f",
             "gridcolor": "white",
             "linecolor": "white",
             "minorgridcolor": "white",
             "startlinecolor": "#2a3f5f"
            },
            "type": "carpet"
           }
          ],
          "choropleth": [
           {
            "colorbar": {
             "outlinewidth": 0,
             "ticks": ""
            },
            "type": "choropleth"
           }
          ],
          "contour": [
           {
            "colorbar": {
             "outlinewidth": 0,
             "ticks": ""
            },
            "colorscale": [
             [
              0,
              "#0d0887"
             ],
             [
              0.1111111111111111,
              "#46039f"
             ],
             [
              0.2222222222222222,
              "#7201a8"
             ],
             [
              0.3333333333333333,
              "#9c179e"
             ],
             [
              0.4444444444444444,
              "#bd3786"
             ],
             [
              0.5555555555555556,
              "#d8576b"
             ],
             [
              0.6666666666666666,
              "#ed7953"
             ],
             [
              0.7777777777777778,
              "#fb9f3a"
             ],
             [
              0.8888888888888888,
              "#fdca26"
             ],
             [
              1,
              "#f0f921"
             ]
            ],
            "type": "contour"
           }
          ],
          "contourcarpet": [
           {
            "colorbar": {
             "outlinewidth": 0,
             "ticks": ""
            },
            "type": "contourcarpet"
           }
          ],
          "heatmap": [
           {
            "colorbar": {
             "outlinewidth": 0,
             "ticks": ""
            },
            "colorscale": [
             [
              0,
              "#0d0887"
             ],
             [
              0.1111111111111111,
              "#46039f"
             ],
             [
              0.2222222222222222,
              "#7201a8"
             ],
             [
              0.3333333333333333,
              "#9c179e"
             ],
             [
              0.4444444444444444,
              "#bd3786"
             ],
             [
              0.5555555555555556,
              "#d8576b"
             ],
             [
              0.6666666666666666,
              "#ed7953"
             ],
             [
              0.7777777777777778,
              "#fb9f3a"
             ],
             [
              0.8888888888888888,
              "#fdca26"
             ],
             [
              1,
              "#f0f921"
             ]
            ],
            "type": "heatmap"
           }
          ],
          "heatmapgl": [
           {
            "colorbar": {
             "outlinewidth": 0,
             "ticks": ""
            },
            "colorscale": [
             [
              0,
              "#0d0887"
             ],
             [
              0.1111111111111111,
              "#46039f"
             ],
             [
              0.2222222222222222,
              "#7201a8"
             ],
             [
              0.3333333333333333,
              "#9c179e"
             ],
             [
              0.4444444444444444,
              "#bd3786"
             ],
             [
              0.5555555555555556,
              "#d8576b"
             ],
             [
              0.6666666666666666,
              "#ed7953"
             ],
             [
              0.7777777777777778,
              "#fb9f3a"
             ],
             [
              0.8888888888888888,
              "#fdca26"
             ],
             [
              1,
              "#f0f921"
             ]
            ],
            "type": "heatmapgl"
           }
          ],
          "histogram": [
           {
            "marker": {
             "colorbar": {
              "outlinewidth": 0,
              "ticks": ""
             }
            },
            "type": "histogram"
           }
          ],
          "histogram2d": [
           {
            "colorbar": {
             "outlinewidth": 0,
             "ticks": ""
            },
            "colorscale": [
             [
              0,
              "#0d0887"
             ],
             [
              0.1111111111111111,
              "#46039f"
             ],
             [
              0.2222222222222222,
              "#7201a8"
             ],
             [
              0.3333333333333333,
              "#9c179e"
             ],
             [
              0.4444444444444444,
              "#bd3786"
             ],
             [
              0.5555555555555556,
              "#d8576b"
             ],
             [
              0.6666666666666666,
              "#ed7953"
             ],
             [
              0.7777777777777778,
              "#fb9f3a"
             ],
             [
              0.8888888888888888,
              "#fdca26"
             ],
             [
              1,
              "#f0f921"
             ]
            ],
            "type": "histogram2d"
           }
          ],
          "histogram2dcontour": [
           {
            "colorbar": {
             "outlinewidth": 0,
             "ticks": ""
            },
            "colorscale": [
             [
              0,
              "#0d0887"
             ],
             [
              0.1111111111111111,
              "#46039f"
             ],
             [
              0.2222222222222222,
              "#7201a8"
             ],
             [
              0.3333333333333333,
              "#9c179e"
             ],
             [
              0.4444444444444444,
              "#bd3786"
             ],
             [
              0.5555555555555556,
              "#d8576b"
             ],
             [
              0.6666666666666666,
              "#ed7953"
             ],
             [
              0.7777777777777778,
              "#fb9f3a"
             ],
             [
              0.8888888888888888,
              "#fdca26"
             ],
             [
              1,
              "#f0f921"
             ]
            ],
            "type": "histogram2dcontour"
           }
          ],
          "mesh3d": [
           {
            "colorbar": {
             "outlinewidth": 0,
             "ticks": ""
            },
            "type": "mesh3d"
           }
          ],
          "parcoords": [
           {
            "line": {
             "colorbar": {
              "outlinewidth": 0,
              "ticks": ""
             }
            },
            "type": "parcoords"
           }
          ],
          "pie": [
           {
            "automargin": true,
            "type": "pie"
           }
          ],
          "scatter": [
           {
            "marker": {
             "colorbar": {
              "outlinewidth": 0,
              "ticks": ""
             }
            },
            "type": "scatter"
           }
          ],
          "scatter3d": [
           {
            "line": {
             "colorbar": {
              "outlinewidth": 0,
              "ticks": ""
             }
            },
            "marker": {
             "colorbar": {
              "outlinewidth": 0,
              "ticks": ""
             }
            },
            "type": "scatter3d"
           }
          ],
          "scattercarpet": [
           {
            "marker": {
             "colorbar": {
              "outlinewidth": 0,
              "ticks": ""
             }
            },
            "type": "scattercarpet"
           }
          ],
          "scattergeo": [
           {
            "marker": {
             "colorbar": {
              "outlinewidth": 0,
              "ticks": ""
             }
            },
            "type": "scattergeo"
           }
          ],
          "scattergl": [
           {
            "marker": {
             "colorbar": {
              "outlinewidth": 0,
              "ticks": ""
             }
            },
            "type": "scattergl"
           }
          ],
          "scattermapbox": [
           {
            "marker": {
             "colorbar": {
              "outlinewidth": 0,
              "ticks": ""
             }
            },
            "type": "scattermapbox"
           }
          ],
          "scatterpolar": [
           {
            "marker": {
             "colorbar": {
              "outlinewidth": 0,
              "ticks": ""
             }
            },
            "type": "scatterpolar"
           }
          ],
          "scatterpolargl": [
           {
            "marker": {
             "colorbar": {
              "outlinewidth": 0,
              "ticks": ""
             }
            },
            "type": "scatterpolargl"
           }
          ],
          "scatterternary": [
           {
            "marker": {
             "colorbar": {
              "outlinewidth": 0,
              "ticks": ""
             }
            },
            "type": "scatterternary"
           }
          ],
          "surface": [
           {
            "colorbar": {
             "outlinewidth": 0,
             "ticks": ""
            },
            "colorscale": [
             [
              0,
              "#0d0887"
             ],
             [
              0.1111111111111111,
              "#46039f"
             ],
             [
              0.2222222222222222,
              "#7201a8"
             ],
             [
              0.3333333333333333,
              "#9c179e"
             ],
             [
              0.4444444444444444,
              "#bd3786"
             ],
             [
              0.5555555555555556,
              "#d8576b"
             ],
             [
              0.6666666666666666,
              "#ed7953"
             ],
             [
              0.7777777777777778,
              "#fb9f3a"
             ],
             [
              0.8888888888888888,
              "#fdca26"
             ],
             [
              1,
              "#f0f921"
             ]
            ],
            "type": "surface"
           }
          ],
          "table": [
           {
            "cells": {
             "fill": {
              "color": "#EBF0F8"
             },
             "line": {
              "color": "white"
             }
            },
            "header": {
             "fill": {
              "color": "#C8D4E3"
             },
             "line": {
              "color": "white"
             }
            },
            "type": "table"
           }
          ]
         },
         "layout": {
          "annotationdefaults": {
           "arrowcolor": "#2a3f5f",
           "arrowhead": 0,
           "arrowwidth": 1
          },
          "coloraxis": {
           "colorbar": {
            "outlinewidth": 0,
            "ticks": ""
           }
          },
          "colorscale": {
           "diverging": [
            [
             0,
             "#8e0152"
            ],
            [
             0.1,
             "#c51b7d"
            ],
            [
             0.2,
             "#de77ae"
            ],
            [
             0.3,
             "#f1b6da"
            ],
            [
             0.4,
             "#fde0ef"
            ],
            [
             0.5,
             "#f7f7f7"
            ],
            [
             0.6,
             "#e6f5d0"
            ],
            [
             0.7,
             "#b8e186"
            ],
            [
             0.8,
             "#7fbc41"
            ],
            [
             0.9,
             "#4d9221"
            ],
            [
             1,
             "#276419"
            ]
           ],
           "sequential": [
            [
             0,
             "#0d0887"
            ],
            [
             0.1111111111111111,
             "#46039f"
            ],
            [
             0.2222222222222222,
             "#7201a8"
            ],
            [
             0.3333333333333333,
             "#9c179e"
            ],
            [
             0.4444444444444444,
             "#bd3786"
            ],
            [
             0.5555555555555556,
             "#d8576b"
            ],
            [
             0.6666666666666666,
             "#ed7953"
            ],
            [
             0.7777777777777778,
             "#fb9f3a"
            ],
            [
             0.8888888888888888,
             "#fdca26"
            ],
            [
             1,
             "#f0f921"
            ]
           ],
           "sequentialminus": [
            [
             0,
             "#0d0887"
            ],
            [
             0.1111111111111111,
             "#46039f"
            ],
            [
             0.2222222222222222,
             "#7201a8"
            ],
            [
             0.3333333333333333,
             "#9c179e"
            ],
            [
             0.4444444444444444,
             "#bd3786"
            ],
            [
             0.5555555555555556,
             "#d8576b"
            ],
            [
             0.6666666666666666,
             "#ed7953"
            ],
            [
             0.7777777777777778,
             "#fb9f3a"
            ],
            [
             0.8888888888888888,
             "#fdca26"
            ],
            [
             1,
             "#f0f921"
            ]
           ]
          },
          "colorway": [
           "#636efa",
           "#EF553B",
           "#00cc96",
           "#ab63fa",
           "#FFA15A",
           "#19d3f3",
           "#FF6692",
           "#B6E880",
           "#FF97FF",
           "#FECB52"
          ],
          "font": {
           "color": "#2a3f5f"
          },
          "geo": {
           "bgcolor": "white",
           "lakecolor": "white",
           "landcolor": "#E5ECF6",
           "showlakes": true,
           "showland": true,
           "subunitcolor": "white"
          },
          "hoverlabel": {
           "align": "left"
          },
          "hovermode": "closest",
          "mapbox": {
           "style": "light"
          },
          "paper_bgcolor": "white",
          "plot_bgcolor": "#E5ECF6",
          "polar": {
           "angularaxis": {
            "gridcolor": "white",
            "linecolor": "white",
            "ticks": ""
           },
           "bgcolor": "#E5ECF6",
           "radialaxis": {
            "gridcolor": "white",
            "linecolor": "white",
            "ticks": ""
           }
          },
          "scene": {
           "xaxis": {
            "backgroundcolor": "#E5ECF6",
            "gridcolor": "white",
            "gridwidth": 2,
            "linecolor": "white",
            "showbackground": true,
            "ticks": "",
            "zerolinecolor": "white"
           },
           "yaxis": {
            "backgroundcolor": "#E5ECF6",
            "gridcolor": "white",
            "gridwidth": 2,
            "linecolor": "white",
            "showbackground": true,
            "ticks": "",
            "zerolinecolor": "white"
           },
           "zaxis": {
            "backgroundcolor": "#E5ECF6",
            "gridcolor": "white",
            "gridwidth": 2,
            "linecolor": "white",
            "showbackground": true,
            "ticks": "",
            "zerolinecolor": "white"
           }
          },
          "shapedefaults": {
           "line": {
            "color": "#2a3f5f"
           }
          },
          "ternary": {
           "aaxis": {
            "gridcolor": "white",
            "linecolor": "white",
            "ticks": ""
           },
           "baxis": {
            "gridcolor": "white",
            "linecolor": "white",
            "ticks": ""
           },
           "bgcolor": "#E5ECF6",
           "caxis": {
            "gridcolor": "white",
            "linecolor": "white",
            "ticks": ""
           }
          },
          "title": {
           "x": 0.05
          },
          "xaxis": {
           "automargin": true,
           "gridcolor": "white",
           "linecolor": "white",
           "ticks": "",
           "title": {
            "standoff": 15
           },
           "zerolinecolor": "white",
           "zerolinewidth": 2
          },
          "yaxis": {
           "automargin": true,
           "gridcolor": "white",
           "linecolor": "white",
           "ticks": "",
           "title": {
            "standoff": 15
           },
           "zerolinecolor": "white",
           "zerolinewidth": 2
          }
         }
        },
        "updatemenus": [
         {
          "buttons": [
           {
            "args": [
             null,
             {
              "frame": {
               "duration": 1800,
               "redraw": false
              },
              "fromcurrent": true,
              "transition": {
               "duration": 1800,
               "easing": "quadratic-in-out"
              }
             }
            ],
            "label": "Play",
            "method": "animate"
           },
           {
            "args": [
             [
              null
             ],
             {
              "frame": {
               "duration": 0,
               "redraw": false
              },
              "mode": "immediate",
              "transition": {
               "duration": 0
              }
             }
            ],
            "label": "Pause",
            "method": "animate"
           }
          ],
          "direction": "left",
          "pad": {
           "r": 10,
           "t": 87
          },
          "showactive": true,
          "type": "buttons",
          "x": 0.1,
          "xanchor": "right",
          "y": 0,
          "yanchor": "top"
         }
        ],
        "xaxis": {
         "range": [
          0,
          1907024730
         ],
         "showline": true,
         "showticklabels": true,
         "title": {
          "text": "Production quantity (tonnes)"
         },
         "visible": true
        },
        "yaxis": {
         "showline": false,
         "showticklabels": false,
         "title": {
          "text": "Top 10 crops"
         },
         "visible": true
        }
       }
      },
      "text/html": [
       "<div>                            <div id=\"feac6c97-82f9-415b-81c7-2d744a174758\" class=\"plotly-graph-div\" style=\"height:525px; width:100%;\"></div>            <script type=\"text/javascript\">                require([\"plotly\"], function(Plotly) {                    window.PLOTLYENV=window.PLOTLYENV || {};                                    if (document.getElementById(\"feac6c97-82f9-415b-81c7-2d744a174758\")) {                    Plotly.newPlot(                        \"feac6c97-82f9-415b-81c7-2d744a174758\",                        [{\"cliponaxis\": false, \"hoverinfo\": \"all\", \"marker\": {\"color\": [\"rgb(47, 1, 85)\", \"rgb(36, 5, 133)\", \"rgb(146, 175, 50)\", \"rgb(27, 6, 239)\", \"rgb(28, 2, 204)\", \"rgb(116, 5, 156)\", \"rgb(179, 68, 56)\", \"rgb(130, 181, 111)\", \"rgb(255, 217, 83)\", \"rgb(104, 239, 194)\"]}, \"orientation\": \"h\", \"textangle\": 0, \"textposition\": \"outside\", \"texttemplate\": \"%{y}<br>%{x:.4s}\", \"type\": \"bar\", \"x\": [71259839.0, 72411104.0, 98192635.0, 143836304.0, 160501987.0, 205027583.0, 215646633.0, 222357231.0, 270552196.0, 447977522.0], \"y\": [\"Cassava\", \"Barley\", \"Sweet potatoes\", \"Rice, paddy (rice milled equivalent)\", \"Sugar beet\", \"Maize\", \"Rice, paddy\", \"Wheat\", \"Potatoes\", \"Sugar cane\"]}],                        {\"bargap\": 0.15, \"font\": {\"size\": 14}, \"plot_bgcolor\": \"#FFFFFF\", \"sliders\": [{\"active\": 0, \"currentvalue\": {\"font\": {\"size\": 20}, \"prefix\": \"Date: \", \"visible\": true, \"xanchor\": \"right\"}, \"len\": 0.9, \"pad\": {\"b\": 10, \"t\": 50}, \"steps\": [{\"args\": [[\"1961\"], {\"frame\": {\"duration\": 1800, \"redraw\": false}, \"mode\": \"immediate\", \"transition\": {\"duration\": 1800}}], \"label\": \"1961\", \"method\": \"animate\"}, {\"args\": [[\"1962\"], {\"frame\": {\"duration\": 1800, \"redraw\": false}, \"mode\": \"immediate\", \"transition\": {\"duration\": 1800}}], \"label\": \"1962\", \"method\": \"animate\"}, {\"args\": [[\"1963\"], {\"frame\": {\"duration\": 1800, \"redraw\": false}, \"mode\": \"immediate\", \"transition\": {\"duration\": 1800}}], \"label\": \"1963\", \"method\": \"animate\"}, {\"args\": [[\"1964\"], {\"frame\": {\"duration\": 1800, \"redraw\": false}, \"mode\": \"immediate\", \"transition\": {\"duration\": 1800}}], \"label\": \"1964\", \"method\": \"animate\"}, {\"args\": [[\"1965\"], {\"frame\": {\"duration\": 1800, \"redraw\": false}, \"mode\": \"immediate\", \"transition\": {\"duration\": 1800}}], \"label\": \"1965\", \"method\": \"animate\"}, {\"args\": [[\"1966\"], {\"frame\": {\"duration\": 1800, \"redraw\": false}, \"mode\": \"immediate\", \"transition\": {\"duration\": 1800}}], \"label\": \"1966\", \"method\": \"animate\"}, {\"args\": [[\"1967\"], {\"frame\": {\"duration\": 1800, \"redraw\": false}, \"mode\": \"immediate\", \"transition\": {\"duration\": 1800}}], \"label\": \"1967\", \"method\": \"animate\"}, {\"args\": [[\"1968\"], {\"frame\": {\"duration\": 1800, \"redraw\": false}, \"mode\": \"immediate\", \"transition\": {\"duration\": 1800}}], \"label\": \"1968\", \"method\": \"animate\"}, {\"args\": [[\"1969\"], {\"frame\": {\"duration\": 1800, \"redraw\": false}, \"mode\": \"immediate\", \"transition\": {\"duration\": 1800}}], \"label\": \"1969\", \"method\": \"animate\"}, {\"args\": [[\"1970\"], {\"frame\": {\"duration\": 1800, \"redraw\": false}, \"mode\": \"immediate\", \"transition\": {\"duration\": 1800}}], \"label\": \"1970\", \"method\": \"animate\"}, {\"args\": [[\"1971\"], {\"frame\": {\"duration\": 1800, \"redraw\": false}, \"mode\": \"immediate\", \"transition\": {\"duration\": 1800}}], \"label\": \"1971\", \"method\": \"animate\"}, {\"args\": [[\"1972\"], {\"frame\": {\"duration\": 1800, \"redraw\": false}, \"mode\": \"immediate\", \"transition\": {\"duration\": 1800}}], \"label\": \"1972\", \"method\": \"animate\"}, {\"args\": [[\"1973\"], {\"frame\": {\"duration\": 1800, \"redraw\": false}, \"mode\": \"immediate\", \"transition\": {\"duration\": 1800}}], \"label\": \"1973\", \"method\": \"animate\"}, {\"args\": [[\"1974\"], {\"frame\": {\"duration\": 1800, \"redraw\": false}, \"mode\": \"immediate\", \"transition\": {\"duration\": 1800}}], \"label\": \"1974\", \"method\": \"animate\"}, {\"args\": [[\"1975\"], {\"frame\": {\"duration\": 1800, \"redraw\": false}, \"mode\": \"immediate\", \"transition\": {\"duration\": 1800}}], \"label\": \"1975\", \"method\": \"animate\"}, {\"args\": [[\"1976\"], {\"frame\": {\"duration\": 1800, \"redraw\": false}, \"mode\": \"immediate\", \"transition\": {\"duration\": 1800}}], \"label\": \"1976\", \"method\": \"animate\"}, {\"args\": [[\"1977\"], {\"frame\": {\"duration\": 1800, \"redraw\": false}, \"mode\": \"immediate\", \"transition\": {\"duration\": 1800}}], \"label\": \"1977\", \"method\": \"animate\"}, {\"args\": [[\"1978\"], {\"frame\": {\"duration\": 1800, \"redraw\": false}, \"mode\": \"immediate\", \"transition\": {\"duration\": 1800}}], \"label\": \"1978\", \"method\": \"animate\"}, {\"args\": [[\"1979\"], {\"frame\": {\"duration\": 1800, \"redraw\": false}, \"mode\": \"immediate\", \"transition\": {\"duration\": 1800}}], \"label\": \"1979\", \"method\": \"animate\"}, {\"args\": [[\"1980\"], {\"frame\": {\"duration\": 1800, \"redraw\": false}, \"mode\": \"immediate\", \"transition\": {\"duration\": 1800}}], \"label\": \"1980\", \"method\": \"animate\"}, {\"args\": [[\"1981\"], {\"frame\": {\"duration\": 1800, \"redraw\": false}, \"mode\": \"immediate\", \"transition\": {\"duration\": 1800}}], \"label\": \"1981\", \"method\": \"animate\"}, {\"args\": [[\"1982\"], {\"frame\": {\"duration\": 1800, \"redraw\": false}, \"mode\": \"immediate\", \"transition\": {\"duration\": 1800}}], \"label\": \"1982\", \"method\": \"animate\"}, {\"args\": [[\"1983\"], {\"frame\": {\"duration\": 1800, \"redraw\": false}, \"mode\": \"immediate\", \"transition\": {\"duration\": 1800}}], \"label\": \"1983\", \"method\": \"animate\"}, {\"args\": [[\"1984\"], {\"frame\": {\"duration\": 1800, \"redraw\": false}, \"mode\": \"immediate\", \"transition\": {\"duration\": 1800}}], \"label\": \"1984\", \"method\": \"animate\"}, {\"args\": [[\"1985\"], {\"frame\": {\"duration\": 1800, \"redraw\": false}, \"mode\": \"immediate\", \"transition\": {\"duration\": 1800}}], \"label\": \"1985\", \"method\": \"animate\"}, {\"args\": [[\"1986\"], {\"frame\": {\"duration\": 1800, \"redraw\": false}, \"mode\": \"immediate\", \"transition\": {\"duration\": 1800}}], \"label\": \"1986\", \"method\": \"animate\"}, {\"args\": [[\"1987\"], {\"frame\": {\"duration\": 1800, \"redraw\": false}, \"mode\": \"immediate\", \"transition\": {\"duration\": 1800}}], \"label\": \"1987\", \"method\": \"animate\"}, {\"args\": [[\"1988\"], {\"frame\": {\"duration\": 1800, \"redraw\": false}, \"mode\": \"immediate\", \"transition\": {\"duration\": 1800}}], \"label\": \"1988\", \"method\": \"animate\"}, {\"args\": [[\"1989\"], {\"frame\": {\"duration\": 1800, \"redraw\": false}, \"mode\": \"immediate\", \"transition\": {\"duration\": 1800}}], \"label\": \"1989\", \"method\": \"animate\"}, {\"args\": [[\"1990\"], {\"frame\": {\"duration\": 1800, \"redraw\": false}, \"mode\": \"immediate\", \"transition\": {\"duration\": 1800}}], \"label\": \"1990\", \"method\": \"animate\"}, {\"args\": [[\"1991\"], {\"frame\": {\"duration\": 1800, \"redraw\": false}, \"mode\": \"immediate\", \"transition\": {\"duration\": 1800}}], \"label\": \"1991\", \"method\": \"animate\"}, {\"args\": [[\"1992\"], {\"frame\": {\"duration\": 1800, \"redraw\": false}, \"mode\": \"immediate\", \"transition\": {\"duration\": 1800}}], \"label\": \"1992\", \"method\": \"animate\"}, {\"args\": [[\"1993\"], {\"frame\": {\"duration\": 1800, \"redraw\": false}, \"mode\": \"immediate\", \"transition\": {\"duration\": 1800}}], \"label\": \"1993\", \"method\": \"animate\"}, {\"args\": [[\"1994\"], {\"frame\": {\"duration\": 1800, \"redraw\": false}, \"mode\": \"immediate\", \"transition\": {\"duration\": 1800}}], \"label\": \"1994\", \"method\": \"animate\"}, {\"args\": [[\"1995\"], {\"frame\": {\"duration\": 1800, \"redraw\": false}, \"mode\": \"immediate\", \"transition\": {\"duration\": 1800}}], \"label\": \"1995\", \"method\": \"animate\"}, {\"args\": [[\"1996\"], {\"frame\": {\"duration\": 1800, \"redraw\": false}, \"mode\": \"immediate\", \"transition\": {\"duration\": 1800}}], \"label\": \"1996\", \"method\": \"animate\"}, {\"args\": [[\"1997\"], {\"frame\": {\"duration\": 1800, \"redraw\": false}, \"mode\": \"immediate\", \"transition\": {\"duration\": 1800}}], \"label\": \"1997\", \"method\": \"animate\"}, {\"args\": [[\"1998\"], {\"frame\": {\"duration\": 1800, \"redraw\": false}, \"mode\": \"immediate\", \"transition\": {\"duration\": 1800}}], \"label\": \"1998\", \"method\": \"animate\"}, {\"args\": [[\"1999\"], {\"frame\": {\"duration\": 1800, \"redraw\": false}, \"mode\": \"immediate\", \"transition\": {\"duration\": 1800}}], \"label\": \"1999\", \"method\": \"animate\"}, {\"args\": [[\"2000\"], {\"frame\": {\"duration\": 1800, \"redraw\": false}, \"mode\": \"immediate\", \"transition\": {\"duration\": 1800}}], \"label\": \"2000\", \"method\": \"animate\"}, {\"args\": [[\"2001\"], {\"frame\": {\"duration\": 1800, \"redraw\": false}, \"mode\": \"immediate\", \"transition\": {\"duration\": 1800}}], \"label\": \"2001\", \"method\": \"animate\"}, {\"args\": [[\"2002\"], {\"frame\": {\"duration\": 1800, \"redraw\": false}, \"mode\": \"immediate\", \"transition\": {\"duration\": 1800}}], \"label\": \"2002\", \"method\": \"animate\"}, {\"args\": [[\"2003\"], {\"frame\": {\"duration\": 1800, \"redraw\": false}, \"mode\": \"immediate\", \"transition\": {\"duration\": 1800}}], \"label\": \"2003\", \"method\": \"animate\"}, {\"args\": [[\"2004\"], {\"frame\": {\"duration\": 1800, \"redraw\": false}, \"mode\": \"immediate\", \"transition\": {\"duration\": 1800}}], \"label\": \"2004\", \"method\": \"animate\"}, {\"args\": [[\"2005\"], {\"frame\": {\"duration\": 1800, \"redraw\": false}, \"mode\": \"immediate\", \"transition\": {\"duration\": 1800}}], \"label\": \"2005\", \"method\": \"animate\"}, {\"args\": [[\"2006\"], {\"frame\": {\"duration\": 1800, \"redraw\": false}, \"mode\": \"immediate\", \"transition\": {\"duration\": 1800}}], \"label\": \"2006\", \"method\": \"animate\"}, {\"args\": [[\"2007\"], {\"frame\": {\"duration\": 1800, \"redraw\": false}, \"mode\": \"immediate\", \"transition\": {\"duration\": 1800}}], \"label\": \"2007\", \"method\": \"animate\"}, {\"args\": [[\"2008\"], {\"frame\": {\"duration\": 1800, \"redraw\": false}, \"mode\": \"immediate\", \"transition\": {\"duration\": 1800}}], \"label\": \"2008\", \"method\": \"animate\"}, {\"args\": [[\"2009\"], {\"frame\": {\"duration\": 1800, \"redraw\": false}, \"mode\": \"immediate\", \"transition\": {\"duration\": 1800}}], \"label\": \"2009\", \"method\": \"animate\"}, {\"args\": [[\"2010\"], {\"frame\": {\"duration\": 1800, \"redraw\": false}, \"mode\": \"immediate\", \"transition\": {\"duration\": 1800}}], \"label\": \"2010\", \"method\": \"animate\"}, {\"args\": [[\"2011\"], {\"frame\": {\"duration\": 1800, \"redraw\": false}, \"mode\": \"immediate\", \"transition\": {\"duration\": 1800}}], \"label\": \"2011\", \"method\": \"animate\"}, {\"args\": [[\"2012\"], {\"frame\": {\"duration\": 1800, \"redraw\": false}, \"mode\": \"immediate\", \"transition\": {\"duration\": 1800}}], \"label\": \"2012\", \"method\": \"animate\"}, {\"args\": [[\"2013\"], {\"frame\": {\"duration\": 1800, \"redraw\": false}, \"mode\": \"immediate\", \"transition\": {\"duration\": 1800}}], \"label\": \"2013\", \"method\": \"animate\"}, {\"args\": [[\"2014\"], {\"frame\": {\"duration\": 1800, \"redraw\": false}, \"mode\": \"immediate\", \"transition\": {\"duration\": 1800}}], \"label\": \"2014\", \"method\": \"animate\"}, {\"args\": [[\"2015\"], {\"frame\": {\"duration\": 1800, \"redraw\": false}, \"mode\": \"immediate\", \"transition\": {\"duration\": 1800}}], \"label\": \"2015\", \"method\": \"animate\"}, {\"args\": [[\"2016\"], {\"frame\": {\"duration\": 1800, \"redraw\": false}, \"mode\": \"immediate\", \"transition\": {\"duration\": 1800}}], \"label\": \"2016\", \"method\": \"animate\"}, {\"args\": [[\"2017\"], {\"frame\": {\"duration\": 1800, \"redraw\": false}, \"mode\": \"immediate\", \"transition\": {\"duration\": 1800}}], \"label\": \"2017\", \"method\": \"animate\"}, {\"args\": [[\"2018\"], {\"frame\": {\"duration\": 1800, \"redraw\": false}, \"mode\": \"immediate\", \"transition\": {\"duration\": 1800}}], \"label\": \"2018\", \"method\": \"animate\"}], \"transition\": {\"duration\": 300, \"easing\": \"cubic-in-out\"}, \"x\": 0.1, \"xanchor\": \"left\", \"y\": 0, \"yanchor\": \"top\"}], \"template\": {\"data\": {\"bar\": [{\"error_x\": {\"color\": \"#2a3f5f\"}, \"error_y\": {\"color\": \"#2a3f5f\"}, \"marker\": {\"line\": {\"color\": \"#E5ECF6\", \"width\": 0.5}}, \"type\": \"bar\"}], \"barpolar\": [{\"marker\": {\"line\": {\"color\": \"#E5ECF6\", \"width\": 0.5}}, \"type\": \"barpolar\"}], \"carpet\": [{\"aaxis\": {\"endlinecolor\": \"#2a3f5f\", \"gridcolor\": \"white\", \"linecolor\": \"white\", \"minorgridcolor\": \"white\", \"startlinecolor\": \"#2a3f5f\"}, \"baxis\": {\"endlinecolor\": \"#2a3f5f\", \"gridcolor\": \"white\", \"linecolor\": \"white\", \"minorgridcolor\": \"white\", \"startlinecolor\": \"#2a3f5f\"}, \"type\": \"carpet\"}], \"choropleth\": [{\"colorbar\": {\"outlinewidth\": 0, \"ticks\": \"\"}, \"type\": \"choropleth\"}], \"contour\": [{\"colorbar\": {\"outlinewidth\": 0, \"ticks\": \"\"}, \"colorscale\": [[0.0, \"#0d0887\"], [0.1111111111111111, \"#46039f\"], [0.2222222222222222, \"#7201a8\"], [0.3333333333333333, \"#9c179e\"], [0.4444444444444444, \"#bd3786\"], [0.5555555555555556, \"#d8576b\"], [0.6666666666666666, \"#ed7953\"], [0.7777777777777778, \"#fb9f3a\"], [0.8888888888888888, \"#fdca26\"], [1.0, \"#f0f921\"]], \"type\": \"contour\"}], \"contourcarpet\": [{\"colorbar\": {\"outlinewidth\": 0, \"ticks\": \"\"}, \"type\": \"contourcarpet\"}], \"heatmap\": [{\"colorbar\": {\"outlinewidth\": 0, \"ticks\": \"\"}, \"colorscale\": [[0.0, \"#0d0887\"], [0.1111111111111111, \"#46039f\"], [0.2222222222222222, \"#7201a8\"], [0.3333333333333333, \"#9c179e\"], [0.4444444444444444, \"#bd3786\"], [0.5555555555555556, \"#d8576b\"], [0.6666666666666666, \"#ed7953\"], [0.7777777777777778, \"#fb9f3a\"], [0.8888888888888888, \"#fdca26\"], [1.0, \"#f0f921\"]], \"type\": \"heatmap\"}], \"heatmapgl\": [{\"colorbar\": {\"outlinewidth\": 0, \"ticks\": \"\"}, \"colorscale\": [[0.0, \"#0d0887\"], [0.1111111111111111, \"#46039f\"], [0.2222222222222222, \"#7201a8\"], [0.3333333333333333, \"#9c179e\"], [0.4444444444444444, \"#bd3786\"], [0.5555555555555556, \"#d8576b\"], [0.6666666666666666, \"#ed7953\"], [0.7777777777777778, \"#fb9f3a\"], [0.8888888888888888, \"#fdca26\"], [1.0, \"#f0f921\"]], \"type\": \"heatmapgl\"}], \"histogram\": [{\"marker\": {\"colorbar\": {\"outlinewidth\": 0, \"ticks\": \"\"}}, \"type\": \"histogram\"}], \"histogram2d\": [{\"colorbar\": {\"outlinewidth\": 0, \"ticks\": \"\"}, \"colorscale\": [[0.0, \"#0d0887\"], [0.1111111111111111, \"#46039f\"], [0.2222222222222222, \"#7201a8\"], [0.3333333333333333, \"#9c179e\"], [0.4444444444444444, \"#bd3786\"], [0.5555555555555556, \"#d8576b\"], [0.6666666666666666, \"#ed7953\"], [0.7777777777777778, \"#fb9f3a\"], [0.8888888888888888, \"#fdca26\"], [1.0, \"#f0f921\"]], \"type\": \"histogram2d\"}], \"histogram2dcontour\": [{\"colorbar\": {\"outlinewidth\": 0, \"ticks\": \"\"}, \"colorscale\": [[0.0, \"#0d0887\"], [0.1111111111111111, \"#46039f\"], [0.2222222222222222, \"#7201a8\"], [0.3333333333333333, \"#9c179e\"], [0.4444444444444444, \"#bd3786\"], [0.5555555555555556, \"#d8576b\"], [0.6666666666666666, \"#ed7953\"], [0.7777777777777778, \"#fb9f3a\"], [0.8888888888888888, \"#fdca26\"], [1.0, \"#f0f921\"]], \"type\": \"histogram2dcontour\"}], \"mesh3d\": [{\"colorbar\": {\"outlinewidth\": 0, \"ticks\": \"\"}, \"type\": \"mesh3d\"}], \"parcoords\": [{\"line\": {\"colorbar\": {\"outlinewidth\": 0, \"ticks\": \"\"}}, \"type\": \"parcoords\"}], \"pie\": [{\"automargin\": true, \"type\": \"pie\"}], \"scatter\": [{\"marker\": {\"colorbar\": {\"outlinewidth\": 0, \"ticks\": \"\"}}, \"type\": \"scatter\"}], \"scatter3d\": [{\"line\": {\"colorbar\": {\"outlinewidth\": 0, \"ticks\": \"\"}}, \"marker\": {\"colorbar\": {\"outlinewidth\": 0, \"ticks\": \"\"}}, \"type\": \"scatter3d\"}], \"scattercarpet\": [{\"marker\": {\"colorbar\": {\"outlinewidth\": 0, \"ticks\": \"\"}}, \"type\": \"scattercarpet\"}], \"scattergeo\": [{\"marker\": {\"colorbar\": {\"outlinewidth\": 0, \"ticks\": \"\"}}, \"type\": \"scattergeo\"}], \"scattergl\": [{\"marker\": {\"colorbar\": {\"outlinewidth\": 0, \"ticks\": \"\"}}, \"type\": \"scattergl\"}], \"scattermapbox\": [{\"marker\": {\"colorbar\": {\"outlinewidth\": 0, \"ticks\": \"\"}}, \"type\": \"scattermapbox\"}], \"scatterpolar\": [{\"marker\": {\"colorbar\": {\"outlinewidth\": 0, \"ticks\": \"\"}}, \"type\": \"scatterpolar\"}], \"scatterpolargl\": [{\"marker\": {\"colorbar\": {\"outlinewidth\": 0, \"ticks\": \"\"}}, \"type\": \"scatterpolargl\"}], \"scatterternary\": [{\"marker\": {\"colorbar\": {\"outlinewidth\": 0, \"ticks\": \"\"}}, \"type\": \"scatterternary\"}], \"surface\": [{\"colorbar\": {\"outlinewidth\": 0, \"ticks\": \"\"}, \"colorscale\": [[0.0, \"#0d0887\"], [0.1111111111111111, \"#46039f\"], [0.2222222222222222, \"#7201a8\"], [0.3333333333333333, \"#9c179e\"], [0.4444444444444444, \"#bd3786\"], [0.5555555555555556, \"#d8576b\"], [0.6666666666666666, \"#ed7953\"], [0.7777777777777778, \"#fb9f3a\"], [0.8888888888888888, \"#fdca26\"], [1.0, \"#f0f921\"]], \"type\": \"surface\"}], \"table\": [{\"cells\": {\"fill\": {\"color\": \"#EBF0F8\"}, \"line\": {\"color\": \"white\"}}, \"header\": {\"fill\": {\"color\": \"#C8D4E3\"}, \"line\": {\"color\": \"white\"}}, \"type\": \"table\"}]}, \"layout\": {\"annotationdefaults\": {\"arrowcolor\": \"#2a3f5f\", \"arrowhead\": 0, \"arrowwidth\": 1}, \"coloraxis\": {\"colorbar\": {\"outlinewidth\": 0, \"ticks\": \"\"}}, \"colorscale\": {\"diverging\": [[0, \"#8e0152\"], [0.1, \"#c51b7d\"], [0.2, \"#de77ae\"], [0.3, \"#f1b6da\"], [0.4, \"#fde0ef\"], [0.5, \"#f7f7f7\"], [0.6, \"#e6f5d0\"], [0.7, \"#b8e186\"], [0.8, \"#7fbc41\"], [0.9, \"#4d9221\"], [1, \"#276419\"]], \"sequential\": [[0.0, \"#0d0887\"], [0.1111111111111111, \"#46039f\"], [0.2222222222222222, \"#7201a8\"], [0.3333333333333333, \"#9c179e\"], [0.4444444444444444, \"#bd3786\"], [0.5555555555555556, \"#d8576b\"], [0.6666666666666666, \"#ed7953\"], [0.7777777777777778, \"#fb9f3a\"], [0.8888888888888888, \"#fdca26\"], [1.0, \"#f0f921\"]], \"sequentialminus\": [[0.0, \"#0d0887\"], [0.1111111111111111, \"#46039f\"], [0.2222222222222222, \"#7201a8\"], [0.3333333333333333, \"#9c179e\"], [0.4444444444444444, \"#bd3786\"], [0.5555555555555556, \"#d8576b\"], [0.6666666666666666, \"#ed7953\"], [0.7777777777777778, \"#fb9f3a\"], [0.8888888888888888, \"#fdca26\"], [1.0, \"#f0f921\"]]}, \"colorway\": [\"#636efa\", \"#EF553B\", \"#00cc96\", \"#ab63fa\", \"#FFA15A\", \"#19d3f3\", \"#FF6692\", \"#B6E880\", \"#FF97FF\", \"#FECB52\"], \"font\": {\"color\": \"#2a3f5f\"}, \"geo\": {\"bgcolor\": \"white\", \"lakecolor\": \"white\", \"landcolor\": \"#E5ECF6\", \"showlakes\": true, \"showland\": true, \"subunitcolor\": \"white\"}, \"hoverlabel\": {\"align\": \"left\"}, \"hovermode\": \"closest\", \"mapbox\": {\"style\": \"light\"}, \"paper_bgcolor\": \"white\", \"plot_bgcolor\": \"#E5ECF6\", \"polar\": {\"angularaxis\": {\"gridcolor\": \"white\", \"linecolor\": \"white\", \"ticks\": \"\"}, \"bgcolor\": \"#E5ECF6\", \"radialaxis\": {\"gridcolor\": \"white\", \"linecolor\": \"white\", \"ticks\": \"\"}}, \"scene\": {\"xaxis\": {\"backgroundcolor\": \"#E5ECF6\", \"gridcolor\": \"white\", \"gridwidth\": 2, \"linecolor\": \"white\", \"showbackground\": true, \"ticks\": \"\", \"zerolinecolor\": \"white\"}, \"yaxis\": {\"backgroundcolor\": \"#E5ECF6\", \"gridcolor\": \"white\", \"gridwidth\": 2, \"linecolor\": \"white\", \"showbackground\": true, \"ticks\": \"\", \"zerolinecolor\": \"white\"}, \"zaxis\": {\"backgroundcolor\": \"#E5ECF6\", \"gridcolor\": \"white\", \"gridwidth\": 2, \"linecolor\": \"white\", \"showbackground\": true, \"ticks\": \"\", \"zerolinecolor\": \"white\"}}, \"shapedefaults\": {\"line\": {\"color\": \"#2a3f5f\"}}, \"ternary\": {\"aaxis\": {\"gridcolor\": \"white\", \"linecolor\": \"white\", \"ticks\": \"\"}, \"baxis\": {\"gridcolor\": \"white\", \"linecolor\": \"white\", \"ticks\": \"\"}, \"bgcolor\": \"#E5ECF6\", \"caxis\": {\"gridcolor\": \"white\", \"linecolor\": \"white\", \"ticks\": \"\"}}, \"title\": {\"x\": 0.05}, \"xaxis\": {\"automargin\": true, \"gridcolor\": \"white\", \"linecolor\": \"white\", \"ticks\": \"\", \"title\": {\"standoff\": 15}, \"zerolinecolor\": \"white\", \"zerolinewidth\": 2}, \"yaxis\": {\"automargin\": true, \"gridcolor\": \"white\", \"linecolor\": \"white\", \"ticks\": \"\", \"title\": {\"standoff\": 15}, \"zerolinecolor\": \"white\", \"zerolinewidth\": 2}}}, \"updatemenus\": [{\"buttons\": [{\"args\": [null, {\"frame\": {\"duration\": 1800, \"redraw\": false}, \"fromcurrent\": true, \"transition\": {\"duration\": 1800, \"easing\": \"quadratic-in-out\"}}], \"label\": \"Play\", \"method\": \"animate\"}, {\"args\": [[null], {\"frame\": {\"duration\": 0, \"redraw\": false}, \"mode\": \"immediate\", \"transition\": {\"duration\": 0}}], \"label\": \"Pause\", \"method\": \"animate\"}], \"direction\": \"left\", \"pad\": {\"r\": 10, \"t\": 87}, \"showactive\": true, \"type\": \"buttons\", \"x\": 0.1, \"xanchor\": \"right\", \"y\": 0, \"yanchor\": \"top\"}], \"xaxis\": {\"range\": [0, 1907024730.0], \"showline\": true, \"showticklabels\": true, \"title\": {\"text\": \"Production quantity (tonnes)\"}, \"visible\": true}, \"yaxis\": {\"showline\": false, \"showticklabels\": false, \"title\": {\"text\": \"Top 10 crops\"}, \"visible\": true}},                        {\"responsive\": true}                    ).then(function(){\n",
       "                            Plotly.addFrames('feac6c97-82f9-415b-81c7-2d744a174758', [{\"data\": [{\"cliponaxis\": false, \"hoverinfo\": \"all\", \"hovertemplate\": \"<extra></extra>\", \"marker\": {\"color\": [\"rgb(47, 1, 85)\", \"rgb(36, 5, 133)\", \"rgb(146, 175, 50)\", \"rgb(27, 6, 239)\", \"rgb(28, 2, 204)\", \"rgb(116, 5, 156)\", \"rgb(179, 68, 56)\", \"rgb(130, 181, 111)\", \"rgb(255, 217, 83)\", \"rgb(104, 239, 194)\"]}, \"orientation\": \"h\", \"textangle\": 0, \"textposition\": \"outside\", \"texttemplate\": \"%{y}<br>%{x:.4s}\", \"x\": [71259839.0, 72411104.0, 98192635.0, 143836304.0, 160501987.0, 205027583.0, 215646633.0, 222357231.0, 270552196.0, 447977522.0], \"y\": [\"Cassava\", \"Barley\", \"Sweet potatoes\", \"Rice, paddy (rice milled equivalent)\", \"Sugar beet\", \"Maize\", \"Rice, paddy\", \"Wheat\", \"Potatoes\", \"Sugar cane\"], \"type\": \"bar\"}], \"layout\": {\"bargap\": 0.15, \"font\": {\"size\": 14}, \"plot_bgcolor\": \"#FFFFFF\", \"xaxis\": {\"range\": [0, 1907024730.0], \"showline\": true, \"visible\": true}, \"yaxis\": {\"showline\": false, \"visible\": true}}, \"name\": \"1961\"}, {\"data\": [{\"cliponaxis\": false, \"hoverinfo\": \"all\", \"hovertemplate\": \"<extra></extra>\", \"marker\": {\"color\": [\"rgb(47, 1, 85)\", \"rgb(36, 5, 133)\", \"rgb(146, 175, 50)\", \"rgb(28, 2, 204)\", \"rgb(27, 6, 239)\", \"rgb(116, 5, 156)\", \"rgb(179, 68, 56)\", \"rgb(130, 181, 111)\", \"rgb(255, 217, 83)\", \"rgb(104, 239, 194)\"]}, \"orientation\": \"h\", \"textangle\": 0, \"textposition\": \"outside\", \"texttemplate\": \"%{y}<br>%{x:.4s}\", \"x\": [74636680.0, 88396959.0, 105291106.0, 149172711.0, 151046350.0, 204876937.0, 226456297.0, 250319146.0, 252987460.0, 436872640.0], \"y\": [\"Cassava\", \"Barley\", \"Sweet potatoes\", \"Sugar beet\", \"Rice, paddy (rice milled equivalent)\", \"Maize\", \"Rice, paddy\", \"Wheat\", \"Potatoes\", \"Sugar cane\"], \"type\": \"bar\"}], \"layout\": {\"bargap\": 0.15, \"font\": {\"size\": 14}, \"plot_bgcolor\": \"#FFFFFF\", \"xaxis\": {\"range\": [0, 1907024730.0], \"showline\": true, \"visible\": true}, \"yaxis\": {\"showline\": false, \"visible\": true}}, \"name\": \"1962\"}, {\"data\": [{\"cliponaxis\": false, \"hoverinfo\": \"all\", \"hovertemplate\": \"<extra></extra>\", \"marker\": {\"color\": [\"rgb(47, 1, 85)\", \"rgb(36, 5, 133)\", \"rgb(146, 175, 50)\", \"rgb(27, 6, 239)\", \"rgb(28, 2, 204)\", \"rgb(116, 5, 156)\", \"rgb(130, 181, 111)\", \"rgb(179, 68, 56)\", \"rgb(255, 217, 83)\", \"rgb(104, 239, 194)\"]}, \"orientation\": \"h\", \"textangle\": 0, \"textposition\": \"outside\", \"texttemplate\": \"%{y}<br>%{x:.4s}\", \"x\": [77975688.0, 90385850.0, 98009159.0, 164828514.0, 164975629.0, 220228333.0, 233339473.0, 247119211.0, 269982498.0, 439927902.0], \"y\": [\"Cassava\", \"Barley\", \"Sweet potatoes\", \"Rice, paddy (rice milled equivalent)\", \"Sugar beet\", \"Maize\", \"Wheat\", \"Rice, paddy\", \"Potatoes\", \"Sugar cane\"], \"type\": \"bar\"}], \"layout\": {\"bargap\": 0.15, \"font\": {\"size\": 14}, \"plot_bgcolor\": \"#FFFFFF\", \"xaxis\": {\"range\": [0, 1907024730.0], \"showline\": true, \"visible\": true}, \"yaxis\": {\"showline\": false, \"visible\": true}}, \"name\": \"1963\"}, {\"data\": [{\"cliponaxis\": false, \"hoverinfo\": \"all\", \"hovertemplate\": \"<extra></extra>\", \"marker\": {\"color\": [\"rgb(47, 1, 85)\", \"rgb(146, 175, 50)\", \"rgb(36, 5, 133)\", \"rgb(27, 6, 239)\", \"rgb(116, 5, 156)\", \"rgb(28, 2, 204)\", \"rgb(179, 68, 56)\", \"rgb(130, 181, 111)\", \"rgb(255, 217, 83)\", \"rgb(104, 239, 194)\"]}, \"orientation\": \"h\", \"textangle\": 0, \"textposition\": \"outside\", \"texttemplate\": \"%{y}<br>%{x:.4s}\", \"x\": [82429399.0, 93377412.0, 95524923.0, 175373614.0, 215172627.0, 216206931.0, 262928956.0, 268791657.0, 284678614.0, 480849768.0], \"y\": [\"Cassava\", \"Sweet potatoes\", \"Barley\", \"Rice, paddy (rice milled equivalent)\", \"Maize\", \"Sugar beet\", \"Rice, paddy\", \"Wheat\", \"Potatoes\", \"Sugar cane\"], \"type\": \"bar\"}], \"layout\": {\"bargap\": 0.15, \"font\": {\"size\": 14}, \"plot_bgcolor\": \"#FFFFFF\", \"xaxis\": {\"range\": [0, 1907024730.0], \"showline\": true, \"visible\": true}, \"yaxis\": {\"showline\": false, \"visible\": true}}, \"name\": \"1964\"}, {\"data\": [{\"cliponaxis\": false, \"hoverinfo\": \"all\", \"hovertemplate\": \"<extra></extra>\", \"marker\": {\"color\": [\"rgb(47, 1, 85)\", \"rgb(36, 5, 133)\", \"rgb(146, 175, 50)\", \"rgb(27, 6, 239)\", \"rgb(28, 2, 204)\", \"rgb(116, 5, 156)\", \"rgb(179, 68, 56)\", \"rgb(130, 181, 111)\", \"rgb(255, 217, 83)\", \"rgb(104, 239, 194)\"]}, \"orientation\": \"h\", \"textangle\": 0, \"textposition\": \"outside\", \"texttemplate\": \"%{y}<br>%{x:.4s}\", \"x\": [85582843.0, 92617012.0, 108377879.0, 169457796.0, 197376224.0, 226544256.0, 254059664.0, 263645963.0, 270913502.0, 531297486.0], \"y\": [\"Cassava\", \"Barley\", \"Sweet potatoes\", \"Rice, paddy (rice milled equivalent)\", \"Sugar beet\", \"Maize\", \"Rice, paddy\", \"Wheat\", \"Potatoes\", \"Sugar cane\"], \"type\": \"bar\"}], \"layout\": {\"bargap\": 0.15, \"font\": {\"size\": 14}, \"plot_bgcolor\": \"#FFFFFF\", \"xaxis\": {\"range\": [0, 1907024730.0], \"showline\": true, \"visible\": true}, \"yaxis\": {\"showline\": false, \"visible\": true}}, \"name\": \"1965\"}, {\"data\": [{\"cliponaxis\": false, \"hoverinfo\": \"all\", \"hovertemplate\": \"<extra></extra>\", \"marker\": {\"color\": [\"rgb(47, 1, 85)\", \"rgb(36, 5, 133)\", \"rgb(146, 175, 50)\", \"rgb(27, 6, 239)\", \"rgb(28, 2, 204)\", \"rgb(116, 5, 156)\", \"rgb(179, 68, 56)\", \"rgb(255, 217, 83)\", \"rgb(130, 181, 111)\", \"rgb(104, 239, 194)\"]}, \"orientation\": \"h\", \"textangle\": 0, \"textposition\": \"outside\", \"texttemplate\": \"%{y}<br>%{x:.4s}\", \"x\": [84718809.0, 100425696.0, 119686566.0, 174207899.0, 212270253.0, 245599160.0, 261181258.0, 281964109.0, 303785460.0, 531492823.0], \"y\": [\"Cassava\", \"Barley\", \"Sweet potatoes\", \"Rice, paddy (rice milled equivalent)\", \"Sugar beet\", \"Maize\", \"Rice, paddy\", \"Potatoes\", \"Wheat\", \"Sugar cane\"], \"type\": \"bar\"}], \"layout\": {\"bargap\": 0.15, \"font\": {\"size\": 14}, \"plot_bgcolor\": \"#FFFFFF\", \"xaxis\": {\"range\": [0, 1907024730.0], \"showline\": true, \"visible\": true}, \"yaxis\": {\"showline\": false, \"visible\": true}}, \"name\": \"1966\"}, {\"data\": [{\"cliponaxis\": false, \"hoverinfo\": \"all\", \"hovertemplate\": \"<extra></extra>\", \"marker\": {\"color\": [\"rgb(47, 1, 85)\", \"rgb(36, 5, 133)\", \"rgb(146, 175, 50)\", \"rgb(27, 6, 239)\", \"rgb(28, 2, 204)\", \"rgb(116, 5, 156)\", \"rgb(179, 68, 56)\", \"rgb(130, 181, 111)\", \"rgb(255, 217, 83)\", \"rgb(104, 239, 194)\"]}, \"orientation\": \"h\", \"textangle\": 0, \"textposition\": \"outside\", \"texttemplate\": \"%{y}<br>%{x:.4s}\", \"x\": [88630176.0, 103177495.0, 118614438.0, 185016704.0, 233455177.0, 272548473.0, 277386363.0, 294295876.0, 296220305.0, 518890895.0], \"y\": [\"Cassava\", \"Barley\", \"Sweet potatoes\", \"Rice, paddy (rice milled equivalent)\", \"Sugar beet\", \"Maize\", \"Rice, paddy\", \"Wheat\", \"Potatoes\", \"Sugar cane\"], \"type\": \"bar\"}], \"layout\": {\"bargap\": 0.15, \"font\": {\"size\": 14}, \"plot_bgcolor\": \"#FFFFFF\", \"xaxis\": {\"range\": [0, 1907024730.0], \"showline\": true, \"visible\": true}, \"yaxis\": {\"showline\": false, \"visible\": true}}, \"name\": \"1967\"}, {\"data\": [{\"cliponaxis\": false, \"hoverinfo\": \"all\", \"hovertemplate\": \"<extra></extra>\", \"marker\": {\"color\": [\"rgb(47, 1, 85)\", \"rgb(36, 5, 133)\", \"rgb(146, 175, 50)\", \"rgb(27, 6, 239)\", \"rgb(28, 2, 204)\", \"rgb(116, 5, 156)\", \"rgb(179, 68, 56)\", \"rgb(255, 217, 83)\", \"rgb(130, 181, 111)\", \"rgb(104, 239, 194)\"]}, \"orientation\": \"h\", \"textangle\": 0, \"textposition\": \"outside\", \"texttemplate\": \"%{y}<br>%{x:.4s}\", \"x\": [93090059.0, 113504505.0, 118097469.0, 192512413.0, 248856658.0, 255670551.0, 288624308.0, 303709120.0, 326843941.0, 506091880.0], \"y\": [\"Cassava\", \"Barley\", \"Sweet potatoes\", \"Rice, paddy (rice milled equivalent)\", \"Sugar beet\", \"Maize\", \"Rice, paddy\", \"Potatoes\", \"Wheat\", \"Sugar cane\"], \"type\": \"bar\"}], \"layout\": {\"bargap\": 0.15, \"font\": {\"size\": 14}, \"plot_bgcolor\": \"#FFFFFF\", \"xaxis\": {\"range\": [0, 1907024730.0], \"showline\": true, \"visible\": true}, \"yaxis\": {\"showline\": false, \"visible\": true}}, \"name\": \"1968\"}, {\"data\": [{\"cliponaxis\": false, \"hoverinfo\": \"all\", \"hovertemplate\": \"<extra></extra>\", \"marker\": {\"color\": [\"rgb(47, 1, 85)\", \"rgb(36, 5, 133)\", \"rgb(146, 175, 50)\", \"rgb(27, 6, 239)\", \"rgb(28, 2, 204)\", \"rgb(116, 5, 156)\", \"rgb(255, 217, 83)\", \"rgb(179, 68, 56)\", \"rgb(130, 181, 111)\", \"rgb(104, 239, 194)\"]}, \"orientation\": \"h\", \"textangle\": 0, \"textposition\": \"outside\", \"texttemplate\": \"%{y}<br>%{x:.4s}\", \"x\": [95325330.0, 118006371.0, 126160704.0, 197154789.0, 216920772.0, 269506068.0, 278475710.0, 295584391.0, 308640283.0, 538255737.0], \"y\": [\"Cassava\", \"Barley\", \"Sweet potatoes\", \"Rice, paddy (rice milled equivalent)\", \"Sugar beet\", \"Maize\", \"Potatoes\", \"Rice, paddy\", \"Wheat\", \"Sugar cane\"], \"type\": \"bar\"}], \"layout\": {\"bargap\": 0.15, \"font\": {\"size\": 14}, \"plot_bgcolor\": \"#FFFFFF\", \"xaxis\": {\"range\": [0, 1907024730.0], \"showline\": true, \"visible\": true}, \"yaxis\": {\"showline\": false, \"visible\": true}}, \"name\": \"1969\"}, {\"data\": [{\"cliponaxis\": false, \"hoverinfo\": \"all\", \"hovertemplate\": \"<extra></extra>\", \"marker\": {\"color\": [\"rgb(47, 1, 85)\", \"rgb(36, 5, 133)\", \"rgb(146, 175, 50)\", \"rgb(27, 6, 239)\", \"rgb(28, 2, 204)\", \"rgb(116, 5, 156)\", \"rgb(255, 217, 83)\", \"rgb(130, 181, 111)\", \"rgb(179, 68, 56)\", \"rgb(104, 239, 194)\"]}, \"orientation\": \"h\", \"textangle\": 0, \"textposition\": \"outside\", \"texttemplate\": \"%{y}<br>%{x:.4s}\", \"x\": [98589699.0, 119378695.0, 136507488.0, 211002584.0, 224251952.0, 265831145.0, 298048017.0, 310740954.0, 316345703.0, 608616105.0], \"y\": [\"Cassava\", \"Barley\", \"Sweet potatoes\", \"Rice, paddy (rice milled equivalent)\", \"Sugar beet\", \"Maize\", \"Potatoes\", \"Wheat\", \"Rice, paddy\", \"Sugar cane\"], \"type\": \"bar\"}], \"layout\": {\"bargap\": 0.15, \"font\": {\"size\": 14}, \"plot_bgcolor\": \"#FFFFFF\", \"xaxis\": {\"range\": [0, 1907024730.0], \"showline\": true, \"visible\": true}, \"yaxis\": {\"showline\": false, \"visible\": true}}, \"name\": \"1970\"}, {\"data\": [{\"cliponaxis\": false, \"hoverinfo\": \"all\", \"hovertemplate\": \"<extra></extra>\", \"marker\": {\"color\": [\"rgb(47, 1, 85)\", \"rgb(146, 175, 50)\", \"rgb(36, 5, 133)\", \"rgb(27, 6, 239)\", \"rgb(28, 2, 204)\", \"rgb(255, 217, 83)\", \"rgb(116, 5, 156)\", \"rgb(179, 68, 56)\", \"rgb(130, 181, 111)\", \"rgb(104, 239, 194)\"]}, \"orientation\": \"h\", \"textangle\": 0, \"textposition\": \"outside\", \"texttemplate\": \"%{y}<br>%{x:.4s}\", \"x\": [98756434.0, 127252781.0, 131237044.0, 211914188.0, 227540795.0, 279490572.0, 313622622.0, 317712426.0, 347525581.0, 582105426.0], \"y\": [\"Cassava\", \"Sweet potatoes\", \"Barley\", \"Rice, paddy (rice milled equivalent)\", \"Sugar beet\", \"Potatoes\", \"Maize\", \"Rice, paddy\", \"Wheat\", \"Sugar cane\"], \"type\": \"bar\"}], \"layout\": {\"bargap\": 0.15, \"font\": {\"size\": 14}, \"plot_bgcolor\": \"#FFFFFF\", \"xaxis\": {\"range\": [0, 1907024730.0], \"showline\": true, \"visible\": true}, \"yaxis\": {\"showline\": false, \"visible\": true}}, \"name\": \"1971\"}, {\"data\": [{\"cliponaxis\": false, \"hoverinfo\": \"all\", \"hovertemplate\": \"<extra></extra>\", \"marker\": {\"color\": [\"rgb(47, 1, 85)\", \"rgb(146, 175, 50)\", \"rgb(36, 5, 133)\", \"rgb(27, 6, 239)\", \"rgb(28, 2, 204)\", \"rgb(255, 217, 83)\", \"rgb(179, 68, 56)\", \"rgb(116, 5, 156)\", \"rgb(130, 181, 111)\", \"rgb(104, 239, 194)\"]}, \"orientation\": \"h\", \"textangle\": 0, \"textposition\": \"outside\", \"texttemplate\": \"%{y}<br>%{x:.4s}\", \"x\": [101261515.0, 121467494.0, 132963909.0, 204962388.0, 240336963.0, 272144812.0, 307289937.0, 308826290.0, 343001429.0, 569105570.0], \"y\": [\"Cassava\", \"Sweet potatoes\", \"Barley\", \"Rice, paddy (rice milled equivalent)\", \"Sugar beet\", \"Potatoes\", \"Rice, paddy\", \"Maize\", \"Wheat\", \"Sugar cane\"], \"type\": \"bar\"}], \"layout\": {\"bargap\": 0.15, \"font\": {\"size\": 14}, \"plot_bgcolor\": \"#FFFFFF\", \"xaxis\": {\"range\": [0, 1907024730.0], \"showline\": true, \"visible\": true}, \"yaxis\": {\"showline\": false, \"visible\": true}}, \"name\": \"1972\"}, {\"data\": [{\"cliponaxis\": false, \"hoverinfo\": \"all\", \"hovertemplate\": \"<extra></extra>\", \"marker\": {\"color\": [\"rgb(47, 1, 85)\", \"rgb(36, 5, 133)\", \"rgb(146, 175, 50)\", \"rgb(27, 6, 239)\", \"rgb(28, 2, 204)\", \"rgb(255, 217, 83)\", \"rgb(116, 5, 156)\", \"rgb(179, 68, 56)\", \"rgb(130, 181, 111)\", \"rgb(104, 239, 194)\"]}, \"orientation\": \"h\", \"textangle\": 0, \"textposition\": \"outside\", \"texttemplate\": \"%{y}<br>%{x:.4s}\", \"x\": [101734795.0, 146966081.0, 152865329.0, 223397535.0, 250104320.0, 307160130.0, 318290469.0, 334928838.0, 369334126.0, 600227145.0], \"y\": [\"Cassava\", \"Barley\", \"Sweet potatoes\", \"Rice, paddy (rice milled equivalent)\", \"Sugar beet\", \"Potatoes\", \"Maize\", \"Rice, paddy\", \"Wheat\", \"Sugar cane\"], \"type\": \"bar\"}], \"layout\": {\"bargap\": 0.15, \"font\": {\"size\": 14}, \"plot_bgcolor\": \"#FFFFFF\", \"xaxis\": {\"range\": [0, 1907024730.0], \"showline\": true, \"visible\": true}, \"yaxis\": {\"showline\": false, \"visible\": true}}, \"name\": \"1973\"}, {\"data\": [{\"cliponaxis\": false, \"hoverinfo\": \"all\", \"hovertemplate\": \"<extra></extra>\", \"marker\": {\"color\": [\"rgb(47, 1, 85)\", \"rgb(146, 175, 50)\", \"rgb(36, 5, 133)\", \"rgb(27, 6, 239)\", \"rgb(28, 2, 204)\", \"rgb(255, 217, 83)\", \"rgb(116, 5, 156)\", \"rgb(179, 68, 56)\", \"rgb(130, 181, 111)\", \"rgb(104, 239, 194)\"]}, \"orientation\": \"h\", \"textangle\": 0, \"textposition\": \"outside\", \"texttemplate\": \"%{y}<br>%{x:.4s}\", \"x\": [104370567.0, 137264243.0, 148818870.0, 221424400.0, 234922029.0, 284781339.0, 306427347.0, 331970614.0, 358825442.0, 648516497.0], \"y\": [\"Cassava\", \"Sweet potatoes\", \"Barley\", \"Rice, paddy (rice milled equivalent)\", \"Sugar beet\", \"Potatoes\", \"Maize\", \"Rice, paddy\", \"Wheat\", \"Sugar cane\"], \"type\": \"bar\"}], \"layout\": {\"bargap\": 0.15, \"font\": {\"size\": 14}, \"plot_bgcolor\": \"#FFFFFF\", \"xaxis\": {\"range\": [0, 1907024730.0], \"showline\": true, \"visible\": true}, \"yaxis\": {\"showline\": false, \"visible\": true}}, \"name\": \"1974\"}, {\"data\": [{\"cliponaxis\": false, \"hoverinfo\": \"all\", \"hovertemplate\": \"<extra></extra>\", \"marker\": {\"color\": [\"rgb(47, 1, 85)\", \"rgb(36, 5, 133)\", \"rgb(146, 175, 50)\", \"rgb(27, 6, 239)\", \"rgb(28, 2, 204)\", \"rgb(255, 217, 83)\", \"rgb(116, 5, 156)\", \"rgb(130, 181, 111)\", \"rgb(179, 68, 56)\", \"rgb(104, 239, 194)\"]}, \"orientation\": \"h\", \"textangle\": 0, \"textposition\": \"outside\", \"texttemplate\": \"%{y}<br>%{x:.4s}\", \"x\": [110398445.0, 135491720.0, 141314403.0, 238094381.0, 251310276.0, 270384075.0, 341751971.0, 355806146.0, 356963090.0, 655815792.0], \"y\": [\"Cassava\", \"Barley\", \"Sweet potatoes\", \"Rice, paddy (rice milled equivalent)\", \"Sugar beet\", \"Potatoes\", \"Maize\", \"Wheat\", \"Rice, paddy\", \"Sugar cane\"], \"type\": \"bar\"}], \"layout\": {\"bargap\": 0.15, \"font\": {\"size\": 14}, \"plot_bgcolor\": \"#FFFFFF\", \"xaxis\": {\"range\": [0, 1907024730.0], \"showline\": true, \"visible\": true}, \"yaxis\": {\"showline\": false, \"visible\": true}}, \"name\": \"1975\"}, {\"data\": [{\"cliponaxis\": false, \"hoverinfo\": \"all\", \"hovertemplate\": \"<extra></extra>\", \"marker\": {\"color\": [\"rgb(47, 1, 85)\", \"rgb(146, 175, 50)\", \"rgb(36, 5, 133)\", \"rgb(27, 6, 239)\", \"rgb(255, 217, 83)\", \"rgb(28, 2, 204)\", \"rgb(179, 68, 56)\", \"rgb(116, 5, 156)\", \"rgb(130, 181, 111)\", \"rgb(104, 239, 194)\"]}, \"orientation\": \"h\", \"textangle\": 0, \"textposition\": \"outside\", \"texttemplate\": \"%{y}<br>%{x:.4s}\", \"x\": [113892497.0, 133322031.0, 166595806.0, 231906870.0, 272745276.0, 296408369.0, 347686462.0, 352395866.0, 419868031.0, 687207538.0], \"y\": [\"Cassava\", \"Sweet potatoes\", \"Barley\", \"Rice, paddy (rice milled equivalent)\", \"Potatoes\", \"Sugar beet\", \"Rice, paddy\", \"Maize\", \"Wheat\", \"Sugar cane\"], \"type\": \"bar\"}], \"layout\": {\"bargap\": 0.15, \"font\": {\"size\": 14}, \"plot_bgcolor\": \"#FFFFFF\", \"xaxis\": {\"range\": [0, 1907024730.0], \"showline\": true, \"visible\": true}, \"yaxis\": {\"showline\": false, \"visible\": true}}, \"name\": \"1976\"}, {\"data\": [{\"cliponaxis\": false, \"hoverinfo\": \"all\", \"hovertemplate\": \"<extra></extra>\", \"marker\": {\"color\": [\"rgb(47, 1, 85)\", \"rgb(146, 175, 50)\", \"rgb(36, 5, 133)\", \"rgb(27, 6, 239)\", \"rgb(255, 217, 83)\", \"rgb(28, 2, 204)\", \"rgb(179, 68, 56)\", \"rgb(116, 5, 156)\", \"rgb(130, 181, 111)\", \"rgb(104, 239, 194)\"]}, \"orientation\": \"h\", \"textangle\": 0, \"textposition\": \"outside\", \"texttemplate\": \"%{y}<br>%{x:.4s}\", \"x\": [118605256.0, 143107584.0, 156386493.0, 246443929.0, 279667694.0, 288582476.0, 369481153.0, 371593355.0, 382276677.0, 734858286.0], \"y\": [\"Cassava\", \"Sweet potatoes\", \"Barley\", \"Rice, paddy (rice milled equivalent)\", \"Potatoes\", \"Sugar beet\", \"Rice, paddy\", \"Maize\", \"Wheat\", \"Sugar cane\"], \"type\": \"bar\"}], \"layout\": {\"bargap\": 0.15, \"font\": {\"size\": 14}, \"plot_bgcolor\": \"#FFFFFF\", \"xaxis\": {\"range\": [0, 1907024730.0], \"showline\": true, \"visible\": true}, \"yaxis\": {\"showline\": false, \"visible\": true}}, \"name\": \"1977\"}, {\"data\": [{\"cliponaxis\": false, \"hoverinfo\": \"all\", \"hovertemplate\": \"<extra></extra>\", \"marker\": {\"color\": [\"rgb(47, 1, 85)\", \"rgb(146, 175, 50)\", \"rgb(36, 5, 133)\", \"rgb(27, 6, 239)\", \"rgb(28, 2, 204)\", \"rgb(255, 217, 83)\", \"rgb(179, 68, 56)\", \"rgb(116, 5, 156)\", \"rgb(130, 181, 111)\", \"rgb(104, 239, 194)\"]}, \"orientation\": \"h\", \"textangle\": 0, \"textposition\": \"outside\", \"texttemplate\": \"%{y}<br>%{x:.4s}\", \"x\": [123308473.0, 151857764.0, 174929309.0, 256934233.0, 282834069.0, 291161652.0, 385208745.0, 393600091.0, 443844880.0, 774416858.0], \"y\": [\"Cassava\", \"Sweet potatoes\", \"Barley\", \"Rice, paddy (rice milled equivalent)\", \"Sugar beet\", \"Potatoes\", \"Rice, paddy\", \"Maize\", \"Wheat\", \"Sugar cane\"], \"type\": \"bar\"}], \"layout\": {\"bargap\": 0.15, \"font\": {\"size\": 14}, \"plot_bgcolor\": \"#FFFFFF\", \"xaxis\": {\"range\": [0, 1907024730.0], \"showline\": true, \"visible\": true}, \"yaxis\": {\"showline\": false, \"visible\": true}}, \"name\": \"1978\"}, {\"data\": [{\"cliponaxis\": false, \"hoverinfo\": \"all\", \"hovertemplate\": \"<extra></extra>\", \"marker\": {\"color\": [\"rgb(47, 1, 85)\", \"rgb(146, 175, 50)\", \"rgb(36, 5, 133)\", \"rgb(27, 6, 239)\", \"rgb(28, 2, 204)\", \"rgb(255, 217, 83)\", \"rgb(179, 68, 56)\", \"rgb(116, 5, 156)\", \"rgb(130, 181, 111)\", \"rgb(104, 239, 194)\"]}, \"orientation\": \"h\", \"textangle\": 0, \"textposition\": \"outside\", \"texttemplate\": \"%{y}<br>%{x:.4s}\", \"x\": [119745423.0, 137935647.0, 154989948.0, 250292923.0, 262752809.0, 297921605.0, 375251758.0, 418622993.0, 422999301.0, 770245178.0], \"y\": [\"Cassava\", \"Sweet potatoes\", \"Barley\", \"Rice, paddy (rice milled equivalent)\", \"Sugar beet\", \"Potatoes\", \"Rice, paddy\", \"Maize\", \"Wheat\", \"Sugar cane\"], \"type\": \"bar\"}], \"layout\": {\"bargap\": 0.15, \"font\": {\"size\": 14}, \"plot_bgcolor\": \"#FFFFFF\", \"xaxis\": {\"range\": [0, 1907024730.0], \"showline\": true, \"visible\": true}, \"yaxis\": {\"showline\": false, \"visible\": true}}, \"name\": \"1979\"}, {\"data\": [{\"cliponaxis\": false, \"hoverinfo\": \"all\", \"hovertemplate\": \"<extra></extra>\", \"marker\": {\"color\": [\"rgb(47, 1, 85)\", \"rgb(146, 175, 50)\", \"rgb(36, 5, 133)\", \"rgb(255, 217, 83)\", \"rgb(27, 6, 239)\", \"rgb(28, 2, 204)\", \"rgb(116, 5, 156)\", \"rgb(179, 68, 56)\", \"rgb(130, 181, 111)\", \"rgb(104, 239, 194)\"]}, \"orientation\": \"h\", \"textangle\": 0, \"textposition\": \"outside\", \"texttemplate\": \"%{y}<br>%{x:.4s}\", \"x\": [124135066.0, 137869239.0, 156702822.0, 240495788.0, 264713164.0, 267856451.0, 396623388.0, 396871310.0, 440187901.0, 734489200.0], \"y\": [\"Cassava\", \"Sweet potatoes\", \"Barley\", \"Potatoes\", \"Rice, paddy (rice milled equivalent)\", \"Sugar beet\", \"Maize\", \"Rice, paddy\", \"Wheat\", \"Sugar cane\"], \"type\": \"bar\"}], \"layout\": {\"bargap\": 0.15, \"font\": {\"size\": 14}, \"plot_bgcolor\": \"#FFFFFF\", \"xaxis\": {\"range\": [0, 1907024730.0], \"showline\": true, \"visible\": true}, \"yaxis\": {\"showline\": false, \"visible\": true}}, \"name\": \"1980\"}, {\"data\": [{\"cliponaxis\": false, \"hoverinfo\": \"all\", \"hovertemplate\": \"<extra></extra>\", \"marker\": {\"color\": [\"rgb(146, 175, 50)\", \"rgb(47, 1, 85)\", \"rgb(36, 5, 133)\", \"rgb(255, 217, 83)\", \"rgb(27, 6, 239)\", \"rgb(28, 2, 204)\", \"rgb(179, 68, 56)\", \"rgb(116, 5, 156)\", \"rgb(130, 181, 111)\", \"rgb(104, 239, 194)\"]}, \"orientation\": \"h\", \"textangle\": 0, \"textposition\": \"outside\", \"texttemplate\": \"%{y}<br>%{x:.4s}\", \"x\": [125543727.0, 127513877.0, 149602582.0, 267781520.0, 273520179.0, 287840286.0, 410075231.0, 446772517.0, 449633986.0, 799604214.0], \"y\": [\"Sweet potatoes\", \"Cassava\", \"Barley\", \"Potatoes\", \"Rice, paddy (rice milled equivalent)\", \"Sugar beet\", \"Rice, paddy\", \"Maize\", \"Wheat\", \"Sugar cane\"], \"type\": \"bar\"}], \"layout\": {\"bargap\": 0.15, \"font\": {\"size\": 14}, \"plot_bgcolor\": \"#FFFFFF\", \"xaxis\": {\"range\": [0, 1907024730.0], \"showline\": true, \"visible\": true}, \"yaxis\": {\"showline\": false, \"visible\": true}}, \"name\": \"1981\"}, {\"data\": [{\"cliponaxis\": false, \"hoverinfo\": \"all\", \"hovertemplate\": \"<extra></extra>\", \"marker\": {\"color\": [\"rgb(47, 1, 85)\", \"rgb(146, 175, 50)\", \"rgb(36, 5, 133)\", \"rgb(255, 217, 83)\", \"rgb(27, 6, 239)\", \"rgb(28, 2, 204)\", \"rgb(179, 68, 56)\", \"rgb(116, 5, 156)\", \"rgb(130, 181, 111)\", \"rgb(104, 239, 194)\"]}, \"orientation\": \"h\", \"textangle\": 0, \"textposition\": \"outside\", \"texttemplate\": \"%{y}<br>%{x:.4s}\", \"x\": [128849568.0, 129433910.0, 161352537.0, 265142602.0, 281440016.0, 291773194.0, 421949049.0, 448932280.0, 476768609.0, 907067880.0], \"y\": [\"Cassava\", \"Sweet potatoes\", \"Barley\", \"Potatoes\", \"Rice, paddy (rice milled equivalent)\", \"Sugar beet\", \"Rice, paddy\", \"Maize\", \"Wheat\", \"Sugar cane\"], \"type\": \"bar\"}], \"layout\": {\"bargap\": 0.15, \"font\": {\"size\": 14}, \"plot_bgcolor\": \"#FFFFFF\", \"xaxis\": {\"range\": [0, 1907024730.0], \"showline\": true, \"visible\": true}, \"yaxis\": {\"showline\": false, \"visible\": true}}, \"name\": \"1982\"}, {\"data\": [{\"cliponaxis\": false, \"hoverinfo\": \"all\", \"hovertemplate\": \"<extra></extra>\", \"marker\": {\"color\": [\"rgb(47, 1, 85)\", \"rgb(146, 175, 50)\", \"rgb(36, 5, 133)\", \"rgb(255, 217, 83)\", \"rgb(28, 2, 204)\", \"rgb(27, 6, 239)\", \"rgb(116, 5, 156)\", \"rgb(179, 68, 56)\", \"rgb(130, 181, 111)\", \"rgb(104, 239, 194)\"]}, \"orientation\": \"h\", \"textangle\": 0, \"textposition\": \"outside\", \"texttemplate\": \"%{y}<br>%{x:.4s}\", \"x\": [126886287.0, 137945719.0, 159470171.0, 264471009.0, 274395485.0, 298826869.0, 347082034.0, 448016295.0, 489555281.0, 903684353.0], \"y\": [\"Cassava\", \"Sweet potatoes\", \"Barley\", \"Potatoes\", \"Sugar beet\", \"Rice, paddy (rice milled equivalent)\", \"Maize\", \"Rice, paddy\", \"Wheat\", \"Sugar cane\"], \"type\": \"bar\"}], \"layout\": {\"bargap\": 0.15, \"font\": {\"size\": 14}, \"plot_bgcolor\": \"#FFFFFF\", \"xaxis\": {\"range\": [0, 1907024730.0], \"showline\": true, \"visible\": true}, \"yaxis\": {\"showline\": false, \"visible\": true}}, \"name\": \"1983\"}, {\"data\": [{\"cliponaxis\": false, \"hoverinfo\": \"all\", \"hovertemplate\": \"<extra></extra>\", \"marker\": {\"color\": [\"rgb(146, 175, 50)\", \"rgb(47, 1, 85)\", \"rgb(36, 5, 133)\", \"rgb(255, 217, 83)\", \"rgb(28, 2, 204)\", \"rgb(27, 6, 239)\", \"rgb(116, 5, 156)\", \"rgb(179, 68, 56)\", \"rgb(130, 181, 111)\", \"rgb(104, 239, 194)\"]}, \"orientation\": \"h\", \"textangle\": 0, \"textposition\": \"outside\", \"texttemplate\": \"%{y}<br>%{x:.4s}\", \"x\": [133036563.0, 133239818.0, 169433845.0, 290945972.0, 296351939.0, 310383713.0, 450449992.0, 465342898.0, 512330225.0, 929768246.0], \"y\": [\"Sweet potatoes\", \"Cassava\", \"Barley\", \"Potatoes\", \"Sugar beet\", \"Rice, paddy (rice milled equivalent)\", \"Maize\", \"Rice, paddy\", \"Wheat\", \"Sugar cane\"], \"type\": \"bar\"}], \"layout\": {\"bargap\": 0.15, \"font\": {\"size\": 14}, \"plot_bgcolor\": \"#FFFFFF\", \"xaxis\": {\"range\": [0, 1907024730.0], \"showline\": true, \"visible\": true}, \"yaxis\": {\"showline\": false, \"visible\": true}}, \"name\": \"1984\"}, {\"data\": [{\"cliponaxis\": false, \"hoverinfo\": \"all\", \"hovertemplate\": \"<extra></extra>\", \"marker\": {\"color\": [\"rgb(146, 175, 50)\", \"rgb(47, 1, 85)\", \"rgb(36, 5, 133)\", \"rgb(255, 217, 83)\", \"rgb(28, 2, 204)\", \"rgb(27, 6, 239)\", \"rgb(179, 68, 56)\", \"rgb(116, 5, 156)\", \"rgb(130, 181, 111)\", \"rgb(104, 239, 194)\"]}, \"orientation\": \"h\", \"textangle\": 0, \"textposition\": \"outside\", \"texttemplate\": \"%{y}<br>%{x:.4s}\", \"x\": [122997023.0, 135852865.0, 172618338.0, 281603760.0, 284155160.0, 312265770.0, 468164572.0, 485527301.0, 499527392.0, 933213589.0], \"y\": [\"Sweet potatoes\", \"Cassava\", \"Barley\", \"Potatoes\", \"Sugar beet\", \"Rice, paddy (rice milled equivalent)\", \"Rice, paddy\", \"Maize\", \"Wheat\", \"Sugar cane\"], \"type\": \"bar\"}], \"layout\": {\"bargap\": 0.15, \"font\": {\"size\": 14}, \"plot_bgcolor\": \"#FFFFFF\", \"xaxis\": {\"range\": [0, 1907024730.0], \"showline\": true, \"visible\": true}, \"yaxis\": {\"showline\": false, \"visible\": true}}, \"name\": \"1985\"}, {\"data\": [{\"cliponaxis\": false, \"hoverinfo\": \"all\", \"hovertemplate\": \"<extra></extra>\", \"marker\": {\"color\": [\"rgb(111, 8, 236)\", \"rgb(47, 1, 85)\", \"rgb(36, 5, 133)\", \"rgb(28, 2, 204)\", \"rgb(255, 217, 83)\", \"rgb(27, 6, 239)\", \"rgb(179, 68, 56)\", \"rgb(116, 5, 156)\", \"rgb(130, 181, 111)\", \"rgb(104, 239, 194)\"]}, \"orientation\": \"h\", \"textangle\": 0, \"textposition\": \"outside\", \"texttemplate\": \"%{y}<br>%{x:.4s}\", \"x\": [129814219.0, 134228164.0, 177169275.0, 286334048.0, 286610518.0, 312606386.0, 468675242.0, 478176622.0, 528685222.0, 934719186.0], \"y\": [\"Vegetables, fresh nes\", \"Cassava\", \"Barley\", \"Sugar beet\", \"Potatoes\", \"Rice, paddy (rice milled equivalent)\", \"Rice, paddy\", \"Maize\", \"Wheat\", \"Sugar cane\"], \"type\": \"bar\"}], \"layout\": {\"bargap\": 0.15, \"font\": {\"size\": 14}, \"plot_bgcolor\": \"#FFFFFF\", \"xaxis\": {\"range\": [0, 1907024730.0], \"showline\": true, \"visible\": true}, \"yaxis\": {\"showline\": false, \"visible\": true}}, \"name\": \"1986\"}, {\"data\": [{\"cliponaxis\": false, \"hoverinfo\": \"all\", \"hovertemplate\": \"<extra></extra>\", \"marker\": {\"color\": [\"rgb(146, 175, 50)\", \"rgb(47, 1, 85)\", \"rgb(36, 5, 133)\", \"rgb(255, 217, 83)\", \"rgb(28, 2, 204)\", \"rgb(27, 6, 239)\", \"rgb(116, 5, 156)\", \"rgb(179, 68, 56)\", \"rgb(130, 181, 111)\", \"rgb(104, 239, 194)\"]}, \"orientation\": \"h\", \"textangle\": 0, \"textposition\": \"outside\", \"texttemplate\": \"%{y}<br>%{x:.4s}\", \"x\": [133652442.0, 138134704.0, 175288684.0, 279415351.0, 299751636.0, 307780419.0, 453115794.0, 461439908.0, 505075847.0, 990319251.0], \"y\": [\"Sweet potatoes\", \"Cassava\", \"Barley\", \"Potatoes\", \"Sugar beet\", \"Rice, paddy (rice milled equivalent)\", \"Maize\", \"Rice, paddy\", \"Wheat\", \"Sugar cane\"], \"type\": \"bar\"}], \"layout\": {\"bargap\": 0.15, \"font\": {\"size\": 14}, \"plot_bgcolor\": \"#FFFFFF\", \"xaxis\": {\"range\": [0, 1907024730.0], \"showline\": true, \"visible\": true}, \"yaxis\": {\"showline\": false, \"visible\": true}}, \"name\": \"1987\"}, {\"data\": [{\"cliponaxis\": false, \"hoverinfo\": \"all\", \"hovertemplate\": \"<extra></extra>\", \"marker\": {\"color\": [\"rgb(111, 8, 236)\", \"rgb(47, 1, 85)\", \"rgb(36, 5, 133)\", \"rgb(255, 217, 83)\", \"rgb(28, 2, 204)\", \"rgb(27, 6, 239)\", \"rgb(116, 5, 156)\", \"rgb(179, 68, 56)\", \"rgb(130, 181, 111)\", \"rgb(104, 239, 194)\"]}, \"orientation\": \"h\", \"textangle\": 0, \"textposition\": \"outside\", \"texttemplate\": \"%{y}<br>%{x:.4s}\", \"x\": [137997867.0, 144878275.0, 163396406.0, 268603004.0, 293570876.0, 325134421.0, 403050234.0, 487457902.0, 500656538.0, 992982513.0], \"y\": [\"Vegetables, fresh nes\", \"Cassava\", \"Barley\", \"Potatoes\", \"Sugar beet\", \"Rice, paddy (rice milled equivalent)\", \"Maize\", \"Rice, paddy\", \"Wheat\", \"Sugar cane\"], \"type\": \"bar\"}], \"layout\": {\"bargap\": 0.15, \"font\": {\"size\": 14}, \"plot_bgcolor\": \"#FFFFFF\", \"xaxis\": {\"range\": [0, 1907024730.0], \"showline\": true, \"visible\": true}, \"yaxis\": {\"showline\": false, \"visible\": true}}, \"name\": \"1988\"}, {\"data\": [{\"cliponaxis\": false, \"hoverinfo\": \"all\", \"hovertemplate\": \"<extra></extra>\", \"marker\": {\"color\": [\"rgb(111, 8, 236)\", \"rgb(47, 1, 85)\", \"rgb(36, 5, 133)\", \"rgb(255, 217, 83)\", \"rgb(28, 2, 204)\", \"rgb(27, 6, 239)\", \"rgb(116, 5, 156)\", \"rgb(179, 68, 56)\", \"rgb(130, 181, 111)\", \"rgb(104, 239, 194)\"]}, \"orientation\": \"h\", \"textangle\": 0, \"textposition\": \"outside\", \"texttemplate\": \"%{y}<br>%{x:.4s}\", \"x\": [138710355.0, 152885746.0, 164166455.0, 276583863.0, 314402899.0, 343119234.0, 476874503.0, 514421640.0, 538206114.0, 1017998783.0], \"y\": [\"Vegetables, fresh nes\", \"Cassava\", \"Barley\", \"Potatoes\", \"Sugar beet\", \"Rice, paddy (rice milled equivalent)\", \"Maize\", \"Rice, paddy\", \"Wheat\", \"Sugar cane\"], \"type\": \"bar\"}], \"layout\": {\"bargap\": 0.15, \"font\": {\"size\": 14}, \"plot_bgcolor\": \"#FFFFFF\", \"xaxis\": {\"range\": [0, 1907024730.0], \"showline\": true, \"visible\": true}, \"yaxis\": {\"showline\": false, \"visible\": true}}, \"name\": \"1989\"}, {\"data\": [{\"cliponaxis\": false, \"hoverinfo\": \"all\", \"hovertemplate\": \"<extra></extra>\", \"marker\": {\"color\": [\"rgb(111, 8, 236)\", \"rgb(47, 1, 85)\", \"rgb(36, 5, 133)\", \"rgb(255, 217, 83)\", \"rgb(28, 2, 204)\", \"rgb(27, 6, 239)\", \"rgb(116, 5, 156)\", \"rgb(179, 68, 56)\", \"rgb(130, 181, 111)\", \"rgb(104, 239, 194)\"]}, \"orientation\": \"h\", \"textangle\": 0, \"textposition\": \"outside\", \"texttemplate\": \"%{y}<br>%{x:.4s}\", \"x\": [140314879.0, 152378682.0, 178074020.0, 266825273.0, 309186724.0, 345885292.0, 483620724.0, 518568653.0, 591330111.0, 1052997497.0], \"y\": [\"Vegetables, fresh nes\", \"Cassava\", \"Barley\", \"Potatoes\", \"Sugar beet\", \"Rice, paddy (rice milled equivalent)\", \"Maize\", \"Rice, paddy\", \"Wheat\", \"Sugar cane\"], \"type\": \"bar\"}], \"layout\": {\"bargap\": 0.15, \"font\": {\"size\": 14}, \"plot_bgcolor\": \"#FFFFFF\", \"xaxis\": {\"range\": [0, 1907024730.0], \"showline\": true, \"visible\": true}, \"yaxis\": {\"showline\": false, \"visible\": true}}, \"name\": \"1990\"}, {\"data\": [{\"cliponaxis\": false, \"hoverinfo\": \"all\", \"hovertemplate\": \"<extra></extra>\", \"marker\": {\"color\": [\"rgb(111, 8, 236)\", \"rgb(47, 1, 85)\", \"rgb(36, 5, 133)\", \"rgb(255, 217, 83)\", \"rgb(28, 2, 204)\", \"rgb(27, 6, 239)\", \"rgb(116, 5, 156)\", \"rgb(179, 68, 56)\", \"rgb(130, 181, 111)\", \"rgb(104, 239, 194)\"]}, \"orientation\": \"h\", \"textangle\": 0, \"textposition\": \"outside\", \"texttemplate\": \"%{y}<br>%{x:.4s}\", \"x\": [135062201.0, 160406516.0, 169582274.0, 256993281.0, 285129013.0, 345847886.0, 494407622.0, 518512573.0, 547820731.0, 1086955621.0], \"y\": [\"Vegetables, fresh nes\", \"Cassava\", \"Barley\", \"Potatoes\", \"Sugar beet\", \"Rice, paddy (rice milled equivalent)\", \"Maize\", \"Rice, paddy\", \"Wheat\", \"Sugar cane\"], \"type\": \"bar\"}], \"layout\": {\"bargap\": 0.15, \"font\": {\"size\": 14}, \"plot_bgcolor\": \"#FFFFFF\", \"xaxis\": {\"range\": [0, 1907024730.0], \"showline\": true, \"visible\": true}, \"yaxis\": {\"showline\": false, \"visible\": true}}, \"name\": \"1991\"}, {\"data\": [{\"cliponaxis\": false, \"hoverinfo\": \"all\", \"hovertemplate\": \"<extra></extra>\", \"marker\": {\"color\": [\"rgb(111, 8, 236)\", \"rgb(47, 1, 85)\", \"rgb(36, 5, 133)\", \"rgb(255, 217, 83)\", \"rgb(28, 2, 204)\", \"rgb(27, 6, 239)\", \"rgb(179, 68, 56)\", \"rgb(116, 5, 156)\", \"rgb(130, 181, 111)\", \"rgb(104, 239, 194)\"]}, \"orientation\": \"h\", \"textangle\": 0, \"textposition\": \"outside\", \"texttemplate\": \"%{y}<br>%{x:.4s}\", \"x\": [144904166.0, 162004349.0, 165533308.0, 278980652.0, 281711850.0, 352094665.0, 527878059.0, 533789336.0, 565111947.0, 1107576853.0], \"y\": [\"Vegetables, fresh nes\", \"Cassava\", \"Barley\", \"Potatoes\", \"Sugar beet\", \"Rice, paddy (rice milled equivalent)\", \"Rice, paddy\", \"Maize\", \"Wheat\", \"Sugar cane\"], \"type\": \"bar\"}], \"layout\": {\"bargap\": 0.15, \"font\": {\"size\": 14}, \"plot_bgcolor\": \"#FFFFFF\", \"xaxis\": {\"range\": [0, 1907024730.0], \"showline\": true, \"visible\": true}, \"yaxis\": {\"showline\": false, \"visible\": true}}, \"name\": \"1992\"}, {\"data\": [{\"cliponaxis\": false, \"hoverinfo\": \"all\", \"hovertemplate\": \"<extra></extra>\", \"marker\": {\"color\": [\"rgb(111, 8, 236)\", \"rgb(47, 1, 85)\", \"rgb(36, 5, 133)\", \"rgb(28, 2, 204)\", \"rgb(255, 217, 83)\", \"rgb(27, 6, 239)\", \"rgb(116, 5, 156)\", \"rgb(179, 68, 56)\", \"rgb(130, 181, 111)\", \"rgb(104, 239, 194)\"]}, \"orientation\": \"h\", \"textangle\": 0, \"textposition\": \"outside\", \"texttemplate\": \"%{y}<br>%{x:.4s}\", \"x\": [155428142.0, 163185199.0, 169542965.0, 282190576.0, 304619922.0, 353242902.0, 477221153.0, 529599553.0, 564739765.0, 1020881319.0], \"y\": [\"Vegetables, fresh nes\", \"Cassava\", \"Barley\", \"Sugar beet\", \"Potatoes\", \"Rice, paddy (rice milled equivalent)\", \"Maize\", \"Rice, paddy\", \"Wheat\", \"Sugar cane\"], \"type\": \"bar\"}], \"layout\": {\"bargap\": 0.15, \"font\": {\"size\": 14}, \"plot_bgcolor\": \"#FFFFFF\", \"xaxis\": {\"range\": [0, 1907024730.0], \"showline\": true, \"visible\": true}, \"yaxis\": {\"showline\": false, \"visible\": true}}, \"name\": \"1993\"}, {\"data\": [{\"cliponaxis\": false, \"hoverinfo\": \"all\", \"hovertemplate\": \"<extra></extra>\", \"marker\": {\"color\": [\"rgb(36, 5, 133)\", \"rgb(111, 8, 236)\", \"rgb(47, 1, 85)\", \"rgb(28, 2, 204)\", \"rgb(255, 217, 83)\", \"rgb(27, 6, 239)\", \"rgb(130, 181, 111)\", \"rgb(179, 68, 56)\", \"rgb(116, 5, 156)\", \"rgb(104, 239, 194)\"]}, \"orientation\": \"h\", \"textangle\": 0, \"textposition\": \"outside\", \"texttemplate\": \"%{y}<br>%{x:.4s}\", \"x\": [161019263.0, 161088312.0, 164501121.0, 254453796.0, 270203771.0, 359240229.0, 525435323.0, 538591048.0, 568663564.0, 1084097363.0], \"y\": [\"Barley\", \"Vegetables, fresh nes\", \"Cassava\", \"Sugar beet\", \"Potatoes\", \"Rice, paddy (rice milled equivalent)\", \"Wheat\", \"Rice, paddy\", \"Maize\", \"Sugar cane\"], \"type\": \"bar\"}], \"layout\": {\"bargap\": 0.15, \"font\": {\"size\": 14}, \"plot_bgcolor\": \"#FFFFFF\", \"xaxis\": {\"range\": [0, 1907024730.0], \"showline\": true, \"visible\": true}, \"yaxis\": {\"showline\": false, \"visible\": true}}, \"name\": \"1994\"}, {\"data\": [{\"cliponaxis\": false, \"hoverinfo\": \"all\", \"hovertemplate\": \"<extra></extra>\", \"marker\": {\"color\": [\"rgb(36, 5, 133)\", \"rgb(47, 1, 85)\", \"rgb(111, 8, 236)\", \"rgb(28, 2, 204)\", \"rgb(255, 217, 83)\", \"rgb(27, 6, 239)\", \"rgb(116, 5, 156)\", \"rgb(130, 181, 111)\", \"rgb(179, 68, 56)\", \"rgb(104, 239, 194)\"]}, \"orientation\": \"h\", \"textangle\": 0, \"textposition\": \"outside\", \"texttemplate\": \"%{y}<br>%{x:.4s}\", \"x\": [140724630.0, 161787472.0, 165885731.0, 264504934.0, 285333037.0, 364957060.0, 517299059.0, 544357532.0, 547162009.0, 1163366858.0], \"y\": [\"Barley\", \"Cassava\", \"Vegetables, fresh nes\", \"Sugar beet\", \"Potatoes\", \"Rice, paddy (rice milled equivalent)\", \"Maize\", \"Wheat\", \"Rice, paddy\", \"Sugar cane\"], \"type\": \"bar\"}], \"layout\": {\"bargap\": 0.15, \"font\": {\"size\": 14}, \"plot_bgcolor\": \"#FFFFFF\", \"xaxis\": {\"range\": [0, 1907024730.0], \"showline\": true, \"visible\": true}, \"yaxis\": {\"showline\": false, \"visible\": true}}, \"name\": \"1995\"}, {\"data\": [{\"cliponaxis\": false, \"hoverinfo\": \"all\", \"hovertemplate\": \"<extra></extra>\", \"marker\": {\"color\": [\"rgb(36, 5, 133)\", \"rgb(47, 1, 85)\", \"rgb(111, 8, 236)\", \"rgb(28, 2, 204)\", \"rgb(255, 217, 83)\", \"rgb(27, 6, 239)\", \"rgb(179, 68, 56)\", \"rgb(130, 181, 111)\", \"rgb(116, 5, 156)\", \"rgb(104, 239, 194)\"]}, \"orientation\": \"h\", \"textangle\": 0, \"textposition\": \"outside\", \"texttemplate\": \"%{y}<br>%{x:.4s}\", \"x\": [155017318.0, 158373490.0, 171922447.0, 264461343.0, 310493658.0, 379294907.0, 568658031.0, 578616933.0, 586146163.0, 1218890125.0], \"y\": [\"Barley\", \"Cassava\", \"Vegetables, fresh nes\", \"Sugar beet\", \"Potatoes\", \"Rice, paddy (rice milled equivalent)\", \"Rice, paddy\", \"Wheat\", \"Maize\", \"Sugar cane\"], \"type\": \"bar\"}], \"layout\": {\"bargap\": 0.15, \"font\": {\"size\": 14}, \"plot_bgcolor\": \"#FFFFFF\", \"xaxis\": {\"range\": [0, 1907024730.0], \"showline\": true, \"visible\": true}, \"yaxis\": {\"showline\": false, \"visible\": true}}, \"name\": \"1996\"}, {\"data\": [{\"cliponaxis\": false, \"hoverinfo\": \"all\", \"hovertemplate\": \"<extra></extra>\", \"marker\": {\"color\": [\"rgb(36, 5, 133)\", \"rgb(47, 1, 85)\", \"rgb(111, 8, 236)\", \"rgb(28, 2, 204)\", \"rgb(255, 217, 83)\", \"rgb(27, 6, 239)\", \"rgb(179, 68, 56)\", \"rgb(116, 5, 156)\", \"rgb(130, 181, 111)\", \"rgb(104, 239, 194)\"]}, \"orientation\": \"h\", \"textangle\": 0, \"textposition\": \"outside\", \"texttemplate\": \"%{y}<br>%{x:.4s}\", \"x\": [154359212.0, 161747290.0, 175581351.0, 267973956.0, 301079129.0, 384950308.0, 577136893.0, 584411894.0, 614651780.0, 1246425310.0], \"y\": [\"Barley\", \"Cassava\", \"Vegetables, fresh nes\", \"Sugar beet\", \"Potatoes\", \"Rice, paddy (rice milled equivalent)\", \"Rice, paddy\", \"Maize\", \"Wheat\", \"Sugar cane\"], \"type\": \"bar\"}], \"layout\": {\"bargap\": 0.15, \"font\": {\"size\": 14}, \"plot_bgcolor\": \"#FFFFFF\", \"xaxis\": {\"range\": [0, 1907024730.0], \"showline\": true, \"visible\": true}, \"yaxis\": {\"showline\": false, \"visible\": true}}, \"name\": \"1997\"}, {\"data\": [{\"cliponaxis\": false, \"hoverinfo\": \"all\", \"hovertemplate\": \"<extra></extra>\", \"marker\": {\"color\": [\"rgb(30, 140, 179)\", \"rgb(47, 1, 85)\", \"rgb(111, 8, 236)\", \"rgb(28, 2, 204)\", \"rgb(255, 217, 83)\", \"rgb(27, 6, 239)\", \"rgb(179, 68, 56)\", \"rgb(130, 181, 111)\", \"rgb(116, 5, 156)\", \"rgb(104, 239, 194)\"]}, \"orientation\": \"h\", \"textangle\": 0, \"textposition\": \"outside\", \"texttemplate\": \"%{y}<br>%{x:.4s}\", \"x\": [160128822.0, 162613417.0, 178523814.0, 263032522.0, 297834904.0, 386068923.0, 578813977.0, 596175815.0, 615081853.0, 1263674263.0], \"y\": [\"Soybeans\", \"Cassava\", \"Vegetables, fresh nes\", \"Sugar beet\", \"Potatoes\", \"Rice, paddy (rice milled equivalent)\", \"Rice, paddy\", \"Wheat\", \"Maize\", \"Sugar cane\"], \"type\": \"bar\"}], \"layout\": {\"bargap\": 0.15, \"font\": {\"size\": 14}, \"plot_bgcolor\": \"#FFFFFF\", \"xaxis\": {\"range\": [0, 1907024730.0], \"showline\": true, \"visible\": true}, \"yaxis\": {\"showline\": false, \"visible\": true}}, \"name\": \"1998\"}, {\"data\": [{\"cliponaxis\": false, \"hoverinfo\": \"all\", \"hovertemplate\": \"<extra></extra>\", \"marker\": {\"color\": [\"rgb(30, 140, 179)\", \"rgb(47, 1, 85)\", \"rgb(111, 8, 236)\", \"rgb(28, 2, 204)\", \"rgb(255, 217, 83)\", \"rgb(27, 6, 239)\", \"rgb(130, 181, 111)\", \"rgb(116, 5, 156)\", \"rgb(179, 68, 56)\", \"rgb(104, 239, 194)\"]}, \"orientation\": \"h\", \"textangle\": 0, \"textposition\": \"outside\", \"texttemplate\": \"%{y}<br>%{x:.4s}\", \"x\": [157815479.0, 168847321.0, 188064527.0, 260565420.0, 296076184.0, 407655445.0, 584763438.0, 607434709.0, 611177579.0, 1282128475.0], \"y\": [\"Soybeans\", \"Cassava\", \"Vegetables, fresh nes\", \"Sugar beet\", \"Potatoes\", \"Rice, paddy (rice milled equivalent)\", \"Wheat\", \"Maize\", \"Rice, paddy\", \"Sugar cane\"], \"type\": \"bar\"}], \"layout\": {\"bargap\": 0.15, \"font\": {\"size\": 14}, \"plot_bgcolor\": \"#FFFFFF\", \"xaxis\": {\"range\": [0, 1907024730.0], \"showline\": true, \"visible\": true}, \"yaxis\": {\"showline\": false, \"visible\": true}}, \"name\": \"1999\"}, {\"data\": [{\"cliponaxis\": false, \"hoverinfo\": \"all\", \"hovertemplate\": \"<extra></extra>\", \"marker\": {\"color\": [\"rgb(30, 140, 179)\", \"rgb(47, 1, 85)\", \"rgb(111, 8, 236)\", \"rgb(28, 2, 204)\", \"rgb(255, 217, 83)\", \"rgb(27, 6, 239)\", \"rgb(130, 181, 111)\", \"rgb(116, 5, 156)\", \"rgb(179, 68, 56)\", \"rgb(104, 239, 194)\"]}, \"orientation\": \"h\", \"textangle\": 0, \"textposition\": \"outside\", \"texttemplate\": \"%{y}<br>%{x:.4s}\", \"x\": [161308383.0, 175846840.0, 211610549.0, 250148505.0, 322775223.0, 399311670.0, 584999160.0, 592038698.0, 598668171.0, 1252668856.0], \"y\": [\"Soybeans\", \"Cassava\", \"Vegetables, fresh nes\", \"Sugar beet\", \"Potatoes\", \"Rice, paddy (rice milled equivalent)\", \"Wheat\", \"Maize\", \"Rice, paddy\", \"Sugar cane\"], \"type\": \"bar\"}], \"layout\": {\"bargap\": 0.15, \"font\": {\"size\": 14}, \"plot_bgcolor\": \"#FFFFFF\", \"xaxis\": {\"range\": [0, 1907024730.0], \"showline\": true, \"visible\": true}, \"yaxis\": {\"showline\": false, \"visible\": true}}, \"name\": \"2000\"}, {\"data\": [{\"cliponaxis\": false, \"hoverinfo\": \"all\", \"hovertemplate\": \"<extra></extra>\", \"marker\": {\"color\": [\"rgb(30, 140, 179)\", \"rgb(47, 1, 85)\", \"rgb(111, 8, 236)\", \"rgb(28, 2, 204)\", \"rgb(255, 217, 83)\", \"rgb(27, 6, 239)\", \"rgb(130, 181, 111)\", \"rgb(179, 68, 56)\", \"rgb(116, 5, 156)\", \"rgb(104, 239, 194)\"]}, \"orientation\": \"h\", \"textangle\": 0, \"textposition\": \"outside\", \"texttemplate\": \"%{y}<br>%{x:.4s}\", \"x\": [177020743.0, 181687057.0, 227180655.0, 230314950.0, 305492291.0, 400364493.0, 588243664.0, 600246617.0, 615152413.0, 1257665353.0], \"y\": [\"Soybeans\", \"Cassava\", \"Vegetables, fresh nes\", \"Sugar beet\", \"Potatoes\", \"Rice, paddy (rice milled equivalent)\", \"Wheat\", \"Rice, paddy\", \"Maize\", \"Sugar cane\"], \"type\": \"bar\"}], \"layout\": {\"bargap\": 0.15, \"font\": {\"size\": 14}, \"plot_bgcolor\": \"#FFFFFF\", \"xaxis\": {\"range\": [0, 1907024730.0], \"showline\": true, \"visible\": true}, \"yaxis\": {\"showline\": false, \"visible\": true}}, \"name\": \"2001\"}, {\"data\": [{\"cliponaxis\": false, \"hoverinfo\": \"all\", \"hovertemplate\": \"<extra></extra>\", \"marker\": {\"color\": [\"rgb(30, 140, 179)\", \"rgb(47, 1, 85)\", \"rgb(111, 8, 236)\", \"rgb(28, 2, 204)\", \"rgb(255, 217, 83)\", \"rgb(27, 6, 239)\", \"rgb(179, 68, 56)\", \"rgb(130, 181, 111)\", \"rgb(116, 5, 156)\", \"rgb(104, 239, 194)\"]}, \"orientation\": \"h\", \"textangle\": 0, \"textposition\": \"outside\", \"texttemplate\": \"%{y}<br>%{x:.4s}\", \"x\": [180950733.0, 182642727.0, 226692031.0, 259606962.0, 309800226.0, 380891169.0, 571051228.0, 592045286.0, 603551954.0, 1326773955.0], \"y\": [\"Soybeans\", \"Cassava\", \"Vegetables, fresh nes\", \"Sugar beet\", \"Potatoes\", \"Rice, paddy (rice milled equivalent)\", \"Rice, paddy\", \"Wheat\", \"Maize\", \"Sugar cane\"], \"type\": \"bar\"}], \"layout\": {\"bargap\": 0.15, \"font\": {\"size\": 14}, \"plot_bgcolor\": \"#FFFFFF\", \"xaxis\": {\"range\": [0, 1907024730.0], \"showline\": true, \"visible\": true}, \"yaxis\": {\"showline\": false, \"visible\": true}}, \"name\": \"2002\"}, {\"data\": [{\"cliponaxis\": false, \"hoverinfo\": \"all\", \"hovertemplate\": \"<extra></extra>\", \"marker\": {\"color\": [\"rgb(30, 140, 179)\", \"rgb(47, 1, 85)\", \"rgb(28, 2, 204)\", \"rgb(111, 8, 236)\", \"rgb(255, 217, 83)\", \"rgb(27, 6, 239)\", \"rgb(130, 181, 111)\", \"rgb(179, 68, 56)\", \"rgb(116, 5, 156)\", \"rgb(104, 239, 194)\"]}, \"orientation\": \"h\", \"textangle\": 0, \"textposition\": \"outside\", \"texttemplate\": \"%{y}<br>%{x:.4s}\", \"x\": [190573528.0, 192215569.0, 232734248.0, 237183104.0, 307591201.0, 391483259.0, 549974473.0, 586931423.0, 645055272.0, 1371880978.0], \"y\": [\"Soybeans\", \"Cassava\", \"Sugar beet\", \"Vegetables, fresh nes\", \"Potatoes\", \"Rice, paddy (rice milled equivalent)\", \"Wheat\", \"Rice, paddy\", \"Maize\", \"Sugar cane\"], \"type\": \"bar\"}], \"layout\": {\"bargap\": 0.15, \"font\": {\"size\": 14}, \"plot_bgcolor\": \"#FFFFFF\", \"xaxis\": {\"range\": [0, 1907024730.0], \"showline\": true, \"visible\": true}, \"yaxis\": {\"showline\": false, \"visible\": true}}, \"name\": \"2003\"}, {\"data\": [{\"cliponaxis\": false, \"hoverinfo\": \"all\", \"hovertemplate\": \"<extra></extra>\", \"marker\": {\"color\": [\"rgb(47, 1, 85)\", \"rgb(30, 140, 179)\", \"rgb(111, 8, 236)\", \"rgb(28, 2, 204)\", \"rgb(255, 217, 83)\", \"rgb(27, 6, 239)\", \"rgb(179, 68, 56)\", \"rgb(130, 181, 111)\", \"rgb(116, 5, 156)\", \"rgb(104, 239, 194)\"]}, \"orientation\": \"h\", \"textangle\": 0, \"textposition\": \"outside\", \"texttemplate\": \"%{y}<br>%{x:.4s}\", \"x\": [203831956.0, 205548134.0, 224325418.0, 251589379.0, 328165612.0, 405101582.0, 607348698.0, 634666010.0, 729517951.0, 1333138427.0], \"y\": [\"Cassava\", \"Soybeans\", \"Vegetables, fresh nes\", \"Sugar beet\", \"Potatoes\", \"Rice, paddy (rice milled equivalent)\", \"Rice, paddy\", \"Wheat\", \"Maize\", \"Sugar cane\"], \"type\": \"bar\"}], \"layout\": {\"bargap\": 0.15, \"font\": {\"size\": 14}, \"plot_bgcolor\": \"#FFFFFF\", \"xaxis\": {\"range\": [0, 1907024730.0], \"showline\": true, \"visible\": true}, \"yaxis\": {\"showline\": false, \"visible\": true}}, \"name\": \"2004\"}, {\"data\": [{\"cliponaxis\": false, \"hoverinfo\": \"all\", \"hovertemplate\": \"<extra></extra>\", \"marker\": {\"color\": [\"rgb(47, 1, 85)\", \"rgb(30, 140, 179)\", \"rgb(111, 8, 236)\", \"rgb(28, 2, 204)\", \"rgb(255, 217, 83)\", \"rgb(27, 6, 239)\", \"rgb(130, 181, 111)\", \"rgb(179, 68, 56)\", \"rgb(116, 5, 156)\", \"rgb(104, 239, 194)\"]}, \"orientation\": \"h\", \"textangle\": 0, \"textposition\": \"outside\", \"texttemplate\": \"%{y}<br>%{x:.4s}\", \"x\": [206533771.0, 214542761.0, 231771630.0, 253737449.0, 317675179.0, 423028136.0, 627020836.0, 634225091.0, 714191174.0, 1306307695.0], \"y\": [\"Cassava\", \"Soybeans\", \"Vegetables, fresh nes\", \"Sugar beet\", \"Potatoes\", \"Rice, paddy (rice milled equivalent)\", \"Wheat\", \"Rice, paddy\", \"Maize\", \"Sugar cane\"], \"type\": \"bar\"}], \"layout\": {\"bargap\": 0.15, \"font\": {\"size\": 14}, \"plot_bgcolor\": \"#FFFFFF\", \"xaxis\": {\"range\": [0, 1907024730.0], \"showline\": true, \"visible\": true}, \"yaxis\": {\"showline\": false, \"visible\": true}}, \"name\": \"2005\"}, {\"data\": [{\"cliponaxis\": false, \"hoverinfo\": \"all\", \"hovertemplate\": \"<extra></extra>\", \"marker\": {\"color\": [\"rgb(30, 140, 179)\", \"rgb(47, 1, 85)\", \"rgb(111, 8, 236)\", \"rgb(28, 2, 204)\", \"rgb(255, 217, 83)\", \"rgb(27, 6, 239)\", \"rgb(130, 181, 111)\", \"rgb(179, 68, 56)\", \"rgb(116, 5, 156)\", \"rgb(104, 239, 194)\"]}, \"orientation\": \"h\", \"textangle\": 0, \"textposition\": \"outside\", \"texttemplate\": \"%{y}<br>%{x:.4s}\", \"x\": [221558922.0, 223636615.0, 241884277.0, 254025175.0, 307572166.0, 427350243.0, 614381123.0, 640705012.0, 707937211.0, 1417376025.0], \"y\": [\"Soybeans\", \"Cassava\", \"Vegetables, fresh nes\", \"Sugar beet\", \"Potatoes\", \"Rice, paddy (rice milled equivalent)\", \"Wheat\", \"Rice, paddy\", \"Maize\", \"Sugar cane\"], \"type\": \"bar\"}], \"layout\": {\"bargap\": 0.15, \"font\": {\"size\": 14}, \"plot_bgcolor\": \"#FFFFFF\", \"xaxis\": {\"range\": [0, 1907024730.0], \"showline\": true, \"visible\": true}, \"yaxis\": {\"showline\": false, \"visible\": true}}, \"name\": \"2006\"}, {\"data\": [{\"cliponaxis\": false, \"hoverinfo\": \"all\", \"hovertemplate\": \"<extra></extra>\", \"marker\": {\"color\": [\"rgb(30, 140, 179)\", \"rgb(47, 1, 85)\", \"rgb(111, 8, 236)\", \"rgb(28, 2, 204)\", \"rgb(255, 217, 83)\", \"rgb(27, 6, 239)\", \"rgb(130, 181, 111)\", \"rgb(179, 68, 56)\", \"rgb(116, 5, 156)\", \"rgb(104, 239, 194)\"]}, \"orientation\": \"h\", \"textangle\": 0, \"textposition\": \"outside\", \"texttemplate\": \"%{y}<br>%{x:.4s}\", \"x\": [219793075.0, 226974274.0, 244610984.0, 246945604.0, 313191368.0, 437923034.0, 606595140.0, 656556273.0, 792732888.0, 1605136205.0], \"y\": [\"Soybeans\", \"Cassava\", \"Vegetables, fresh nes\", \"Sugar beet\", \"Potatoes\", \"Rice, paddy (rice milled equivalent)\", \"Wheat\", \"Rice, paddy\", \"Maize\", \"Sugar cane\"], \"type\": \"bar\"}], \"layout\": {\"bargap\": 0.15, \"font\": {\"size\": 14}, \"plot_bgcolor\": \"#FFFFFF\", \"xaxis\": {\"range\": [0, 1907024730.0], \"showline\": true, \"visible\": true}, \"yaxis\": {\"showline\": false, \"visible\": true}}, \"name\": \"2007\"}, {\"data\": [{\"cliponaxis\": false, \"hoverinfo\": \"all\", \"hovertemplate\": \"<extra></extra>\", \"marker\": {\"color\": [\"rgb(28, 2, 204)\", \"rgb(47, 1, 85)\", \"rgb(30, 140, 179)\", \"rgb(111, 8, 236)\", \"rgb(255, 217, 83)\", \"rgb(27, 6, 239)\", \"rgb(130, 181, 111)\", \"rgb(179, 68, 56)\", \"rgb(116, 5, 156)\", \"rgb(104, 239, 194)\"]}, \"orientation\": \"h\", \"textangle\": 0, \"textposition\": \"outside\", \"texttemplate\": \"%{y}<br>%{x:.4s}\", \"x\": [221199239.0, 230081674.0, 231223485.0, 249305237.0, 327188473.0, 458262606.0, 680294443.0, 687050383.0, 829240208.0, 1721251508.0], \"y\": [\"Sugar beet\", \"Cassava\", \"Soybeans\", \"Vegetables, fresh nes\", \"Potatoes\", \"Rice, paddy (rice milled equivalent)\", \"Wheat\", \"Rice, paddy\", \"Maize\", \"Sugar cane\"], \"type\": \"bar\"}], \"layout\": {\"bargap\": 0.15, \"font\": {\"size\": 14}, \"plot_bgcolor\": \"#FFFFFF\", \"xaxis\": {\"range\": [0, 1907024730.0], \"showline\": true, \"visible\": true}, \"yaxis\": {\"showline\": false, \"visible\": true}}, \"name\": \"2008\"}, {\"data\": [{\"cliponaxis\": false, \"hoverinfo\": \"all\", \"hovertemplate\": \"<extra></extra>\", \"marker\": {\"color\": [\"rgb(30, 140, 179)\", \"rgb(28, 2, 204)\", \"rgb(47, 1, 85)\", \"rgb(111, 8, 236)\", \"rgb(255, 217, 83)\", \"rgb(27, 6, 239)\", \"rgb(130, 181, 111)\", \"rgb(179, 68, 56)\", \"rgb(116, 5, 156)\", \"rgb(104, 239, 194)\"]}, \"orientation\": \"h\", \"textangle\": 0, \"textposition\": \"outside\", \"texttemplate\": \"%{y}<br>%{x:.4s}\", \"x\": [223380802.0, 227985771.0, 233794346.0, 248581509.0, 330740148.0, 457333039.0, 683639171.0, 685656731.0, 820072448.0, 1677610596.0], \"y\": [\"Soybeans\", \"Sugar beet\", \"Cassava\", \"Vegetables, fresh nes\", \"Potatoes\", \"Rice, paddy (rice milled equivalent)\", \"Wheat\", \"Rice, paddy\", \"Maize\", \"Sugar cane\"], \"type\": \"bar\"}], \"layout\": {\"bargap\": 0.15, \"font\": {\"size\": 14}, \"plot_bgcolor\": \"#FFFFFF\", \"xaxis\": {\"range\": [0, 1907024730.0], \"showline\": true, \"visible\": true}, \"yaxis\": {\"showline\": false, \"visible\": true}}, \"name\": \"2009\"}, {\"data\": [{\"cliponaxis\": false, \"hoverinfo\": \"all\", \"hovertemplate\": \"<extra></extra>\", \"marker\": {\"color\": [\"rgb(28, 2, 204)\", \"rgb(47, 1, 85)\", \"rgb(111, 8, 236)\", \"rgb(30, 140, 179)\", \"rgb(255, 217, 83)\", \"rgb(27, 6, 239)\", \"rgb(130, 181, 111)\", \"rgb(179, 68, 56)\", \"rgb(116, 5, 156)\", \"rgb(104, 239, 194)\"]}, \"orientation\": \"h\", \"textangle\": 0, \"textposition\": \"outside\", \"texttemplate\": \"%{y}<br>%{x:.4s}\", \"x\": [228408922.0, 239296357.0, 259746276.0, 265088429.0, 328616920.0, 467659411.0, 640802665.0, 701138548.0, 851679519.0, 1682839957.0], \"y\": [\"Sugar beet\", \"Cassava\", \"Vegetables, fresh nes\", \"Soybeans\", \"Potatoes\", \"Rice, paddy (rice milled equivalent)\", \"Wheat\", \"Rice, paddy\", \"Maize\", \"Sugar cane\"], \"type\": \"bar\"}], \"layout\": {\"bargap\": 0.15, \"font\": {\"size\": 14}, \"plot_bgcolor\": \"#FFFFFF\", \"xaxis\": {\"range\": [0, 1907024730.0], \"showline\": true, \"visible\": true}, \"yaxis\": {\"showline\": false, \"visible\": true}}, \"name\": \"2010\"}, {\"data\": [{\"cliponaxis\": false, \"hoverinfo\": \"all\", \"hovertemplate\": \"<extra></extra>\", \"marker\": {\"color\": [\"rgb(47, 1, 85)\", \"rgb(111, 8, 236)\", \"rgb(30, 140, 179)\", \"rgb(28, 2, 204)\", \"rgb(255, 217, 83)\", \"rgb(27, 6, 239)\", \"rgb(130, 181, 111)\", \"rgb(179, 68, 56)\", \"rgb(116, 5, 156)\", \"rgb(104, 239, 194)\"]}, \"orientation\": \"h\", \"textangle\": 0, \"textposition\": \"outside\", \"texttemplate\": \"%{y}<br>%{x:.4s}\", \"x\": [251822205.0, 260842101.0, 261601653.0, 278833260.0, 367889898.0, 484492968.0, 696898368.0, 726376264.0, 886680581.0, 1794120501.0], \"y\": [\"Cassava\", \"Vegetables, fresh nes\", \"Soybeans\", \"Sugar beet\", \"Potatoes\", \"Rice, paddy (rice milled equivalent)\", \"Wheat\", \"Rice, paddy\", \"Maize\", \"Sugar cane\"], \"type\": \"bar\"}], \"layout\": {\"bargap\": 0.15, \"font\": {\"size\": 14}, \"plot_bgcolor\": \"#FFFFFF\", \"xaxis\": {\"range\": [0, 1907024730.0], \"showline\": true, \"visible\": true}, \"yaxis\": {\"showline\": false, \"visible\": true}}, \"name\": \"2011\"}, {\"data\": [{\"cliponaxis\": false, \"hoverinfo\": \"all\", \"hovertemplate\": \"<extra></extra>\", \"marker\": {\"color\": [\"rgb(226, 101, 202)\", \"rgb(28, 2, 204)\", \"rgb(111, 8, 236)\", \"rgb(47, 1, 85)\", \"rgb(255, 217, 83)\", \"rgb(27, 6, 239)\", \"rgb(130, 181, 111)\", \"rgb(179, 68, 56)\", \"rgb(116, 5, 156)\", \"rgb(104, 239, 194)\"]}, \"orientation\": \"h\", \"textangle\": 0, \"textposition\": \"outside\", \"texttemplate\": \"%{y}<br>%{x:.4s}\", \"x\": [256568919.0, 269637113.0, 272044780.0, 277683210.0, 361003266.0, 491310036.0, 673728907.0, 736596755.0, 875039160.0, 1831008220.0], \"y\": [\"Oil palm fruit\", \"Sugar beet\", \"Vegetables, fresh nes\", \"Cassava\", \"Potatoes\", \"Rice, paddy (rice milled equivalent)\", \"Wheat\", \"Rice, paddy\", \"Maize\", \"Sugar cane\"], \"type\": \"bar\"}], \"layout\": {\"bargap\": 0.15, \"font\": {\"size\": 14}, \"plot_bgcolor\": \"#FFFFFF\", \"xaxis\": {\"range\": [0, 1907024730.0], \"showline\": true, \"visible\": true}, \"yaxis\": {\"showline\": false, \"visible\": true}}, \"name\": \"2012\"}, {\"data\": [{\"cliponaxis\": false, \"hoverinfo\": \"all\", \"hovertemplate\": \"<extra></extra>\", \"marker\": {\"color\": [\"rgb(226, 101, 202)\", \"rgb(30, 140, 179)\", \"rgb(111, 8, 236)\", \"rgb(47, 1, 85)\", \"rgb(255, 217, 83)\", \"rgb(27, 6, 239)\", \"rgb(130, 181, 111)\", \"rgb(179, 68, 56)\", \"rgb(116, 5, 156)\", \"rgb(104, 239, 194)\"]}, \"orientation\": \"h\", \"textangle\": 0, \"textposition\": \"outside\", \"texttemplate\": \"%{y}<br>%{x:.4s}\", \"x\": [265060825.0, 277672608.0, 277982471.0, 278454322.0, 365087514.0, 495250794.0, 710397103.0, 742504938.0, 1016207182.0, 1901868866.0], \"y\": [\"Oil palm fruit\", \"Soybeans\", \"Vegetables, fresh nes\", \"Cassava\", \"Potatoes\", \"Rice, paddy (rice milled equivalent)\", \"Wheat\", \"Rice, paddy\", \"Maize\", \"Sugar cane\"], \"type\": \"bar\"}], \"layout\": {\"bargap\": 0.15, \"font\": {\"size\": 14}, \"plot_bgcolor\": \"#FFFFFF\", \"xaxis\": {\"range\": [0, 1907024730.0], \"showline\": true, \"visible\": true}, \"yaxis\": {\"showline\": false, \"visible\": true}}, \"name\": \"2013\"}, {\"data\": [{\"cliponaxis\": false, \"hoverinfo\": \"all\", \"hovertemplate\": \"<extra></extra>\", \"marker\": {\"color\": [\"rgb(111, 8, 236)\", \"rgb(226, 101, 202)\", \"rgb(47, 1, 85)\", \"rgb(30, 140, 179)\", \"rgb(255, 217, 83)\", \"rgb(27, 6, 239)\", \"rgb(130, 181, 111)\", \"rgb(179, 68, 56)\", \"rgb(116, 5, 156)\", \"rgb(104, 239, 194)\"]}, \"orientation\": \"h\", \"textangle\": 0, \"textposition\": \"outside\", \"texttemplate\": \"%{y}<br>%{x:.4s}\", \"x\": [285693443.0, 285916764.0, 290942989.0, 306348530.0, 369966532.0, 495216917.0, 728730126.0, 742454148.0, 1039226655.0, 1885955643.0], \"y\": [\"Vegetables, fresh nes\", \"Oil palm fruit\", \"Cassava\", \"Soybeans\", \"Potatoes\", \"Rice, paddy (rice milled equivalent)\", \"Wheat\", \"Rice, paddy\", \"Maize\", \"Sugar cane\"], \"type\": \"bar\"}], \"layout\": {\"bargap\": 0.15, \"font\": {\"size\": 14}, \"plot_bgcolor\": \"#FFFFFF\", \"xaxis\": {\"range\": [0, 1907024730.0], \"showline\": true, \"visible\": true}, \"yaxis\": {\"showline\": false, \"visible\": true}}, \"name\": \"2014\"}, {\"data\": [{\"cliponaxis\": false, \"hoverinfo\": \"all\", \"hovertemplate\": \"<extra></extra>\", \"marker\": {\"color\": [\"rgb(111, 8, 236)\", \"rgb(47, 1, 85)\", \"rgb(226, 101, 202)\", \"rgb(30, 140, 179)\", \"rgb(255, 217, 83)\", \"rgb(27, 6, 239)\", \"rgb(130, 181, 111)\", \"rgb(179, 68, 56)\", \"rgb(116, 5, 156)\", \"rgb(104, 239, 194)\"]}, \"orientation\": \"h\", \"textangle\": 0, \"textposition\": \"outside\", \"texttemplate\": \"%{y}<br>%{x:.4s}\", \"x\": [288931169.0, 293010305.0, 300284643.0, 323306702.0, 365748227.0, 497518927.0, 741643258.0, 745905437.0, 1052127378.0, 1875060932.0], \"y\": [\"Vegetables, fresh nes\", \"Cassava\", \"Oil palm fruit\", \"Soybeans\", \"Potatoes\", \"Rice, paddy (rice milled equivalent)\", \"Wheat\", \"Rice, paddy\", \"Maize\", \"Sugar cane\"], \"type\": \"bar\"}], \"layout\": {\"bargap\": 0.15, \"font\": {\"size\": 14}, \"plot_bgcolor\": \"#FFFFFF\", \"xaxis\": {\"range\": [0, 1907024730.0], \"showline\": true, \"visible\": true}, \"yaxis\": {\"showline\": false, \"visible\": true}}, \"name\": \"2015\"}, {\"data\": [{\"cliponaxis\": false, \"hoverinfo\": \"all\", \"hovertemplate\": \"<extra></extra>\", \"marker\": {\"color\": [\"rgb(28, 2, 204)\", \"rgb(47, 1, 85)\", \"rgb(111, 8, 236)\", \"rgb(30, 140, 179)\", \"rgb(255, 217, 83)\", \"rgb(27, 6, 239)\", \"rgb(130, 181, 111)\", \"rgb(179, 68, 56)\", \"rgb(116, 5, 156)\", \"rgb(104, 239, 194)\"]}, \"orientation\": \"h\", \"textangle\": 0, \"textposition\": \"outside\", \"texttemplate\": \"%{y}<br>%{x:.4s}\", \"x\": [278702349.0, 288497460.0, 292920885.0, 335613801.0, 356952488.0, 501507373.0, 748392150.0, 751885117.0, 1126990585.0, 1874611396.0], \"y\": [\"Sugar beet\", \"Cassava\", \"Vegetables, fresh nes\", \"Soybeans\", \"Potatoes\", \"Rice, paddy (rice milled equivalent)\", \"Wheat\", \"Rice, paddy\", \"Maize\", \"Sugar cane\"], \"type\": \"bar\"}], \"layout\": {\"bargap\": 0.15, \"font\": {\"size\": 14}, \"plot_bgcolor\": \"#FFFFFF\", \"xaxis\": {\"range\": [0, 1907024730.0], \"showline\": true, \"visible\": true}, \"yaxis\": {\"showline\": false, \"visible\": true}}, \"name\": \"2016\"}, {\"data\": [{\"cliponaxis\": false, \"hoverinfo\": \"all\", \"hovertemplate\": \"<extra></extra>\", \"marker\": {\"color\": [\"rgb(47, 1, 85)\", \"rgb(111, 8, 236)\", \"rgb(28, 2, 204)\", \"rgb(30, 140, 179)\", \"rgb(255, 217, 83)\", \"rgb(27, 6, 239)\", \"rgb(179, 68, 56)\", \"rgb(130, 181, 111)\", \"rgb(116, 5, 156)\", \"rgb(104, 239, 194)\"]}, \"orientation\": \"h\", \"textangle\": 0, \"textposition\": \"outside\", \"texttemplate\": \"%{y}<br>%{x:.4s}\", \"x\": [279304523.0, 294934038.0, 310374816.0, 353026796.0, 373774234.0, 513476024.0, 769829121.0, 773476524.0, 1164400832.0, 1851333716.0], \"y\": [\"Cassava\", \"Vegetables, fresh nes\", \"Sugar beet\", \"Soybeans\", \"Potatoes\", \"Rice, paddy (rice milled equivalent)\", \"Rice, paddy\", \"Wheat\", \"Maize\", \"Sugar cane\"], \"type\": \"bar\"}], \"layout\": {\"bargap\": 0.15, \"font\": {\"size\": 14}, \"plot_bgcolor\": \"#FFFFFF\", \"xaxis\": {\"range\": [0, 1907024730.0], \"showline\": true, \"visible\": true}, \"yaxis\": {\"showline\": false, \"visible\": true}}, \"name\": \"2017\"}, {\"data\": [{\"cliponaxis\": false, \"hoverinfo\": \"all\", \"hovertemplate\": \"<extra></extra>\", \"marker\": {\"color\": [\"rgb(28, 2, 204)\", \"rgb(47, 1, 85)\", \"rgb(111, 8, 236)\", \"rgb(30, 140, 179)\", \"rgb(255, 217, 83)\", \"rgb(27, 6, 239)\", \"rgb(130, 181, 111)\", \"rgb(179, 68, 56)\", \"rgb(116, 5, 156)\", \"rgb(104, 239, 194)\"]}, \"orientation\": \"h\", \"textangle\": 0, \"textposition\": \"outside\", \"texttemplate\": \"%{y}<br>%{x:.4s}\", \"x\": [274886306.0, 277808759.0, 297596674.0, 348712311.0, 368168914.0, 521594098.0, 734045174.0, 782000147.0, 1147621938.0, 1907024730.0], \"y\": [\"Sugar beet\", \"Cassava\", \"Vegetables, fresh nes\", \"Soybeans\", \"Potatoes\", \"Rice, paddy (rice milled equivalent)\", \"Wheat\", \"Rice, paddy\", \"Maize\", \"Sugar cane\"], \"type\": \"bar\"}], \"layout\": {\"bargap\": 0.15, \"font\": {\"size\": 14}, \"plot_bgcolor\": \"#FFFFFF\", \"xaxis\": {\"range\": [0, 1907024730.0], \"showline\": true, \"visible\": true}, \"yaxis\": {\"showline\": false, \"visible\": true}}, \"name\": \"2018\"}]);\n",
       "                        }).then(function(){\n",
       "                            \n",
       "var gd = document.getElementById('feac6c97-82f9-415b-81c7-2d744a174758');\n",
       "var x = new MutationObserver(function (mutations, observer) {{\n",
       "        var display = window.getComputedStyle(gd).display;\n",
       "        if (!display || display === 'none') {{\n",
       "            console.log([gd, 'removed!']);\n",
       "            Plotly.purge(gd);\n",
       "            observer.disconnect();\n",
       "        }}\n",
       "}});\n",
       "\n",
       "// Listen for the removal of the full notebook cells\n",
       "var notebookContainer = gd.closest('#notebook-container');\n",
       "if (notebookContainer) {{\n",
       "    x.observe(notebookContainer, {childList: true});\n",
       "}}\n",
       "\n",
       "// Listen for the clearing of the current output cell\n",
       "var outputEl = gd.closest('.output');\n",
       "if (outputEl) {{\n",
       "    x.observe(outputEl, {childList: true});\n",
       "}}\n",
       "\n",
       "                        })                };                });            </script>        </div>"
      ]
     },
     "metadata": {},
     "output_type": "display_data"
    }
   ],
   "source": [
    "plot"
   ]
  },
  {
   "cell_type": "code",
   "execution_count": 5,
   "metadata": {
    "ExecuteTime": {
     "end_time": "2021-12-06T22:16:49.314030Z",
     "start_time": "2021-12-06T22:16:49.157582Z"
    }
   },
   "outputs": [],
   "source": [
    "from matplotlib import animation, rc\n",
    "from IPython.display import HTML, Image\n",
    "\n",
    "rc('animation', html='html5')\n"
   ]
  },
  {
   "cell_type": "code",
   "execution_count": 7,
   "metadata": {
    "ExecuteTime": {
     "end_time": "2021-12-06T22:19:30.154213Z",
     "start_time": "2021-12-06T22:19:30.130304Z"
    }
   },
   "outputs": [
    {
     "ename": "AttributeError",
     "evalue": "'barplot' object has no attribute 'save'",
     "output_type": "error",
     "traceback": [
      "\u001b[1;31m---------------------------------------------------------------------------\u001b[0m",
      "\u001b[1;31mAttributeError\u001b[0m                            Traceback (most recent call last)",
      "\u001b[1;32m<ipython-input-7-6d25ff52e218>\u001b[0m in \u001b[0;36m<module>\u001b[1;34m\u001b[0m\n\u001b[1;32m----> 1\u001b[1;33m \u001b[0mmy_raceplot\u001b[0m\u001b[1;33m.\u001b[0m\u001b[0msave\u001b[0m\u001b[1;33m(\u001b[0m\u001b[1;34m'mymovie.mp4'\u001b[0m\u001b[1;33m,\u001b[0m\u001b[0mwriter\u001b[0m\u001b[1;33m=\u001b[0m\u001b[0manimation\u001b[0m\u001b[1;33m.\u001b[0m\u001b[0mFFMpegWriter\u001b[0m\u001b[1;33m(\u001b[0m\u001b[0mfps\u001b[0m\u001b[1;33m=\u001b[0m\u001b[1;36m10\u001b[0m\u001b[1;33m)\u001b[0m\u001b[1;33m)\u001b[0m\u001b[1;33m\u001b[0m\u001b[1;33m\u001b[0m\u001b[0m\n\u001b[0m",
      "\u001b[1;31mAttributeError\u001b[0m: 'barplot' object has no attribute 'save'"
     ]
    }
   ],
   "source": [
    "my_raceplot.save('mymovie.mp4',writer=animation.FFMpegWriter(fps=10))"
   ]
  },
  {
   "cell_type": "code",
   "execution_count": null,
   "metadata": {},
   "outputs": [],
   "source": []
  }
 ],
 "metadata": {
  "kernelspec": {
   "display_name": "Python 3",
   "language": "python",
   "name": "python3"
  },
  "language_info": {
   "codemirror_mode": {
    "name": "ipython",
    "version": 3
   },
   "file_extension": ".py",
   "mimetype": "text/x-python",
   "name": "python",
   "nbconvert_exporter": "python",
   "pygments_lexer": "ipython3",
   "version": "3.8.3"
  },
  "latex_envs": {
   "LaTeX_envs_menu_present": true,
   "autoclose": false,
   "autocomplete": true,
   "bibliofile": "biblio.bib",
   "cite_by": "apalike",
   "current_citInitial": 1,
   "eqLabelWithNumbers": true,
   "eqNumInitial": 1,
   "hotkeys": {
    "equation": "Ctrl-E",
    "itemize": "Ctrl-I"
   },
   "labels_anchors": false,
   "latex_user_defs": false,
   "report_style_numbering": false,
   "user_envs_cfg": false
  },
  "toc": {
   "base_numbering": 1,
   "nav_menu": {},
   "number_sections": true,
   "sideBar": true,
   "skip_h1_title": false,
   "title_cell": "Table of Contents",
   "title_sidebar": "Contents",
   "toc_cell": false,
   "toc_position": {},
   "toc_section_display": true,
   "toc_window_display": false
  },
  "varInspector": {
   "cols": {
    "lenName": 16,
    "lenType": 16,
    "lenVar": 40
   },
   "kernels_config": {
    "python": {
     "delete_cmd_postfix": "",
     "delete_cmd_prefix": "del ",
     "library": "var_list.py",
     "varRefreshCmd": "print(var_dic_list())"
    },
    "r": {
     "delete_cmd_postfix": ") ",
     "delete_cmd_prefix": "rm(",
     "library": "var_list.r",
     "varRefreshCmd": "cat(var_dic_list()) "
    }
   },
   "types_to_exclude": [
    "module",
    "function",
    "builtin_function_or_method",
    "instance",
    "_Feature"
   ],
   "window_display": false
  }
 },
 "nbformat": 4,
 "nbformat_minor": 4
}
